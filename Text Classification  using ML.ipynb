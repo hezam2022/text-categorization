{
  "cells": [
    {
      "cell_type": "markdown",
      "metadata": {
        "id": "-uuEp8ySKVJD"
      },
      "source": [
        "https://github.com/MuhammadHelmyOmar/SANAD_Text_Classification/blob/main/ProjectDataExtraction%20(1).ipynb"
      ]
    },
    {
      "cell_type": "markdown",
      "metadata": {
        "id": "pGK4KwsSELVf"
      },
      "source": [
        "# Reading Dataset"
      ]
    },
    {
      "cell_type": "code",
      "execution_count": null,
      "metadata": {
        "colab": {
          "base_uri": "https://localhost:8080/"
        },
        "id": "amAa3EVmGxwi",
        "outputId": "a2ef977a-72ae-43c9-fd00-8a7de94f4184"
      },
      "outputs": [
        {
          "output_type": "stream",
          "name": "stdout",
          "text": [
            "Mounted at /content/drive\n"
          ]
        }
      ],
      "source": [
        "from google.colab import drive\n",
        "drive.mount('/content/drive')"
      ]
    },
    {
      "cell_type": "code",
      "execution_count": null,
      "metadata": {
        "id": "izH2b272IgIO"
      },
      "outputs": [],
      "source": [
        "import os\n",
        "import codecs\n",
        "import pandas as pd"
      ]
    },
    {
      "cell_type": "code",
      "execution_count": null,
      "metadata": {
        "colab": {
          "base_uri": "https://localhost:8080/"
        },
        "id": "rxU_nb-LGyWZ",
        "outputId": "e9ec3735-d8df-4d83-ef75-47a11521842f"
      },
      "outputs": [
        {
          "output_type": "execute_result",
          "data": {
            "text/plain": [
              "['Culture',\n",
              " 'Finance',\n",
              " 'Medical',\n",
              " 'Politics',\n",
              " 'Religion',\n",
              " 'Sports',\n",
              " 'Tech',\n",
              " '.ipynb_checkpoints']"
            ]
          },
          "metadata": {},
          "execution_count": 3
        }
      ],
      "source": [
        "topics = os.listdir('/content/drive/MyDrive/sanad-dataset')\n",
        "topics"
      ]
    },
    {
      "cell_type": "markdown",
      "metadata": {
        "id": "GxyXSrnDIn-Y"
      },
      "source": [
        "**Extracting data from the folders and files**"
      ]
    },
    {
      "cell_type": "code",
      "execution_count": null,
      "metadata": {
        "id": "2iayf8GbIpZw"
      },
      "outputs": [],
      "source": [
        "'''\n",
        "dataset,y=[],[]\n",
        "for topic in topics:\n",
        "  articles = [article for article in os.listdir(f'/content/drive/MyDrive/sanad-dataset/{topic}')]\n",
        "  for article in articles:\n",
        "    str1= \"\"\n",
        "    f=codecs.open(f'/content/drive/MyDrive/sanad-dataset/{topic}/{article}', 'r',encoding='utf-8')\n",
        "    dataset.append(str1.join(f.readlines()))\n",
        "    y.append(topic)\n",
        "'''"
      ]
    },
    {
      "cell_type": "code",
      "execution_count": null,
      "metadata": {
        "id": "hYu6SbGaJRiH"
      },
      "outputs": [],
      "source": [
        "'''\n",
        "df = pd.DataFrame(list(zip(dataset,y)),columns=['text','class'])\n",
        "df.to_csv('/content/drive/MyDrive/sanad-dataset.csv',encoding='utf-8')\n",
        "df['text'][2]\n",
        "'''"
      ]
    },
    {
      "cell_type": "code",
      "execution_count": null,
      "metadata": {
        "colab": {
          "base_uri": "https://localhost:8080/"
        },
        "id": "j-XkZEy9zskX",
        "outputId": "f3f7d00c-c08d-41fa-83fb-89a561dead41"
      },
      "outputs": [
        {
          "output_type": "execute_result",
          "data": {
            "text/plain": [
              "(45500, 2)"
            ]
          },
          "metadata": {},
          "execution_count": 4
        }
      ],
      "source": [
        "import pandas as pd\n",
        "dataset= pd.read_csv('/content/drive/MyDrive/sanad-dataset.csv')\n",
        "dataset.drop(dataset.columns[0], axis=1, inplace=True)\n",
        "dataset.head()\n",
        "dataset.shape"
      ]
    },
    {
      "cell_type": "code",
      "execution_count": null,
      "metadata": {
        "colab": {
          "base_uri": "https://localhost:8080/",
          "height": 206
        },
        "id": "tiAqYCwaAFd_",
        "outputId": "b557a6bd-c609-4460-9883-8dafa31b0538"
      },
      "outputs": [
        {
          "output_type": "execute_result",
          "data": {
            "text/plain": [
              "                                                text    class\n",
              "0  يدين الشباب في هذا الزمن للتكنولوجيا ومستجداته...  Culture\n",
              "1  نعت النخبة السياسية والثقافية الموريتانية الرا...  Culture\n",
              "2  فتحت الأمانة العامة لجائزة الشيخ زايد العالمية...  Culture\n",
              "3  الشارقة: عثمان حسن لن نجد نقاشاً فلسفياً أكثر ...  Culture\n",
              "4  تستضيف دار أوبرا دبي عند الساعة السادسة من مسا...  Culture"
            ],
            "text/html": [
              "\n",
              "  <div id=\"df-043f0bca-573b-4f9e-9d53-71231dd5aee3\" class=\"colab-df-container\">\n",
              "    <div>\n",
              "<style scoped>\n",
              "    .dataframe tbody tr th:only-of-type {\n",
              "        vertical-align: middle;\n",
              "    }\n",
              "\n",
              "    .dataframe tbody tr th {\n",
              "        vertical-align: top;\n",
              "    }\n",
              "\n",
              "    .dataframe thead th {\n",
              "        text-align: right;\n",
              "    }\n",
              "</style>\n",
              "<table border=\"1\" class=\"dataframe\">\n",
              "  <thead>\n",
              "    <tr style=\"text-align: right;\">\n",
              "      <th></th>\n",
              "      <th>text</th>\n",
              "      <th>class</th>\n",
              "    </tr>\n",
              "  </thead>\n",
              "  <tbody>\n",
              "    <tr>\n",
              "      <th>0</th>\n",
              "      <td>يدين الشباب في هذا الزمن للتكنولوجيا ومستجداته...</td>\n",
              "      <td>Culture</td>\n",
              "    </tr>\n",
              "    <tr>\n",
              "      <th>1</th>\n",
              "      <td>نعت النخبة السياسية والثقافية الموريتانية الرا...</td>\n",
              "      <td>Culture</td>\n",
              "    </tr>\n",
              "    <tr>\n",
              "      <th>2</th>\n",
              "      <td>فتحت الأمانة العامة لجائزة الشيخ زايد العالمية...</td>\n",
              "      <td>Culture</td>\n",
              "    </tr>\n",
              "    <tr>\n",
              "      <th>3</th>\n",
              "      <td>الشارقة: عثمان حسن لن نجد نقاشاً فلسفياً أكثر ...</td>\n",
              "      <td>Culture</td>\n",
              "    </tr>\n",
              "    <tr>\n",
              "      <th>4</th>\n",
              "      <td>تستضيف دار أوبرا دبي عند الساعة السادسة من مسا...</td>\n",
              "      <td>Culture</td>\n",
              "    </tr>\n",
              "  </tbody>\n",
              "</table>\n",
              "</div>\n",
              "    <div class=\"colab-df-buttons\">\n",
              "\n",
              "  <div class=\"colab-df-container\">\n",
              "    <button class=\"colab-df-convert\" onclick=\"convertToInteractive('df-043f0bca-573b-4f9e-9d53-71231dd5aee3')\"\n",
              "            title=\"Convert this dataframe to an interactive table.\"\n",
              "            style=\"display:none;\">\n",
              "\n",
              "  <svg xmlns=\"http://www.w3.org/2000/svg\" height=\"24px\" viewBox=\"0 -960 960 960\">\n",
              "    <path d=\"M120-120v-720h720v720H120Zm60-500h600v-160H180v160Zm220 220h160v-160H400v160Zm0 220h160v-160H400v160ZM180-400h160v-160H180v160Zm440 0h160v-160H620v160ZM180-180h160v-160H180v160Zm440 0h160v-160H620v160Z\"/>\n",
              "  </svg>\n",
              "    </button>\n",
              "\n",
              "  <style>\n",
              "    .colab-df-container {\n",
              "      display:flex;\n",
              "      gap: 12px;\n",
              "    }\n",
              "\n",
              "    .colab-df-convert {\n",
              "      background-color: #E8F0FE;\n",
              "      border: none;\n",
              "      border-radius: 50%;\n",
              "      cursor: pointer;\n",
              "      display: none;\n",
              "      fill: #1967D2;\n",
              "      height: 32px;\n",
              "      padding: 0 0 0 0;\n",
              "      width: 32px;\n",
              "    }\n",
              "\n",
              "    .colab-df-convert:hover {\n",
              "      background-color: #E2EBFA;\n",
              "      box-shadow: 0px 1px 2px rgba(60, 64, 67, 0.3), 0px 1px 3px 1px rgba(60, 64, 67, 0.15);\n",
              "      fill: #174EA6;\n",
              "    }\n",
              "\n",
              "    .colab-df-buttons div {\n",
              "      margin-bottom: 4px;\n",
              "    }\n",
              "\n",
              "    [theme=dark] .colab-df-convert {\n",
              "      background-color: #3B4455;\n",
              "      fill: #D2E3FC;\n",
              "    }\n",
              "\n",
              "    [theme=dark] .colab-df-convert:hover {\n",
              "      background-color: #434B5C;\n",
              "      box-shadow: 0px 1px 3px 1px rgba(0, 0, 0, 0.15);\n",
              "      filter: drop-shadow(0px 1px 2px rgba(0, 0, 0, 0.3));\n",
              "      fill: #FFFFFF;\n",
              "    }\n",
              "  </style>\n",
              "\n",
              "    <script>\n",
              "      const buttonEl =\n",
              "        document.querySelector('#df-043f0bca-573b-4f9e-9d53-71231dd5aee3 button.colab-df-convert');\n",
              "      buttonEl.style.display =\n",
              "        google.colab.kernel.accessAllowed ? 'block' : 'none';\n",
              "\n",
              "      async function convertToInteractive(key) {\n",
              "        const element = document.querySelector('#df-043f0bca-573b-4f9e-9d53-71231dd5aee3');\n",
              "        const dataTable =\n",
              "          await google.colab.kernel.invokeFunction('convertToInteractive',\n",
              "                                                    [key], {});\n",
              "        if (!dataTable) return;\n",
              "\n",
              "        const docLinkHtml = 'Like what you see? Visit the ' +\n",
              "          '<a target=\"_blank\" href=https://colab.research.google.com/notebooks/data_table.ipynb>data table notebook</a>'\n",
              "          + ' to learn more about interactive tables.';\n",
              "        element.innerHTML = '';\n",
              "        dataTable['output_type'] = 'display_data';\n",
              "        await google.colab.output.renderOutput(dataTable, element);\n",
              "        const docLink = document.createElement('div');\n",
              "        docLink.innerHTML = docLinkHtml;\n",
              "        element.appendChild(docLink);\n",
              "      }\n",
              "    </script>\n",
              "  </div>\n",
              "\n",
              "\n",
              "<div id=\"df-bd44e56e-0ace-4e49-ad7b-53efff4ea2c6\">\n",
              "  <button class=\"colab-df-quickchart\" onclick=\"quickchart('df-bd44e56e-0ace-4e49-ad7b-53efff4ea2c6')\"\n",
              "            title=\"Suggest charts.\"\n",
              "            style=\"display:none;\">\n",
              "\n",
              "<svg xmlns=\"http://www.w3.org/2000/svg\" height=\"24px\"viewBox=\"0 0 24 24\"\n",
              "     width=\"24px\">\n",
              "    <g>\n",
              "        <path d=\"M19 3H5c-1.1 0-2 .9-2 2v14c0 1.1.9 2 2 2h14c1.1 0 2-.9 2-2V5c0-1.1-.9-2-2-2zM9 17H7v-7h2v7zm4 0h-2V7h2v10zm4 0h-2v-4h2v4z\"/>\n",
              "    </g>\n",
              "</svg>\n",
              "  </button>\n",
              "\n",
              "<style>\n",
              "  .colab-df-quickchart {\n",
              "    background-color: #E8F0FE;\n",
              "    border: none;\n",
              "    border-radius: 50%;\n",
              "    cursor: pointer;\n",
              "    display: none;\n",
              "    fill: #1967D2;\n",
              "    height: 32px;\n",
              "    padding: 0 0 0 0;\n",
              "    width: 32px;\n",
              "  }\n",
              "\n",
              "  .colab-df-quickchart:hover {\n",
              "    background-color: #E2EBFA;\n",
              "    box-shadow: 0px 1px 2px rgba(60, 64, 67, 0.3), 0px 1px 3px 1px rgba(60, 64, 67, 0.15);\n",
              "    fill: #174EA6;\n",
              "  }\n",
              "\n",
              "  [theme=dark] .colab-df-quickchart {\n",
              "    background-color: #3B4455;\n",
              "    fill: #D2E3FC;\n",
              "  }\n",
              "\n",
              "  [theme=dark] .colab-df-quickchart:hover {\n",
              "    background-color: #434B5C;\n",
              "    box-shadow: 0px 1px 3px 1px rgba(0, 0, 0, 0.15);\n",
              "    filter: drop-shadow(0px 1px 2px rgba(0, 0, 0, 0.3));\n",
              "    fill: #FFFFFF;\n",
              "  }\n",
              "</style>\n",
              "\n",
              "  <script>\n",
              "    async function quickchart(key) {\n",
              "      const charts = await google.colab.kernel.invokeFunction(\n",
              "          'suggestCharts', [key], {});\n",
              "    }\n",
              "    (() => {\n",
              "      let quickchartButtonEl =\n",
              "        document.querySelector('#df-bd44e56e-0ace-4e49-ad7b-53efff4ea2c6 button');\n",
              "      quickchartButtonEl.style.display =\n",
              "        google.colab.kernel.accessAllowed ? 'block' : 'none';\n",
              "    })();\n",
              "  </script>\n",
              "</div>\n",
              "    </div>\n",
              "  </div>\n"
            ]
          },
          "metadata": {},
          "execution_count": 5
        }
      ],
      "source": [
        "dataset.dropna(axis=0,inplace=True)\n",
        "dataset.head()"
      ]
    },
    {
      "cell_type": "code",
      "execution_count": null,
      "metadata": {
        "colab": {
          "base_uri": "https://localhost:8080/",
          "height": 331
        },
        "id": "iCYUnWItA0L6",
        "outputId": "a8cc7038-bc1e-4bb5-b58b-ad3050114c0a"
      },
      "outputs": [
        {
          "output_type": "stream",
          "name": "stdout",
          "text": [
            "<class 'pandas.core.frame.DataFrame'>\n",
            "RangeIndex: 45500 entries, 0 to 45499\n",
            "Data columns (total 2 columns):\n",
            " #   Column  Non-Null Count  Dtype \n",
            "---  ------  --------------  ----- \n",
            " 0   text    45500 non-null  object\n",
            " 1   class   45500 non-null  object\n",
            "dtypes: object(2)\n",
            "memory usage: 711.1+ KB\n"
          ]
        },
        {
          "output_type": "execute_result",
          "data": {
            "text/plain": [
              "                                                     text    class\n",
              "count                                               45500    45500\n",
              "unique                                              45485        7\n",
              "top     إعداد: محمد صالح القرق دخل على رسول الله- صلى ...  Culture\n",
              "freq                                                    3     6500"
            ],
            "text/html": [
              "\n",
              "  <div id=\"df-6953af79-dbfc-4bc4-a748-b6d004ba205e\" class=\"colab-df-container\">\n",
              "    <div>\n",
              "<style scoped>\n",
              "    .dataframe tbody tr th:only-of-type {\n",
              "        vertical-align: middle;\n",
              "    }\n",
              "\n",
              "    .dataframe tbody tr th {\n",
              "        vertical-align: top;\n",
              "    }\n",
              "\n",
              "    .dataframe thead th {\n",
              "        text-align: right;\n",
              "    }\n",
              "</style>\n",
              "<table border=\"1\" class=\"dataframe\">\n",
              "  <thead>\n",
              "    <tr style=\"text-align: right;\">\n",
              "      <th></th>\n",
              "      <th>text</th>\n",
              "      <th>class</th>\n",
              "    </tr>\n",
              "  </thead>\n",
              "  <tbody>\n",
              "    <tr>\n",
              "      <th>count</th>\n",
              "      <td>45500</td>\n",
              "      <td>45500</td>\n",
              "    </tr>\n",
              "    <tr>\n",
              "      <th>unique</th>\n",
              "      <td>45485</td>\n",
              "      <td>7</td>\n",
              "    </tr>\n",
              "    <tr>\n",
              "      <th>top</th>\n",
              "      <td>إعداد: محمد صالح القرق دخل على رسول الله- صلى ...</td>\n",
              "      <td>Culture</td>\n",
              "    </tr>\n",
              "    <tr>\n",
              "      <th>freq</th>\n",
              "      <td>3</td>\n",
              "      <td>6500</td>\n",
              "    </tr>\n",
              "  </tbody>\n",
              "</table>\n",
              "</div>\n",
              "    <div class=\"colab-df-buttons\">\n",
              "\n",
              "  <div class=\"colab-df-container\">\n",
              "    <button class=\"colab-df-convert\" onclick=\"convertToInteractive('df-6953af79-dbfc-4bc4-a748-b6d004ba205e')\"\n",
              "            title=\"Convert this dataframe to an interactive table.\"\n",
              "            style=\"display:none;\">\n",
              "\n",
              "  <svg xmlns=\"http://www.w3.org/2000/svg\" height=\"24px\" viewBox=\"0 -960 960 960\">\n",
              "    <path d=\"M120-120v-720h720v720H120Zm60-500h600v-160H180v160Zm220 220h160v-160H400v160Zm0 220h160v-160H400v160ZM180-400h160v-160H180v160Zm440 0h160v-160H620v160ZM180-180h160v-160H180v160Zm440 0h160v-160H620v160Z\"/>\n",
              "  </svg>\n",
              "    </button>\n",
              "\n",
              "  <style>\n",
              "    .colab-df-container {\n",
              "      display:flex;\n",
              "      gap: 12px;\n",
              "    }\n",
              "\n",
              "    .colab-df-convert {\n",
              "      background-color: #E8F0FE;\n",
              "      border: none;\n",
              "      border-radius: 50%;\n",
              "      cursor: pointer;\n",
              "      display: none;\n",
              "      fill: #1967D2;\n",
              "      height: 32px;\n",
              "      padding: 0 0 0 0;\n",
              "      width: 32px;\n",
              "    }\n",
              "\n",
              "    .colab-df-convert:hover {\n",
              "      background-color: #E2EBFA;\n",
              "      box-shadow: 0px 1px 2px rgba(60, 64, 67, 0.3), 0px 1px 3px 1px rgba(60, 64, 67, 0.15);\n",
              "      fill: #174EA6;\n",
              "    }\n",
              "\n",
              "    .colab-df-buttons div {\n",
              "      margin-bottom: 4px;\n",
              "    }\n",
              "\n",
              "    [theme=dark] .colab-df-convert {\n",
              "      background-color: #3B4455;\n",
              "      fill: #D2E3FC;\n",
              "    }\n",
              "\n",
              "    [theme=dark] .colab-df-convert:hover {\n",
              "      background-color: #434B5C;\n",
              "      box-shadow: 0px 1px 3px 1px rgba(0, 0, 0, 0.15);\n",
              "      filter: drop-shadow(0px 1px 2px rgba(0, 0, 0, 0.3));\n",
              "      fill: #FFFFFF;\n",
              "    }\n",
              "  </style>\n",
              "\n",
              "    <script>\n",
              "      const buttonEl =\n",
              "        document.querySelector('#df-6953af79-dbfc-4bc4-a748-b6d004ba205e button.colab-df-convert');\n",
              "      buttonEl.style.display =\n",
              "        google.colab.kernel.accessAllowed ? 'block' : 'none';\n",
              "\n",
              "      async function convertToInteractive(key) {\n",
              "        const element = document.querySelector('#df-6953af79-dbfc-4bc4-a748-b6d004ba205e');\n",
              "        const dataTable =\n",
              "          await google.colab.kernel.invokeFunction('convertToInteractive',\n",
              "                                                    [key], {});\n",
              "        if (!dataTable) return;\n",
              "\n",
              "        const docLinkHtml = 'Like what you see? Visit the ' +\n",
              "          '<a target=\"_blank\" href=https://colab.research.google.com/notebooks/data_table.ipynb>data table notebook</a>'\n",
              "          + ' to learn more about interactive tables.';\n",
              "        element.innerHTML = '';\n",
              "        dataTable['output_type'] = 'display_data';\n",
              "        await google.colab.output.renderOutput(dataTable, element);\n",
              "        const docLink = document.createElement('div');\n",
              "        docLink.innerHTML = docLinkHtml;\n",
              "        element.appendChild(docLink);\n",
              "      }\n",
              "    </script>\n",
              "  </div>\n",
              "\n",
              "\n",
              "<div id=\"df-855bcd14-1245-4950-93d3-331a9a256f4c\">\n",
              "  <button class=\"colab-df-quickchart\" onclick=\"quickchart('df-855bcd14-1245-4950-93d3-331a9a256f4c')\"\n",
              "            title=\"Suggest charts.\"\n",
              "            style=\"display:none;\">\n",
              "\n",
              "<svg xmlns=\"http://www.w3.org/2000/svg\" height=\"24px\"viewBox=\"0 0 24 24\"\n",
              "     width=\"24px\">\n",
              "    <g>\n",
              "        <path d=\"M19 3H5c-1.1 0-2 .9-2 2v14c0 1.1.9 2 2 2h14c1.1 0 2-.9 2-2V5c0-1.1-.9-2-2-2zM9 17H7v-7h2v7zm4 0h-2V7h2v10zm4 0h-2v-4h2v4z\"/>\n",
              "    </g>\n",
              "</svg>\n",
              "  </button>\n",
              "\n",
              "<style>\n",
              "  .colab-df-quickchart {\n",
              "    background-color: #E8F0FE;\n",
              "    border: none;\n",
              "    border-radius: 50%;\n",
              "    cursor: pointer;\n",
              "    display: none;\n",
              "    fill: #1967D2;\n",
              "    height: 32px;\n",
              "    padding: 0 0 0 0;\n",
              "    width: 32px;\n",
              "  }\n",
              "\n",
              "  .colab-df-quickchart:hover {\n",
              "    background-color: #E2EBFA;\n",
              "    box-shadow: 0px 1px 2px rgba(60, 64, 67, 0.3), 0px 1px 3px 1px rgba(60, 64, 67, 0.15);\n",
              "    fill: #174EA6;\n",
              "  }\n",
              "\n",
              "  [theme=dark] .colab-df-quickchart {\n",
              "    background-color: #3B4455;\n",
              "    fill: #D2E3FC;\n",
              "  }\n",
              "\n",
              "  [theme=dark] .colab-df-quickchart:hover {\n",
              "    background-color: #434B5C;\n",
              "    box-shadow: 0px 1px 3px 1px rgba(0, 0, 0, 0.15);\n",
              "    filter: drop-shadow(0px 1px 2px rgba(0, 0, 0, 0.3));\n",
              "    fill: #FFFFFF;\n",
              "  }\n",
              "</style>\n",
              "\n",
              "  <script>\n",
              "    async function quickchart(key) {\n",
              "      const charts = await google.colab.kernel.invokeFunction(\n",
              "          'suggestCharts', [key], {});\n",
              "    }\n",
              "    (() => {\n",
              "      let quickchartButtonEl =\n",
              "        document.querySelector('#df-855bcd14-1245-4950-93d3-331a9a256f4c button');\n",
              "      quickchartButtonEl.style.display =\n",
              "        google.colab.kernel.accessAllowed ? 'block' : 'none';\n",
              "    })();\n",
              "  </script>\n",
              "</div>\n",
              "    </div>\n",
              "  </div>\n"
            ]
          },
          "metadata": {},
          "execution_count": 6
        }
      ],
      "source": [
        "dataset.info()\n",
        "dataset.describe()"
      ]
    },
    {
      "cell_type": "markdown",
      "metadata": {
        "id": "GdABL_pwOlFv"
      },
      "source": [
        "# Exploratory Data Analysis"
      ]
    },
    {
      "cell_type": "code",
      "execution_count": null,
      "metadata": {
        "colab": {
          "base_uri": "https://localhost:8080/"
        },
        "id": "HzzwH0oeNJ_s",
        "outputId": "e3bdb440-27c9-4d8b-deaa-2c32891218f5"
      },
      "outputs": [
        {
          "output_type": "stream",
          "name": "stderr",
          "text": [
            "[nltk_data] Downloading package stopwords to /root/nltk_data...\n",
            "[nltk_data]   Package stopwords is already up-to-date!\n"
          ]
        }
      ],
      "source": [
        "import nltk\n",
        "nltk.download('stopwords')\n",
        "stop=set(nltk.corpus.stopwords.words(\"arabic\"))"
      ]
    },
    {
      "cell_type": "code",
      "execution_count": null,
      "metadata": {
        "id": "3WtiX64tW2Ph"
      },
      "outputs": [],
      "source": [
        "# Text length analysis\n",
        "def avg_word(sentence):\n",
        "    words = sentence.split()\n",
        "    if len(words) == 0:\n",
        "        return 0\n",
        "    return (sum(len(word) for word in words)/len(words))"
      ]
    },
    {
      "cell_type": "code",
      "execution_count": null,
      "metadata": {
        "colab": {
          "base_uri": "https://localhost:8080/",
          "height": 206
        },
        "id": "NbgS9JsHO1Dv",
        "outputId": "ab5845de-1013-4bea-aa91-46e6c2d51661"
      },
      "outputs": [
        {
          "output_type": "execute_result",
          "data": {
            "text/plain": [
              "                                                    text    class  word_count  \\\n",
              "36350  تلتقي إسبانيا مع إيطاليا مساء اليوم في المبارا...   Sports        5786   \n",
              "8355   انطلاقاً من حرص إدارة سوق أبوظبي للأوراق المال...  Finance        3999   \n",
              "6685   سجل اجمالي موجودات البنوك التجارية السعودية نم...  Finance        3720   \n",
              "35160  تضم المجموعة الاولى كلاً من سويسرا وتشيكيا وال...   Sports        3658   \n",
              "39594  أبوظبي:مهند داغر كشف المهندس صالح عبد الله الع...     Tech        3523   \n",
              "\n",
              "       char_count  avg_char_per_word  stopwords  \n",
              "36350       33339           4.762185       1161  \n",
              "8355        24373           5.095024        792  \n",
              "6685        20464           4.501344        656  \n",
              "35160       22262           5.086113        592  \n",
              "39594       21974           5.237582        778  "
            ],
            "text/html": [
              "\n",
              "  <div id=\"df-9c3aa33f-0c5b-476e-bfc9-91b51d902644\" class=\"colab-df-container\">\n",
              "    <div>\n",
              "<style scoped>\n",
              "    .dataframe tbody tr th:only-of-type {\n",
              "        vertical-align: middle;\n",
              "    }\n",
              "\n",
              "    .dataframe tbody tr th {\n",
              "        vertical-align: top;\n",
              "    }\n",
              "\n",
              "    .dataframe thead th {\n",
              "        text-align: right;\n",
              "    }\n",
              "</style>\n",
              "<table border=\"1\" class=\"dataframe\">\n",
              "  <thead>\n",
              "    <tr style=\"text-align: right;\">\n",
              "      <th></th>\n",
              "      <th>text</th>\n",
              "      <th>class</th>\n",
              "      <th>word_count</th>\n",
              "      <th>char_count</th>\n",
              "      <th>avg_char_per_word</th>\n",
              "      <th>stopwords</th>\n",
              "    </tr>\n",
              "  </thead>\n",
              "  <tbody>\n",
              "    <tr>\n",
              "      <th>36350</th>\n",
              "      <td>تلتقي إسبانيا مع إيطاليا مساء اليوم في المبارا...</td>\n",
              "      <td>Sports</td>\n",
              "      <td>5786</td>\n",
              "      <td>33339</td>\n",
              "      <td>4.762185</td>\n",
              "      <td>1161</td>\n",
              "    </tr>\n",
              "    <tr>\n",
              "      <th>8355</th>\n",
              "      <td>انطلاقاً من حرص إدارة سوق أبوظبي للأوراق المال...</td>\n",
              "      <td>Finance</td>\n",
              "      <td>3999</td>\n",
              "      <td>24373</td>\n",
              "      <td>5.095024</td>\n",
              "      <td>792</td>\n",
              "    </tr>\n",
              "    <tr>\n",
              "      <th>6685</th>\n",
              "      <td>سجل اجمالي موجودات البنوك التجارية السعودية نم...</td>\n",
              "      <td>Finance</td>\n",
              "      <td>3720</td>\n",
              "      <td>20464</td>\n",
              "      <td>4.501344</td>\n",
              "      <td>656</td>\n",
              "    </tr>\n",
              "    <tr>\n",
              "      <th>35160</th>\n",
              "      <td>تضم المجموعة الاولى كلاً من سويسرا وتشيكيا وال...</td>\n",
              "      <td>Sports</td>\n",
              "      <td>3658</td>\n",
              "      <td>22262</td>\n",
              "      <td>5.086113</td>\n",
              "      <td>592</td>\n",
              "    </tr>\n",
              "    <tr>\n",
              "      <th>39594</th>\n",
              "      <td>أبوظبي:مهند داغر كشف المهندس صالح عبد الله الع...</td>\n",
              "      <td>Tech</td>\n",
              "      <td>3523</td>\n",
              "      <td>21974</td>\n",
              "      <td>5.237582</td>\n",
              "      <td>778</td>\n",
              "    </tr>\n",
              "  </tbody>\n",
              "</table>\n",
              "</div>\n",
              "    <div class=\"colab-df-buttons\">\n",
              "\n",
              "  <div class=\"colab-df-container\">\n",
              "    <button class=\"colab-df-convert\" onclick=\"convertToInteractive('df-9c3aa33f-0c5b-476e-bfc9-91b51d902644')\"\n",
              "            title=\"Convert this dataframe to an interactive table.\"\n",
              "            style=\"display:none;\">\n",
              "\n",
              "  <svg xmlns=\"http://www.w3.org/2000/svg\" height=\"24px\" viewBox=\"0 -960 960 960\">\n",
              "    <path d=\"M120-120v-720h720v720H120Zm60-500h600v-160H180v160Zm220 220h160v-160H400v160Zm0 220h160v-160H400v160ZM180-400h160v-160H180v160Zm440 0h160v-160H620v160ZM180-180h160v-160H180v160Zm440 0h160v-160H620v160Z\"/>\n",
              "  </svg>\n",
              "    </button>\n",
              "\n",
              "  <style>\n",
              "    .colab-df-container {\n",
              "      display:flex;\n",
              "      gap: 12px;\n",
              "    }\n",
              "\n",
              "    .colab-df-convert {\n",
              "      background-color: #E8F0FE;\n",
              "      border: none;\n",
              "      border-radius: 50%;\n",
              "      cursor: pointer;\n",
              "      display: none;\n",
              "      fill: #1967D2;\n",
              "      height: 32px;\n",
              "      padding: 0 0 0 0;\n",
              "      width: 32px;\n",
              "    }\n",
              "\n",
              "    .colab-df-convert:hover {\n",
              "      background-color: #E2EBFA;\n",
              "      box-shadow: 0px 1px 2px rgba(60, 64, 67, 0.3), 0px 1px 3px 1px rgba(60, 64, 67, 0.15);\n",
              "      fill: #174EA6;\n",
              "    }\n",
              "\n",
              "    .colab-df-buttons div {\n",
              "      margin-bottom: 4px;\n",
              "    }\n",
              "\n",
              "    [theme=dark] .colab-df-convert {\n",
              "      background-color: #3B4455;\n",
              "      fill: #D2E3FC;\n",
              "    }\n",
              "\n",
              "    [theme=dark] .colab-df-convert:hover {\n",
              "      background-color: #434B5C;\n",
              "      box-shadow: 0px 1px 3px 1px rgba(0, 0, 0, 0.15);\n",
              "      filter: drop-shadow(0px 1px 2px rgba(0, 0, 0, 0.3));\n",
              "      fill: #FFFFFF;\n",
              "    }\n",
              "  </style>\n",
              "\n",
              "    <script>\n",
              "      const buttonEl =\n",
              "        document.querySelector('#df-9c3aa33f-0c5b-476e-bfc9-91b51d902644 button.colab-df-convert');\n",
              "      buttonEl.style.display =\n",
              "        google.colab.kernel.accessAllowed ? 'block' : 'none';\n",
              "\n",
              "      async function convertToInteractive(key) {\n",
              "        const element = document.querySelector('#df-9c3aa33f-0c5b-476e-bfc9-91b51d902644');\n",
              "        const dataTable =\n",
              "          await google.colab.kernel.invokeFunction('convertToInteractive',\n",
              "                                                    [key], {});\n",
              "        if (!dataTable) return;\n",
              "\n",
              "        const docLinkHtml = 'Like what you see? Visit the ' +\n",
              "          '<a target=\"_blank\" href=https://colab.research.google.com/notebooks/data_table.ipynb>data table notebook</a>'\n",
              "          + ' to learn more about interactive tables.';\n",
              "        element.innerHTML = '';\n",
              "        dataTable['output_type'] = 'display_data';\n",
              "        await google.colab.output.renderOutput(dataTable, element);\n",
              "        const docLink = document.createElement('div');\n",
              "        docLink.innerHTML = docLinkHtml;\n",
              "        element.appendChild(docLink);\n",
              "      }\n",
              "    </script>\n",
              "  </div>\n",
              "\n",
              "\n",
              "<div id=\"df-3ac90698-546c-4c31-b208-55b7dba5292c\">\n",
              "  <button class=\"colab-df-quickchart\" onclick=\"quickchart('df-3ac90698-546c-4c31-b208-55b7dba5292c')\"\n",
              "            title=\"Suggest charts.\"\n",
              "            style=\"display:none;\">\n",
              "\n",
              "<svg xmlns=\"http://www.w3.org/2000/svg\" height=\"24px\"viewBox=\"0 0 24 24\"\n",
              "     width=\"24px\">\n",
              "    <g>\n",
              "        <path d=\"M19 3H5c-1.1 0-2 .9-2 2v14c0 1.1.9 2 2 2h14c1.1 0 2-.9 2-2V5c0-1.1-.9-2-2-2zM9 17H7v-7h2v7zm4 0h-2V7h2v10zm4 0h-2v-4h2v4z\"/>\n",
              "    </g>\n",
              "</svg>\n",
              "  </button>\n",
              "\n",
              "<style>\n",
              "  .colab-df-quickchart {\n",
              "    background-color: #E8F0FE;\n",
              "    border: none;\n",
              "    border-radius: 50%;\n",
              "    cursor: pointer;\n",
              "    display: none;\n",
              "    fill: #1967D2;\n",
              "    height: 32px;\n",
              "    padding: 0 0 0 0;\n",
              "    width: 32px;\n",
              "  }\n",
              "\n",
              "  .colab-df-quickchart:hover {\n",
              "    background-color: #E2EBFA;\n",
              "    box-shadow: 0px 1px 2px rgba(60, 64, 67, 0.3), 0px 1px 3px 1px rgba(60, 64, 67, 0.15);\n",
              "    fill: #174EA6;\n",
              "  }\n",
              "\n",
              "  [theme=dark] .colab-df-quickchart {\n",
              "    background-color: #3B4455;\n",
              "    fill: #D2E3FC;\n",
              "  }\n",
              "\n",
              "  [theme=dark] .colab-df-quickchart:hover {\n",
              "    background-color: #434B5C;\n",
              "    box-shadow: 0px 1px 3px 1px rgba(0, 0, 0, 0.15);\n",
              "    filter: drop-shadow(0px 1px 2px rgba(0, 0, 0, 0.3));\n",
              "    fill: #FFFFFF;\n",
              "  }\n",
              "</style>\n",
              "\n",
              "  <script>\n",
              "    async function quickchart(key) {\n",
              "      const charts = await google.colab.kernel.invokeFunction(\n",
              "          'suggestCharts', [key], {});\n",
              "    }\n",
              "    (() => {\n",
              "      let quickchartButtonEl =\n",
              "        document.querySelector('#df-3ac90698-546c-4c31-b208-55b7dba5292c button');\n",
              "      quickchartButtonEl.style.display =\n",
              "        google.colab.kernel.accessAllowed ? 'block' : 'none';\n",
              "    })();\n",
              "  </script>\n",
              "</div>\n",
              "    </div>\n",
              "  </div>\n"
            ]
          },
          "metadata": {},
          "execution_count": 10
        }
      ],
      "source": [
        "dataset['word_count']= dataset['text'].apply(lambda x:len(str(x).split(\" \")))\n",
        "dataset['char_count']= dataset['text'].str.len()\n",
        "dataset['avg_char_per_word'] = dataset['text'].apply(lambda x: avg_word(x))\n",
        "dataset['stopwords']=dataset['text'].apply(lambda x: len([y for y in x.split() if y in stop]))\n",
        "dataset=dataset.sort_values(by='word_count',ascending=[0])\n",
        "dataset.head()"
      ]
    },
    {
      "cell_type": "code",
      "execution_count": null,
      "metadata": {
        "id": "dkp0SThwoQcK"
      },
      "outputs": [],
      "source": [
        "#dataset_stat=dataset.mean(axis=0)\n",
        "#dataset_stat"
      ]
    },
    {
      "cell_type": "markdown",
      "metadata": {
        "id": "FcFoVv_4hX8x"
      },
      "source": [
        "# Text Preprocessing"
      ]
    },
    {
      "cell_type": "markdown",
      "metadata": {
        "id": "7WpbuPP53k1e"
      },
      "source": [
        "Punkt: It is a module in nltk used to tokenize text. It is made to learn parameters from a corpus in an unsupervised way that"
      ]
    },
    {
      "cell_type": "code",
      "execution_count": null,
      "metadata": {
        "colab": {
          "base_uri": "https://localhost:8080/"
        },
        "id": "oOv4yXK6F2gp",
        "outputId": "5f542421-7833-4202-cdac-a9b5dd8de13d"
      },
      "outputs": [
        {
          "output_type": "stream",
          "name": "stderr",
          "text": [
            "[nltk_data] Downloading package punkt to /root/nltk_data...\n",
            "[nltk_data]   Unzipping tokenizers/punkt.zip.\n"
          ]
        }
      ],
      "source": [
        "nltk.download('punkt')\n",
        "from nltk.corpus.reader.tagged import word_tokenize\n",
        "from nltk import tokenize"
      ]
    },
    {
      "cell_type": "code",
      "execution_count": null,
      "metadata": {
        "colab": {
          "base_uri": "https://localhost:8080/",
          "height": 206
        },
        "id": "oA53_qL2hbxE",
        "outputId": "879db5f6-b08b-4eac-d9af-e9b449655d95"
      },
      "outputs": [
        {
          "output_type": "execute_result",
          "data": {
            "text/plain": [
              "                                                    text    class  word_count  \\\n",
              "36350  تلتقي إسبانيا مع إيطاليا مساء اليوم في المبارا...   Sports        5786   \n",
              "8355   انطلاقاً من حرص إدارة سوق أبوظبي للأوراق المال...  Finance        3999   \n",
              "6685   سجل اجمالي موجودات البنوك التجارية السعودية نم...  Finance        3720   \n",
              "35160  تضم المجموعة الاولى كلاً من سويسرا وتشيكيا وال...   Sports        3658   \n",
              "39594  أبوظبي:مهند داغر كشف المهندس صالح عبد الله الع...     Tech        3523   \n",
              "\n",
              "       char_count  avg_char_per_word  stopwords  \\\n",
              "36350       33339           4.762185       1161   \n",
              "8355        24373           5.095024        792   \n",
              "6685        20464           4.501344        656   \n",
              "35160       22262           5.086113        592   \n",
              "39594       21974           5.237582        778   \n",
              "\n",
              "                                          noStop_article  \n",
              "36350  تلتقي إسبانيا إيطاليا اليوم المباراة النهائية ...  \n",
              "8355   انطلاقاً حرص إدارة سوق أبوظبي للأوراق المالية ...  \n",
              "6685   سجل اجمالي موجودات البنوك التجارية السعودية نم...  \n",
              "35160  تضم المجموعة الاولى كلاً سويسرا وتشيكيا والبرت...  \n",
              "39594  أبوظبي مهند داغر كشف المهندس صالح عبد الله الع...  "
            ],
            "text/html": [
              "\n",
              "  <div id=\"df-cb341821-f9a1-4d59-82f3-7f412b631c96\" class=\"colab-df-container\">\n",
              "    <div>\n",
              "<style scoped>\n",
              "    .dataframe tbody tr th:only-of-type {\n",
              "        vertical-align: middle;\n",
              "    }\n",
              "\n",
              "    .dataframe tbody tr th {\n",
              "        vertical-align: top;\n",
              "    }\n",
              "\n",
              "    .dataframe thead th {\n",
              "        text-align: right;\n",
              "    }\n",
              "</style>\n",
              "<table border=\"1\" class=\"dataframe\">\n",
              "  <thead>\n",
              "    <tr style=\"text-align: right;\">\n",
              "      <th></th>\n",
              "      <th>text</th>\n",
              "      <th>class</th>\n",
              "      <th>word_count</th>\n",
              "      <th>char_count</th>\n",
              "      <th>avg_char_per_word</th>\n",
              "      <th>stopwords</th>\n",
              "      <th>noStop_article</th>\n",
              "    </tr>\n",
              "  </thead>\n",
              "  <tbody>\n",
              "    <tr>\n",
              "      <th>36350</th>\n",
              "      <td>تلتقي إسبانيا مع إيطاليا مساء اليوم في المبارا...</td>\n",
              "      <td>Sports</td>\n",
              "      <td>5786</td>\n",
              "      <td>33339</td>\n",
              "      <td>4.762185</td>\n",
              "      <td>1161</td>\n",
              "      <td>تلتقي إسبانيا إيطاليا اليوم المباراة النهائية ...</td>\n",
              "    </tr>\n",
              "    <tr>\n",
              "      <th>8355</th>\n",
              "      <td>انطلاقاً من حرص إدارة سوق أبوظبي للأوراق المال...</td>\n",
              "      <td>Finance</td>\n",
              "      <td>3999</td>\n",
              "      <td>24373</td>\n",
              "      <td>5.095024</td>\n",
              "      <td>792</td>\n",
              "      <td>انطلاقاً حرص إدارة سوق أبوظبي للأوراق المالية ...</td>\n",
              "    </tr>\n",
              "    <tr>\n",
              "      <th>6685</th>\n",
              "      <td>سجل اجمالي موجودات البنوك التجارية السعودية نم...</td>\n",
              "      <td>Finance</td>\n",
              "      <td>3720</td>\n",
              "      <td>20464</td>\n",
              "      <td>4.501344</td>\n",
              "      <td>656</td>\n",
              "      <td>سجل اجمالي موجودات البنوك التجارية السعودية نم...</td>\n",
              "    </tr>\n",
              "    <tr>\n",
              "      <th>35160</th>\n",
              "      <td>تضم المجموعة الاولى كلاً من سويسرا وتشيكيا وال...</td>\n",
              "      <td>Sports</td>\n",
              "      <td>3658</td>\n",
              "      <td>22262</td>\n",
              "      <td>5.086113</td>\n",
              "      <td>592</td>\n",
              "      <td>تضم المجموعة الاولى كلاً سويسرا وتشيكيا والبرت...</td>\n",
              "    </tr>\n",
              "    <tr>\n",
              "      <th>39594</th>\n",
              "      <td>أبوظبي:مهند داغر كشف المهندس صالح عبد الله الع...</td>\n",
              "      <td>Tech</td>\n",
              "      <td>3523</td>\n",
              "      <td>21974</td>\n",
              "      <td>5.237582</td>\n",
              "      <td>778</td>\n",
              "      <td>أبوظبي مهند داغر كشف المهندس صالح عبد الله الع...</td>\n",
              "    </tr>\n",
              "  </tbody>\n",
              "</table>\n",
              "</div>\n",
              "    <div class=\"colab-df-buttons\">\n",
              "\n",
              "  <div class=\"colab-df-container\">\n",
              "    <button class=\"colab-df-convert\" onclick=\"convertToInteractive('df-cb341821-f9a1-4d59-82f3-7f412b631c96')\"\n",
              "            title=\"Convert this dataframe to an interactive table.\"\n",
              "            style=\"display:none;\">\n",
              "\n",
              "  <svg xmlns=\"http://www.w3.org/2000/svg\" height=\"24px\" viewBox=\"0 -960 960 960\">\n",
              "    <path d=\"M120-120v-720h720v720H120Zm60-500h600v-160H180v160Zm220 220h160v-160H400v160Zm0 220h160v-160H400v160ZM180-400h160v-160H180v160Zm440 0h160v-160H620v160ZM180-180h160v-160H180v160Zm440 0h160v-160H620v160Z\"/>\n",
              "  </svg>\n",
              "    </button>\n",
              "\n",
              "  <style>\n",
              "    .colab-df-container {\n",
              "      display:flex;\n",
              "      gap: 12px;\n",
              "    }\n",
              "\n",
              "    .colab-df-convert {\n",
              "      background-color: #E8F0FE;\n",
              "      border: none;\n",
              "      border-radius: 50%;\n",
              "      cursor: pointer;\n",
              "      display: none;\n",
              "      fill: #1967D2;\n",
              "      height: 32px;\n",
              "      padding: 0 0 0 0;\n",
              "      width: 32px;\n",
              "    }\n",
              "\n",
              "    .colab-df-convert:hover {\n",
              "      background-color: #E2EBFA;\n",
              "      box-shadow: 0px 1px 2px rgba(60, 64, 67, 0.3), 0px 1px 3px 1px rgba(60, 64, 67, 0.15);\n",
              "      fill: #174EA6;\n",
              "    }\n",
              "\n",
              "    .colab-df-buttons div {\n",
              "      margin-bottom: 4px;\n",
              "    }\n",
              "\n",
              "    [theme=dark] .colab-df-convert {\n",
              "      background-color: #3B4455;\n",
              "      fill: #D2E3FC;\n",
              "    }\n",
              "\n",
              "    [theme=dark] .colab-df-convert:hover {\n",
              "      background-color: #434B5C;\n",
              "      box-shadow: 0px 1px 3px 1px rgba(0, 0, 0, 0.15);\n",
              "      filter: drop-shadow(0px 1px 2px rgba(0, 0, 0, 0.3));\n",
              "      fill: #FFFFFF;\n",
              "    }\n",
              "  </style>\n",
              "\n",
              "    <script>\n",
              "      const buttonEl =\n",
              "        document.querySelector('#df-cb341821-f9a1-4d59-82f3-7f412b631c96 button.colab-df-convert');\n",
              "      buttonEl.style.display =\n",
              "        google.colab.kernel.accessAllowed ? 'block' : 'none';\n",
              "\n",
              "      async function convertToInteractive(key) {\n",
              "        const element = document.querySelector('#df-cb341821-f9a1-4d59-82f3-7f412b631c96');\n",
              "        const dataTable =\n",
              "          await google.colab.kernel.invokeFunction('convertToInteractive',\n",
              "                                                    [key], {});\n",
              "        if (!dataTable) return;\n",
              "\n",
              "        const docLinkHtml = 'Like what you see? Visit the ' +\n",
              "          '<a target=\"_blank\" href=https://colab.research.google.com/notebooks/data_table.ipynb>data table notebook</a>'\n",
              "          + ' to learn more about interactive tables.';\n",
              "        element.innerHTML = '';\n",
              "        dataTable['output_type'] = 'display_data';\n",
              "        await google.colab.output.renderOutput(dataTable, element);\n",
              "        const docLink = document.createElement('div');\n",
              "        docLink.innerHTML = docLinkHtml;\n",
              "        element.appendChild(docLink);\n",
              "      }\n",
              "    </script>\n",
              "  </div>\n",
              "\n",
              "\n",
              "<div id=\"df-ad7aa007-1f9b-4670-847d-18869334d7f1\">\n",
              "  <button class=\"colab-df-quickchart\" onclick=\"quickchart('df-ad7aa007-1f9b-4670-847d-18869334d7f1')\"\n",
              "            title=\"Suggest charts.\"\n",
              "            style=\"display:none;\">\n",
              "\n",
              "<svg xmlns=\"http://www.w3.org/2000/svg\" height=\"24px\"viewBox=\"0 0 24 24\"\n",
              "     width=\"24px\">\n",
              "    <g>\n",
              "        <path d=\"M19 3H5c-1.1 0-2 .9-2 2v14c0 1.1.9 2 2 2h14c1.1 0 2-.9 2-2V5c0-1.1-.9-2-2-2zM9 17H7v-7h2v7zm4 0h-2V7h2v10zm4 0h-2v-4h2v4z\"/>\n",
              "    </g>\n",
              "</svg>\n",
              "  </button>\n",
              "\n",
              "<style>\n",
              "  .colab-df-quickchart {\n",
              "    background-color: #E8F0FE;\n",
              "    border: none;\n",
              "    border-radius: 50%;\n",
              "    cursor: pointer;\n",
              "    display: none;\n",
              "    fill: #1967D2;\n",
              "    height: 32px;\n",
              "    padding: 0 0 0 0;\n",
              "    width: 32px;\n",
              "  }\n",
              "\n",
              "  .colab-df-quickchart:hover {\n",
              "    background-color: #E2EBFA;\n",
              "    box-shadow: 0px 1px 2px rgba(60, 64, 67, 0.3), 0px 1px 3px 1px rgba(60, 64, 67, 0.15);\n",
              "    fill: #174EA6;\n",
              "  }\n",
              "\n",
              "  [theme=dark] .colab-df-quickchart {\n",
              "    background-color: #3B4455;\n",
              "    fill: #D2E3FC;\n",
              "  }\n",
              "\n",
              "  [theme=dark] .colab-df-quickchart:hover {\n",
              "    background-color: #434B5C;\n",
              "    box-shadow: 0px 1px 3px 1px rgba(0, 0, 0, 0.15);\n",
              "    filter: drop-shadow(0px 1px 2px rgba(0, 0, 0, 0.3));\n",
              "    fill: #FFFFFF;\n",
              "  }\n",
              "</style>\n",
              "\n",
              "  <script>\n",
              "    async function quickchart(key) {\n",
              "      const charts = await google.colab.kernel.invokeFunction(\n",
              "          'suggestCharts', [key], {});\n",
              "    }\n",
              "    (() => {\n",
              "      let quickchartButtonEl =\n",
              "        document.querySelector('#df-ad7aa007-1f9b-4670-847d-18869334d7f1 button');\n",
              "      quickchartButtonEl.style.display =\n",
              "        google.colab.kernel.accessAllowed ? 'block' : 'none';\n",
              "    })();\n",
              "  </script>\n",
              "</div>\n",
              "    </div>\n",
              "  </div>\n"
            ]
          },
          "metadata": {},
          "execution_count": 12
        }
      ],
      "source": [
        "# Remove stopwords\n",
        "def removeStop(text):\n",
        "  tmp=word_tokenize(text)\n",
        "  text=\" \".join([w for w in tmp if not w in stop and len(w) >=2])\n",
        "  return text\n",
        "\n",
        "dataset['noStop_article']=dataset['text'].apply(lambda x: removeStop(x))\n",
        "dataset.head()\n"
      ]
    },
    {
      "cell_type": "code",
      "execution_count": null,
      "metadata": {
        "id": "pKyAf_bZdqwg"
      },
      "outputs": [],
      "source": [
        "# print(word_tokenize(dataset['text'][0]))\n",
        "# print(tokenize.sent_tokenize(dataset['text'][0]))"
      ]
    },
    {
      "cell_type": "code",
      "execution_count": null,
      "metadata": {
        "colab": {
          "base_uri": "https://localhost:8080/",
          "height": 293
        },
        "id": "Qk-ocbtUFIXJ",
        "outputId": "abf871bf-2cfa-4108-919f-96a68617333c"
      },
      "outputs": [
        {
          "output_type": "execute_result",
          "data": {
            "text/plain": [
              "                                                    text    class  word_count  \\\n",
              "36350  تلتقي إسبانيا مع إيطاليا مساء اليوم في المبارا...   Sports        5786   \n",
              "8355   انطلاقاً من حرص إدارة سوق أبوظبي للأوراق المال...  Finance        3999   \n",
              "6685   سجل اجمالي موجودات البنوك التجارية السعودية نم...  Finance        3720   \n",
              "35160  تضم المجموعة الاولى كلاً من سويسرا وتشيكيا وال...   Sports        3658   \n",
              "39594  أبوظبي:مهند داغر كشف المهندس صالح عبد الله الع...     Tech        3523   \n",
              "\n",
              "       char_count  avg_char_per_word  stopwords  \\\n",
              "36350       33339           4.762185       1161   \n",
              "8355        24373           5.095024        792   \n",
              "6685        20464           4.501344        656   \n",
              "35160       22262           5.086113        592   \n",
              "39594       21974           5.237582        778   \n",
              "\n",
              "                                          noStop_article  \\\n",
              "36350  تلتقي إسبانيا إيطاليا اليوم المباراة النهائية ...   \n",
              "8355   انطلاقاً حرص إدارة سوق أبوظبي للأوراق المالية ...   \n",
              "6685   سجل اجمالي موجودات البنوك التجارية السعودية نم...   \n",
              "35160  تضم المجموعة الاولى كلاً سويسرا وتشيكيا والبرت...   \n",
              "39594  أبوظبي مهند داغر كشف المهندس صالح عبد الله الع...   \n",
              "\n",
              "                                      normalized_article  \n",
              "36350  تلتقى اسبانىا اىطالىا الىوم المباراه النهائىه ...  \n",
              "8355   انطلاقا حرص اداره سوق ابوظبى للاوراق المالىه ا...  \n",
              "6685   سجل اجمالى موجودات البنوك التجارىه السعودىه نم...  \n",
              "35160  تضم المجموعه الاولى كلا سوىسرا وتشىكىا والبرتغ...  \n",
              "39594  ابوظبى مهند داغر كشف المهندس صالح عبد الله الع...  "
            ],
            "text/html": [
              "\n",
              "  <div id=\"df-983ec1d9-4016-402d-a166-70e8f385408b\" class=\"colab-df-container\">\n",
              "    <div>\n",
              "<style scoped>\n",
              "    .dataframe tbody tr th:only-of-type {\n",
              "        vertical-align: middle;\n",
              "    }\n",
              "\n",
              "    .dataframe tbody tr th {\n",
              "        vertical-align: top;\n",
              "    }\n",
              "\n",
              "    .dataframe thead th {\n",
              "        text-align: right;\n",
              "    }\n",
              "</style>\n",
              "<table border=\"1\" class=\"dataframe\">\n",
              "  <thead>\n",
              "    <tr style=\"text-align: right;\">\n",
              "      <th></th>\n",
              "      <th>text</th>\n",
              "      <th>class</th>\n",
              "      <th>word_count</th>\n",
              "      <th>char_count</th>\n",
              "      <th>avg_char_per_word</th>\n",
              "      <th>stopwords</th>\n",
              "      <th>noStop_article</th>\n",
              "      <th>normalized_article</th>\n",
              "    </tr>\n",
              "  </thead>\n",
              "  <tbody>\n",
              "    <tr>\n",
              "      <th>36350</th>\n",
              "      <td>تلتقي إسبانيا مع إيطاليا مساء اليوم في المبارا...</td>\n",
              "      <td>Sports</td>\n",
              "      <td>5786</td>\n",
              "      <td>33339</td>\n",
              "      <td>4.762185</td>\n",
              "      <td>1161</td>\n",
              "      <td>تلتقي إسبانيا إيطاليا اليوم المباراة النهائية ...</td>\n",
              "      <td>تلتقى اسبانىا اىطالىا الىوم المباراه النهائىه ...</td>\n",
              "    </tr>\n",
              "    <tr>\n",
              "      <th>8355</th>\n",
              "      <td>انطلاقاً من حرص إدارة سوق أبوظبي للأوراق المال...</td>\n",
              "      <td>Finance</td>\n",
              "      <td>3999</td>\n",
              "      <td>24373</td>\n",
              "      <td>5.095024</td>\n",
              "      <td>792</td>\n",
              "      <td>انطلاقاً حرص إدارة سوق أبوظبي للأوراق المالية ...</td>\n",
              "      <td>انطلاقا حرص اداره سوق ابوظبى للاوراق المالىه ا...</td>\n",
              "    </tr>\n",
              "    <tr>\n",
              "      <th>6685</th>\n",
              "      <td>سجل اجمالي موجودات البنوك التجارية السعودية نم...</td>\n",
              "      <td>Finance</td>\n",
              "      <td>3720</td>\n",
              "      <td>20464</td>\n",
              "      <td>4.501344</td>\n",
              "      <td>656</td>\n",
              "      <td>سجل اجمالي موجودات البنوك التجارية السعودية نم...</td>\n",
              "      <td>سجل اجمالى موجودات البنوك التجارىه السعودىه نم...</td>\n",
              "    </tr>\n",
              "    <tr>\n",
              "      <th>35160</th>\n",
              "      <td>تضم المجموعة الاولى كلاً من سويسرا وتشيكيا وال...</td>\n",
              "      <td>Sports</td>\n",
              "      <td>3658</td>\n",
              "      <td>22262</td>\n",
              "      <td>5.086113</td>\n",
              "      <td>592</td>\n",
              "      <td>تضم المجموعة الاولى كلاً سويسرا وتشيكيا والبرت...</td>\n",
              "      <td>تضم المجموعه الاولى كلا سوىسرا وتشىكىا والبرتغ...</td>\n",
              "    </tr>\n",
              "    <tr>\n",
              "      <th>39594</th>\n",
              "      <td>أبوظبي:مهند داغر كشف المهندس صالح عبد الله الع...</td>\n",
              "      <td>Tech</td>\n",
              "      <td>3523</td>\n",
              "      <td>21974</td>\n",
              "      <td>5.237582</td>\n",
              "      <td>778</td>\n",
              "      <td>أبوظبي مهند داغر كشف المهندس صالح عبد الله الع...</td>\n",
              "      <td>ابوظبى مهند داغر كشف المهندس صالح عبد الله الع...</td>\n",
              "    </tr>\n",
              "  </tbody>\n",
              "</table>\n",
              "</div>\n",
              "    <div class=\"colab-df-buttons\">\n",
              "\n",
              "  <div class=\"colab-df-container\">\n",
              "    <button class=\"colab-df-convert\" onclick=\"convertToInteractive('df-983ec1d9-4016-402d-a166-70e8f385408b')\"\n",
              "            title=\"Convert this dataframe to an interactive table.\"\n",
              "            style=\"display:none;\">\n",
              "\n",
              "  <svg xmlns=\"http://www.w3.org/2000/svg\" height=\"24px\" viewBox=\"0 -960 960 960\">\n",
              "    <path d=\"M120-120v-720h720v720H120Zm60-500h600v-160H180v160Zm220 220h160v-160H400v160Zm0 220h160v-160H400v160ZM180-400h160v-160H180v160Zm440 0h160v-160H620v160ZM180-180h160v-160H180v160Zm440 0h160v-160H620v160Z\"/>\n",
              "  </svg>\n",
              "    </button>\n",
              "\n",
              "  <style>\n",
              "    .colab-df-container {\n",
              "      display:flex;\n",
              "      gap: 12px;\n",
              "    }\n",
              "\n",
              "    .colab-df-convert {\n",
              "      background-color: #E8F0FE;\n",
              "      border: none;\n",
              "      border-radius: 50%;\n",
              "      cursor: pointer;\n",
              "      display: none;\n",
              "      fill: #1967D2;\n",
              "      height: 32px;\n",
              "      padding: 0 0 0 0;\n",
              "      width: 32px;\n",
              "    }\n",
              "\n",
              "    .colab-df-convert:hover {\n",
              "      background-color: #E2EBFA;\n",
              "      box-shadow: 0px 1px 2px rgba(60, 64, 67, 0.3), 0px 1px 3px 1px rgba(60, 64, 67, 0.15);\n",
              "      fill: #174EA6;\n",
              "    }\n",
              "\n",
              "    .colab-df-buttons div {\n",
              "      margin-bottom: 4px;\n",
              "    }\n",
              "\n",
              "    [theme=dark] .colab-df-convert {\n",
              "      background-color: #3B4455;\n",
              "      fill: #D2E3FC;\n",
              "    }\n",
              "\n",
              "    [theme=dark] .colab-df-convert:hover {\n",
              "      background-color: #434B5C;\n",
              "      box-shadow: 0px 1px 3px 1px rgba(0, 0, 0, 0.15);\n",
              "      filter: drop-shadow(0px 1px 2px rgba(0, 0, 0, 0.3));\n",
              "      fill: #FFFFFF;\n",
              "    }\n",
              "  </style>\n",
              "\n",
              "    <script>\n",
              "      const buttonEl =\n",
              "        document.querySelector('#df-983ec1d9-4016-402d-a166-70e8f385408b button.colab-df-convert');\n",
              "      buttonEl.style.display =\n",
              "        google.colab.kernel.accessAllowed ? 'block' : 'none';\n",
              "\n",
              "      async function convertToInteractive(key) {\n",
              "        const element = document.querySelector('#df-983ec1d9-4016-402d-a166-70e8f385408b');\n",
              "        const dataTable =\n",
              "          await google.colab.kernel.invokeFunction('convertToInteractive',\n",
              "                                                    [key], {});\n",
              "        if (!dataTable) return;\n",
              "\n",
              "        const docLinkHtml = 'Like what you see? Visit the ' +\n",
              "          '<a target=\"_blank\" href=https://colab.research.google.com/notebooks/data_table.ipynb>data table notebook</a>'\n",
              "          + ' to learn more about interactive tables.';\n",
              "        element.innerHTML = '';\n",
              "        dataTable['output_type'] = 'display_data';\n",
              "        await google.colab.output.renderOutput(dataTable, element);\n",
              "        const docLink = document.createElement('div');\n",
              "        docLink.innerHTML = docLinkHtml;\n",
              "        element.appendChild(docLink);\n",
              "      }\n",
              "    </script>\n",
              "  </div>\n",
              "\n",
              "\n",
              "<div id=\"df-8e0a520e-00a1-4ba1-bbfc-ad525e51d3e3\">\n",
              "  <button class=\"colab-df-quickchart\" onclick=\"quickchart('df-8e0a520e-00a1-4ba1-bbfc-ad525e51d3e3')\"\n",
              "            title=\"Suggest charts.\"\n",
              "            style=\"display:none;\">\n",
              "\n",
              "<svg xmlns=\"http://www.w3.org/2000/svg\" height=\"24px\"viewBox=\"0 0 24 24\"\n",
              "     width=\"24px\">\n",
              "    <g>\n",
              "        <path d=\"M19 3H5c-1.1 0-2 .9-2 2v14c0 1.1.9 2 2 2h14c1.1 0 2-.9 2-2V5c0-1.1-.9-2-2-2zM9 17H7v-7h2v7zm4 0h-2V7h2v10zm4 0h-2v-4h2v4z\"/>\n",
              "    </g>\n",
              "</svg>\n",
              "  </button>\n",
              "\n",
              "<style>\n",
              "  .colab-df-quickchart {\n",
              "    background-color: #E8F0FE;\n",
              "    border: none;\n",
              "    border-radius: 50%;\n",
              "    cursor: pointer;\n",
              "    display: none;\n",
              "    fill: #1967D2;\n",
              "    height: 32px;\n",
              "    padding: 0 0 0 0;\n",
              "    width: 32px;\n",
              "  }\n",
              "\n",
              "  .colab-df-quickchart:hover {\n",
              "    background-color: #E2EBFA;\n",
              "    box-shadow: 0px 1px 2px rgba(60, 64, 67, 0.3), 0px 1px 3px 1px rgba(60, 64, 67, 0.15);\n",
              "    fill: #174EA6;\n",
              "  }\n",
              "\n",
              "  [theme=dark] .colab-df-quickchart {\n",
              "    background-color: #3B4455;\n",
              "    fill: #D2E3FC;\n",
              "  }\n",
              "\n",
              "  [theme=dark] .colab-df-quickchart:hover {\n",
              "    background-color: #434B5C;\n",
              "    box-shadow: 0px 1px 3px 1px rgba(0, 0, 0, 0.15);\n",
              "    filter: drop-shadow(0px 1px 2px rgba(0, 0, 0, 0.3));\n",
              "    fill: #FFFFFF;\n",
              "  }\n",
              "</style>\n",
              "\n",
              "  <script>\n",
              "    async function quickchart(key) {\n",
              "      const charts = await google.colab.kernel.invokeFunction(\n",
              "          'suggestCharts', [key], {});\n",
              "    }\n",
              "    (() => {\n",
              "      let quickchartButtonEl =\n",
              "        document.querySelector('#df-8e0a520e-00a1-4ba1-bbfc-ad525e51d3e3 button');\n",
              "      quickchartButtonEl.style.display =\n",
              "        google.colab.kernel.accessAllowed ? 'block' : 'none';\n",
              "    })();\n",
              "  </script>\n",
              "</div>\n",
              "    </div>\n",
              "  </div>\n"
            ]
          },
          "metadata": {},
          "execution_count": 13
        }
      ],
      "source": [
        "# Normalization\n",
        "\n",
        "# import reugular expression\n",
        "import re\n",
        "\n",
        "def normalize(text):\n",
        "  # remove three or more repetitions of a character\n",
        "  pattern=re.compile(r\"(.)\\1{2,}\",re.DOTALL)\n",
        "  text=pattern.sub(r\"\\1\\1\",text)\n",
        "  # normalize alif\n",
        "  text = text.replace(u\"\\u0625\", u\"\\u0627\")  # HAMZA below, with LETTER ALEF\n",
        "  text = text.replace(u\"\\u0622\", u\"\\u0627\")  # ALEF WITH MADDA ABOVE, with LETTER ALEF\n",
        "  text = text.replace(u\"\\u0623\", u\"\\u0627\")  # ALEF WITH HAMZA ABOVE, with LETTER ALEF\n",
        "  # normalize taa\n",
        "  text = text.replace(u\"\\u0629\", u\"\\u0647\") # taa' marbuuTa, with haa'\n",
        "  # normalize yaa\n",
        "  text = text.replace(u\"\\u064A\", u\"\\u0649\")  # yaa' with 'alif maqSuura\n",
        "  # remove diacritics\n",
        "  text = text.replace(u\"\\u064B\", \"\")  # fatHatayn\n",
        "  text = text.replace(u\"\\u064C\", \"\")  # Dammatayn\n",
        "  text = text.replace(u\"\\u064D\", \"\")  # kasratayn\n",
        "  text = text.replace(u\"\\u064E\", \"\")  # fatHa\n",
        "  text = text.replace(u\"\\u064F\", \"\")  # Damma\n",
        "  text = text.replace(u\"\\u0650\", \"\")  # kasra\n",
        "  text = text.replace(u\"\\u0651\", \"\")  # shaddah\n",
        "  text = text.replace(u\"\\u0652\", \"\")  # sukuun\n",
        "  text = text.replace(u\"\\u0670\", \"`\")  # dagger 'alif\n",
        "  return text\n",
        "\n",
        "# aggregate all preprocessing steps into one column for the next step\n",
        "dataset['normalized_article']=dataset['noStop_article'].apply(lambda x:normalize(x))\n",
        "dataset.head()"
      ]
    },
    {
      "cell_type": "code",
      "execution_count": null,
      "metadata": {
        "colab": {
          "base_uri": "https://localhost:8080/",
          "height": 362
        },
        "id": "kSvnRVuPM6wC",
        "outputId": "8601d7a4-6313-4a16-becf-f32624c07dba"
      },
      "outputs": [
        {
          "output_type": "execute_result",
          "data": {
            "text/plain": [
              "                                                    text    class  word_count  \\\n",
              "36350  تلتقي إسبانيا مع إيطاليا مساء اليوم في المبارا...   Sports        5786   \n",
              "8355   انطلاقاً من حرص إدارة سوق أبوظبي للأوراق المال...  Finance        3999   \n",
              "6685   سجل اجمالي موجودات البنوك التجارية السعودية نم...  Finance        3720   \n",
              "35160  تضم المجموعة الاولى كلاً من سويسرا وتشيكيا وال...   Sports        3658   \n",
              "39594  أبوظبي:مهند داغر كشف المهندس صالح عبد الله الع...     Tech        3523   \n",
              "\n",
              "       char_count  avg_char_per_word  stopwords  \\\n",
              "36350       33339           4.762185       1161   \n",
              "8355        24373           5.095024        792   \n",
              "6685        20464           4.501344        656   \n",
              "35160       22262           5.086113        592   \n",
              "39594       21974           5.237582        778   \n",
              "\n",
              "                                          noStop_article  \\\n",
              "36350  تلتقي إسبانيا إيطاليا اليوم المباراة النهائية ...   \n",
              "8355   انطلاقاً حرص إدارة سوق أبوظبي للأوراق المالية ...   \n",
              "6685   سجل اجمالي موجودات البنوك التجارية السعودية نم...   \n",
              "35160  تضم المجموعة الاولى كلاً سويسرا وتشيكيا والبرت...   \n",
              "39594  أبوظبي مهند داغر كشف المهندس صالح عبد الله الع...   \n",
              "\n",
              "                                      normalized_article  \\\n",
              "36350  تلتقى اسبانىا اىطالىا الىوم المباراه النهائىه ...   \n",
              "8355   انطلاقا حرص اداره سوق ابوظبى للاوراق المالىه ا...   \n",
              "6685   سجل اجمالى موجودات البنوك التجارىه السعودىه نم...   \n",
              "35160  تضم المجموعه الاولى كلا سوىسرا وتشىكىا والبرتغ...   \n",
              "39594  ابوظبى مهند داغر كشف المهندس صالح عبد الله الع...   \n",
              "\n",
              "                                           clean_article  \n",
              "36350  تلتقى اسبانىا اىطالىا الىوم المباراه النهائىه ...  \n",
              "8355   انطلاقا حرص اداره سوق ابوظبى للاوراق المالىه ا...  \n",
              "6685   سجل اجمالى موجودات البنوك التجارىه السعودىه نم...  \n",
              "35160  تضم المجموعه الاولى كلا سوىسرا وتشىكىا والبرتغ...  \n",
              "39594  ابوظبى مهند داغر كشف المهندس صالح عبد الله الع...  "
            ],
            "text/html": [
              "\n",
              "  <div id=\"df-009ab6fa-8e86-445c-be2e-70c20ad270d4\" class=\"colab-df-container\">\n",
              "    <div>\n",
              "<style scoped>\n",
              "    .dataframe tbody tr th:only-of-type {\n",
              "        vertical-align: middle;\n",
              "    }\n",
              "\n",
              "    .dataframe tbody tr th {\n",
              "        vertical-align: top;\n",
              "    }\n",
              "\n",
              "    .dataframe thead th {\n",
              "        text-align: right;\n",
              "    }\n",
              "</style>\n",
              "<table border=\"1\" class=\"dataframe\">\n",
              "  <thead>\n",
              "    <tr style=\"text-align: right;\">\n",
              "      <th></th>\n",
              "      <th>text</th>\n",
              "      <th>class</th>\n",
              "      <th>word_count</th>\n",
              "      <th>char_count</th>\n",
              "      <th>avg_char_per_word</th>\n",
              "      <th>stopwords</th>\n",
              "      <th>noStop_article</th>\n",
              "      <th>normalized_article</th>\n",
              "      <th>clean_article</th>\n",
              "    </tr>\n",
              "  </thead>\n",
              "  <tbody>\n",
              "    <tr>\n",
              "      <th>36350</th>\n",
              "      <td>تلتقي إسبانيا مع إيطاليا مساء اليوم في المبارا...</td>\n",
              "      <td>Sports</td>\n",
              "      <td>5786</td>\n",
              "      <td>33339</td>\n",
              "      <td>4.762185</td>\n",
              "      <td>1161</td>\n",
              "      <td>تلتقي إسبانيا إيطاليا اليوم المباراة النهائية ...</td>\n",
              "      <td>تلتقى اسبانىا اىطالىا الىوم المباراه النهائىه ...</td>\n",
              "      <td>تلتقى اسبانىا اىطالىا الىوم المباراه النهائىه ...</td>\n",
              "    </tr>\n",
              "    <tr>\n",
              "      <th>8355</th>\n",
              "      <td>انطلاقاً من حرص إدارة سوق أبوظبي للأوراق المال...</td>\n",
              "      <td>Finance</td>\n",
              "      <td>3999</td>\n",
              "      <td>24373</td>\n",
              "      <td>5.095024</td>\n",
              "      <td>792</td>\n",
              "      <td>انطلاقاً حرص إدارة سوق أبوظبي للأوراق المالية ...</td>\n",
              "      <td>انطلاقا حرص اداره سوق ابوظبى للاوراق المالىه ا...</td>\n",
              "      <td>انطلاقا حرص اداره سوق ابوظبى للاوراق المالىه ا...</td>\n",
              "    </tr>\n",
              "    <tr>\n",
              "      <th>6685</th>\n",
              "      <td>سجل اجمالي موجودات البنوك التجارية السعودية نم...</td>\n",
              "      <td>Finance</td>\n",
              "      <td>3720</td>\n",
              "      <td>20464</td>\n",
              "      <td>4.501344</td>\n",
              "      <td>656</td>\n",
              "      <td>سجل اجمالي موجودات البنوك التجارية السعودية نم...</td>\n",
              "      <td>سجل اجمالى موجودات البنوك التجارىه السعودىه نم...</td>\n",
              "      <td>سجل اجمالى موجودات البنوك التجارىه السعودىه نم...</td>\n",
              "    </tr>\n",
              "    <tr>\n",
              "      <th>35160</th>\n",
              "      <td>تضم المجموعة الاولى كلاً من سويسرا وتشيكيا وال...</td>\n",
              "      <td>Sports</td>\n",
              "      <td>3658</td>\n",
              "      <td>22262</td>\n",
              "      <td>5.086113</td>\n",
              "      <td>592</td>\n",
              "      <td>تضم المجموعة الاولى كلاً سويسرا وتشيكيا والبرت...</td>\n",
              "      <td>تضم المجموعه الاولى كلا سوىسرا وتشىكىا والبرتغ...</td>\n",
              "      <td>تضم المجموعه الاولى كلا سوىسرا وتشىكىا والبرتغ...</td>\n",
              "    </tr>\n",
              "    <tr>\n",
              "      <th>39594</th>\n",
              "      <td>أبوظبي:مهند داغر كشف المهندس صالح عبد الله الع...</td>\n",
              "      <td>Tech</td>\n",
              "      <td>3523</td>\n",
              "      <td>21974</td>\n",
              "      <td>5.237582</td>\n",
              "      <td>778</td>\n",
              "      <td>أبوظبي مهند داغر كشف المهندس صالح عبد الله الع...</td>\n",
              "      <td>ابوظبى مهند داغر كشف المهندس صالح عبد الله الع...</td>\n",
              "      <td>ابوظبى مهند داغر كشف المهندس صالح عبد الله الع...</td>\n",
              "    </tr>\n",
              "  </tbody>\n",
              "</table>\n",
              "</div>\n",
              "    <div class=\"colab-df-buttons\">\n",
              "\n",
              "  <div class=\"colab-df-container\">\n",
              "    <button class=\"colab-df-convert\" onclick=\"convertToInteractive('df-009ab6fa-8e86-445c-be2e-70c20ad270d4')\"\n",
              "            title=\"Convert this dataframe to an interactive table.\"\n",
              "            style=\"display:none;\">\n",
              "\n",
              "  <svg xmlns=\"http://www.w3.org/2000/svg\" height=\"24px\" viewBox=\"0 -960 960 960\">\n",
              "    <path d=\"M120-120v-720h720v720H120Zm60-500h600v-160H180v160Zm220 220h160v-160H400v160Zm0 220h160v-160H400v160ZM180-400h160v-160H180v160Zm440 0h160v-160H620v160ZM180-180h160v-160H180v160Zm440 0h160v-160H620v160Z\"/>\n",
              "  </svg>\n",
              "    </button>\n",
              "\n",
              "  <style>\n",
              "    .colab-df-container {\n",
              "      display:flex;\n",
              "      gap: 12px;\n",
              "    }\n",
              "\n",
              "    .colab-df-convert {\n",
              "      background-color: #E8F0FE;\n",
              "      border: none;\n",
              "      border-radius: 50%;\n",
              "      cursor: pointer;\n",
              "      display: none;\n",
              "      fill: #1967D2;\n",
              "      height: 32px;\n",
              "      padding: 0 0 0 0;\n",
              "      width: 32px;\n",
              "    }\n",
              "\n",
              "    .colab-df-convert:hover {\n",
              "      background-color: #E2EBFA;\n",
              "      box-shadow: 0px 1px 2px rgba(60, 64, 67, 0.3), 0px 1px 3px 1px rgba(60, 64, 67, 0.15);\n",
              "      fill: #174EA6;\n",
              "    }\n",
              "\n",
              "    .colab-df-buttons div {\n",
              "      margin-bottom: 4px;\n",
              "    }\n",
              "\n",
              "    [theme=dark] .colab-df-convert {\n",
              "      background-color: #3B4455;\n",
              "      fill: #D2E3FC;\n",
              "    }\n",
              "\n",
              "    [theme=dark] .colab-df-convert:hover {\n",
              "      background-color: #434B5C;\n",
              "      box-shadow: 0px 1px 3px 1px rgba(0, 0, 0, 0.15);\n",
              "      filter: drop-shadow(0px 1px 2px rgba(0, 0, 0, 0.3));\n",
              "      fill: #FFFFFF;\n",
              "    }\n",
              "  </style>\n",
              "\n",
              "    <script>\n",
              "      const buttonEl =\n",
              "        document.querySelector('#df-009ab6fa-8e86-445c-be2e-70c20ad270d4 button.colab-df-convert');\n",
              "      buttonEl.style.display =\n",
              "        google.colab.kernel.accessAllowed ? 'block' : 'none';\n",
              "\n",
              "      async function convertToInteractive(key) {\n",
              "        const element = document.querySelector('#df-009ab6fa-8e86-445c-be2e-70c20ad270d4');\n",
              "        const dataTable =\n",
              "          await google.colab.kernel.invokeFunction('convertToInteractive',\n",
              "                                                    [key], {});\n",
              "        if (!dataTable) return;\n",
              "\n",
              "        const docLinkHtml = 'Like what you see? Visit the ' +\n",
              "          '<a target=\"_blank\" href=https://colab.research.google.com/notebooks/data_table.ipynb>data table notebook</a>'\n",
              "          + ' to learn more about interactive tables.';\n",
              "        element.innerHTML = '';\n",
              "        dataTable['output_type'] = 'display_data';\n",
              "        await google.colab.output.renderOutput(dataTable, element);\n",
              "        const docLink = document.createElement('div');\n",
              "        docLink.innerHTML = docLinkHtml;\n",
              "        element.appendChild(docLink);\n",
              "      }\n",
              "    </script>\n",
              "  </div>\n",
              "\n",
              "\n",
              "<div id=\"df-33294716-c4a7-4449-8633-d52003f029df\">\n",
              "  <button class=\"colab-df-quickchart\" onclick=\"quickchart('df-33294716-c4a7-4449-8633-d52003f029df')\"\n",
              "            title=\"Suggest charts.\"\n",
              "            style=\"display:none;\">\n",
              "\n",
              "<svg xmlns=\"http://www.w3.org/2000/svg\" height=\"24px\"viewBox=\"0 0 24 24\"\n",
              "     width=\"24px\">\n",
              "    <g>\n",
              "        <path d=\"M19 3H5c-1.1 0-2 .9-2 2v14c0 1.1.9 2 2 2h14c1.1 0 2-.9 2-2V5c0-1.1-.9-2-2-2zM9 17H7v-7h2v7zm4 0h-2V7h2v10zm4 0h-2v-4h2v4z\"/>\n",
              "    </g>\n",
              "</svg>\n",
              "  </button>\n",
              "\n",
              "<style>\n",
              "  .colab-df-quickchart {\n",
              "    background-color: #E8F0FE;\n",
              "    border: none;\n",
              "    border-radius: 50%;\n",
              "    cursor: pointer;\n",
              "    display: none;\n",
              "    fill: #1967D2;\n",
              "    height: 32px;\n",
              "    padding: 0 0 0 0;\n",
              "    width: 32px;\n",
              "  }\n",
              "\n",
              "  .colab-df-quickchart:hover {\n",
              "    background-color: #E2EBFA;\n",
              "    box-shadow: 0px 1px 2px rgba(60, 64, 67, 0.3), 0px 1px 3px 1px rgba(60, 64, 67, 0.15);\n",
              "    fill: #174EA6;\n",
              "  }\n",
              "\n",
              "  [theme=dark] .colab-df-quickchart {\n",
              "    background-color: #3B4455;\n",
              "    fill: #D2E3FC;\n",
              "  }\n",
              "\n",
              "  [theme=dark] .colab-df-quickchart:hover {\n",
              "    background-color: #434B5C;\n",
              "    box-shadow: 0px 1px 3px 1px rgba(0, 0, 0, 0.15);\n",
              "    filter: drop-shadow(0px 1px 2px rgba(0, 0, 0, 0.3));\n",
              "    fill: #FFFFFF;\n",
              "  }\n",
              "</style>\n",
              "\n",
              "  <script>\n",
              "    async function quickchart(key) {\n",
              "      const charts = await google.colab.kernel.invokeFunction(\n",
              "          'suggestCharts', [key], {});\n",
              "    }\n",
              "    (() => {\n",
              "      let quickchartButtonEl =\n",
              "        document.querySelector('#df-33294716-c4a7-4449-8633-d52003f029df button');\n",
              "      quickchartButtonEl.style.display =\n",
              "        google.colab.kernel.accessAllowed ? 'block' : 'none';\n",
              "    })();\n",
              "  </script>\n",
              "</div>\n",
              "    </div>\n",
              "  </div>\n"
            ]
          },
          "metadata": {},
          "execution_count": 14
        }
      ],
      "source": [
        "# Remove Punctuations\n",
        "import string\n",
        "\n",
        "arabicPunctuations = [\".\",\"`\",\"؛\",\"<\",\">\",\"(\",\")\",\"*\",\"&\",\"^\",\"%\",\"]\",\"[\",\",\",\"ـ\",\"،\",\"/\",\":\",\"؟\",\".\",\"'\",\"{\",\"}\",\"~\",\"|\",\"!\",\"”\",\"…\",\"“\",\"–\"] # defining customized punctuation marks\n",
        "englishPunctuations = [word.strip() for word in string.punctuation] # importing English punctuation marks\n",
        "punctuationsList = arabicPunctuations + englishPunctuations # creating a list of all punctuation marks\n",
        "\n",
        "def removePunct(text):\n",
        "  cleanArticle=''\n",
        "  for i in text:\n",
        "    if i not in punctuationsList:\n",
        "      cleanArticle=cleanArticle+i\n",
        "  return cleanArticle\n",
        "\n",
        "dataset['clean_article'] = dataset['normalized_article'].apply(lambda x: removePunct(x)) # takes 18s to run\n",
        "dataset.head()"
      ]
    },
    {
      "cell_type": "code",
      "execution_count": null,
      "metadata": {
        "colab": {
          "base_uri": "https://localhost:8080/",
          "height": 518
        },
        "id": "LuaDpGwuXENs",
        "outputId": "611cc716-9a38-4025-d70a-fa2eea42c8c3"
      },
      "outputs": [
        {
          "output_type": "execute_result",
          "data": {
            "text/plain": [
              "                                                    text    class  word_count  \\\n",
              "36350  تلتقي إسبانيا مع إيطاليا مساء اليوم في المبارا...   Sports        5786   \n",
              "8355   انطلاقاً من حرص إدارة سوق أبوظبي للأوراق المال...  Finance        3999   \n",
              "6685   سجل اجمالي موجودات البنوك التجارية السعودية نم...  Finance        3720   \n",
              "35160  تضم المجموعة الاولى كلاً من سويسرا وتشيكيا وال...   Sports        3658   \n",
              "39594  أبوظبي:مهند داغر كشف المهندس صالح عبد الله الع...     Tech        3523   \n",
              "\n",
              "       char_count  avg_char_per_word  stopwords  \\\n",
              "36350       33339           4.762185       1161   \n",
              "8355        24373           5.095024        792   \n",
              "6685        20464           4.501344        656   \n",
              "35160       22262           5.086113        592   \n",
              "39594       21974           5.237582        778   \n",
              "\n",
              "                                          noStop_article  \\\n",
              "36350  تلتقي إسبانيا إيطاليا اليوم المباراة النهائية ...   \n",
              "8355   انطلاقاً حرص إدارة سوق أبوظبي للأوراق المالية ...   \n",
              "6685   سجل اجمالي موجودات البنوك التجارية السعودية نم...   \n",
              "35160  تضم المجموعة الاولى كلاً سويسرا وتشيكيا والبرت...   \n",
              "39594  أبوظبي مهند داغر كشف المهندس صالح عبد الله الع...   \n",
              "\n",
              "                                      normalized_article  \\\n",
              "36350  تلتقى اسبانىا اىطالىا الىوم المباراه النهائىه ...   \n",
              "8355   انطلاقا حرص اداره سوق ابوظبى للاوراق المالىه ا...   \n",
              "6685   سجل اجمالى موجودات البنوك التجارىه السعودىه نم...   \n",
              "35160  تضم المجموعه الاولى كلا سوىسرا وتشىكىا والبرتغ...   \n",
              "39594  ابوظبى مهند داغر كشف المهندس صالح عبد الله الع...   \n",
              "\n",
              "                                           clean_article  \\\n",
              "36350  تلتقى اسبانىا اىطالىا الىوم المباراه النهائىه ...   \n",
              "8355   انطلاقا حرص اداره سوق ابوظبى للاوراق المالىه ا...   \n",
              "6685   سجل اجمالى موجودات البنوك التجارىه السعودىه نم...   \n",
              "35160  تضم المجموعه الاولى كلا سوىسرا وتشىكىا والبرتغ...   \n",
              "39594  ابوظبى مهند داغر كشف المهندس صالح عبد الله الع...   \n",
              "\n",
              "                                        abstract_article  \n",
              "36350  تلتقى اسبانىا اىطالىا الىوم المباراه النهائىه ...  \n",
              "8355   انطلاقا حرص اداره سوق ابوظبى للاوراق المالىه ا...  \n",
              "6685   سجل اجمالى موجودات البنوك التجارىه السعودىه نم...  \n",
              "35160  تضم المجموعه الاولى كلا سوىسرا وتشىكىا والبرتغ...  \n",
              "39594  ابوظبى مهند داغر كشف المهندس صالح عبد الله الع...  "
            ],
            "text/html": [
              "\n",
              "  <div id=\"df-36f5c684-2f42-46df-9029-1c235ec723ff\" class=\"colab-df-container\">\n",
              "    <div>\n",
              "<style scoped>\n",
              "    .dataframe tbody tr th:only-of-type {\n",
              "        vertical-align: middle;\n",
              "    }\n",
              "\n",
              "    .dataframe tbody tr th {\n",
              "        vertical-align: top;\n",
              "    }\n",
              "\n",
              "    .dataframe thead th {\n",
              "        text-align: right;\n",
              "    }\n",
              "</style>\n",
              "<table border=\"1\" class=\"dataframe\">\n",
              "  <thead>\n",
              "    <tr style=\"text-align: right;\">\n",
              "      <th></th>\n",
              "      <th>text</th>\n",
              "      <th>class</th>\n",
              "      <th>word_count</th>\n",
              "      <th>char_count</th>\n",
              "      <th>avg_char_per_word</th>\n",
              "      <th>stopwords</th>\n",
              "      <th>noStop_article</th>\n",
              "      <th>normalized_article</th>\n",
              "      <th>clean_article</th>\n",
              "      <th>abstract_article</th>\n",
              "    </tr>\n",
              "  </thead>\n",
              "  <tbody>\n",
              "    <tr>\n",
              "      <th>36350</th>\n",
              "      <td>تلتقي إسبانيا مع إيطاليا مساء اليوم في المبارا...</td>\n",
              "      <td>Sports</td>\n",
              "      <td>5786</td>\n",
              "      <td>33339</td>\n",
              "      <td>4.762185</td>\n",
              "      <td>1161</td>\n",
              "      <td>تلتقي إسبانيا إيطاليا اليوم المباراة النهائية ...</td>\n",
              "      <td>تلتقى اسبانىا اىطالىا الىوم المباراه النهائىه ...</td>\n",
              "      <td>تلتقى اسبانىا اىطالىا الىوم المباراه النهائىه ...</td>\n",
              "      <td>تلتقى اسبانىا اىطالىا الىوم المباراه النهائىه ...</td>\n",
              "    </tr>\n",
              "    <tr>\n",
              "      <th>8355</th>\n",
              "      <td>انطلاقاً من حرص إدارة سوق أبوظبي للأوراق المال...</td>\n",
              "      <td>Finance</td>\n",
              "      <td>3999</td>\n",
              "      <td>24373</td>\n",
              "      <td>5.095024</td>\n",
              "      <td>792</td>\n",
              "      <td>انطلاقاً حرص إدارة سوق أبوظبي للأوراق المالية ...</td>\n",
              "      <td>انطلاقا حرص اداره سوق ابوظبى للاوراق المالىه ا...</td>\n",
              "      <td>انطلاقا حرص اداره سوق ابوظبى للاوراق المالىه ا...</td>\n",
              "      <td>انطلاقا حرص اداره سوق ابوظبى للاوراق المالىه ا...</td>\n",
              "    </tr>\n",
              "    <tr>\n",
              "      <th>6685</th>\n",
              "      <td>سجل اجمالي موجودات البنوك التجارية السعودية نم...</td>\n",
              "      <td>Finance</td>\n",
              "      <td>3720</td>\n",
              "      <td>20464</td>\n",
              "      <td>4.501344</td>\n",
              "      <td>656</td>\n",
              "      <td>سجل اجمالي موجودات البنوك التجارية السعودية نم...</td>\n",
              "      <td>سجل اجمالى موجودات البنوك التجارىه السعودىه نم...</td>\n",
              "      <td>سجل اجمالى موجودات البنوك التجارىه السعودىه نم...</td>\n",
              "      <td>سجل اجمالى موجودات البنوك التجارىه السعودىه نم...</td>\n",
              "    </tr>\n",
              "    <tr>\n",
              "      <th>35160</th>\n",
              "      <td>تضم المجموعة الاولى كلاً من سويسرا وتشيكيا وال...</td>\n",
              "      <td>Sports</td>\n",
              "      <td>3658</td>\n",
              "      <td>22262</td>\n",
              "      <td>5.086113</td>\n",
              "      <td>592</td>\n",
              "      <td>تضم المجموعة الاولى كلاً سويسرا وتشيكيا والبرت...</td>\n",
              "      <td>تضم المجموعه الاولى كلا سوىسرا وتشىكىا والبرتغ...</td>\n",
              "      <td>تضم المجموعه الاولى كلا سوىسرا وتشىكىا والبرتغ...</td>\n",
              "      <td>تضم المجموعه الاولى كلا سوىسرا وتشىكىا والبرتغ...</td>\n",
              "    </tr>\n",
              "    <tr>\n",
              "      <th>39594</th>\n",
              "      <td>أبوظبي:مهند داغر كشف المهندس صالح عبد الله الع...</td>\n",
              "      <td>Tech</td>\n",
              "      <td>3523</td>\n",
              "      <td>21974</td>\n",
              "      <td>5.237582</td>\n",
              "      <td>778</td>\n",
              "      <td>أبوظبي مهند داغر كشف المهندس صالح عبد الله الع...</td>\n",
              "      <td>ابوظبى مهند داغر كشف المهندس صالح عبد الله الع...</td>\n",
              "      <td>ابوظبى مهند داغر كشف المهندس صالح عبد الله الع...</td>\n",
              "      <td>ابوظبى مهند داغر كشف المهندس صالح عبد الله الع...</td>\n",
              "    </tr>\n",
              "  </tbody>\n",
              "</table>\n",
              "</div>\n",
              "    <div class=\"colab-df-buttons\">\n",
              "\n",
              "  <div class=\"colab-df-container\">\n",
              "    <button class=\"colab-df-convert\" onclick=\"convertToInteractive('df-36f5c684-2f42-46df-9029-1c235ec723ff')\"\n",
              "            title=\"Convert this dataframe to an interactive table.\"\n",
              "            style=\"display:none;\">\n",
              "\n",
              "  <svg xmlns=\"http://www.w3.org/2000/svg\" height=\"24px\" viewBox=\"0 -960 960 960\">\n",
              "    <path d=\"M120-120v-720h720v720H120Zm60-500h600v-160H180v160Zm220 220h160v-160H400v160Zm0 220h160v-160H400v160ZM180-400h160v-160H180v160Zm440 0h160v-160H620v160ZM180-180h160v-160H180v160Zm440 0h160v-160H620v160Z\"/>\n",
              "  </svg>\n",
              "    </button>\n",
              "\n",
              "  <style>\n",
              "    .colab-df-container {\n",
              "      display:flex;\n",
              "      gap: 12px;\n",
              "    }\n",
              "\n",
              "    .colab-df-convert {\n",
              "      background-color: #E8F0FE;\n",
              "      border: none;\n",
              "      border-radius: 50%;\n",
              "      cursor: pointer;\n",
              "      display: none;\n",
              "      fill: #1967D2;\n",
              "      height: 32px;\n",
              "      padding: 0 0 0 0;\n",
              "      width: 32px;\n",
              "    }\n",
              "\n",
              "    .colab-df-convert:hover {\n",
              "      background-color: #E2EBFA;\n",
              "      box-shadow: 0px 1px 2px rgba(60, 64, 67, 0.3), 0px 1px 3px 1px rgba(60, 64, 67, 0.15);\n",
              "      fill: #174EA6;\n",
              "    }\n",
              "\n",
              "    .colab-df-buttons div {\n",
              "      margin-bottom: 4px;\n",
              "    }\n",
              "\n",
              "    [theme=dark] .colab-df-convert {\n",
              "      background-color: #3B4455;\n",
              "      fill: #D2E3FC;\n",
              "    }\n",
              "\n",
              "    [theme=dark] .colab-df-convert:hover {\n",
              "      background-color: #434B5C;\n",
              "      box-shadow: 0px 1px 3px 1px rgba(0, 0, 0, 0.15);\n",
              "      filter: drop-shadow(0px 1px 2px rgba(0, 0, 0, 0.3));\n",
              "      fill: #FFFFFF;\n",
              "    }\n",
              "  </style>\n",
              "\n",
              "    <script>\n",
              "      const buttonEl =\n",
              "        document.querySelector('#df-36f5c684-2f42-46df-9029-1c235ec723ff button.colab-df-convert');\n",
              "      buttonEl.style.display =\n",
              "        google.colab.kernel.accessAllowed ? 'block' : 'none';\n",
              "\n",
              "      async function convertToInteractive(key) {\n",
              "        const element = document.querySelector('#df-36f5c684-2f42-46df-9029-1c235ec723ff');\n",
              "        const dataTable =\n",
              "          await google.colab.kernel.invokeFunction('convertToInteractive',\n",
              "                                                    [key], {});\n",
              "        if (!dataTable) return;\n",
              "\n",
              "        const docLinkHtml = 'Like what you see? Visit the ' +\n",
              "          '<a target=\"_blank\" href=https://colab.research.google.com/notebooks/data_table.ipynb>data table notebook</a>'\n",
              "          + ' to learn more about interactive tables.';\n",
              "        element.innerHTML = '';\n",
              "        dataTable['output_type'] = 'display_data';\n",
              "        await google.colab.output.renderOutput(dataTable, element);\n",
              "        const docLink = document.createElement('div');\n",
              "        docLink.innerHTML = docLinkHtml;\n",
              "        element.appendChild(docLink);\n",
              "      }\n",
              "    </script>\n",
              "  </div>\n",
              "\n",
              "\n",
              "<div id=\"df-19497856-c080-4ca5-a086-1733c1d6d005\">\n",
              "  <button class=\"colab-df-quickchart\" onclick=\"quickchart('df-19497856-c080-4ca5-a086-1733c1d6d005')\"\n",
              "            title=\"Suggest charts.\"\n",
              "            style=\"display:none;\">\n",
              "\n",
              "<svg xmlns=\"http://www.w3.org/2000/svg\" height=\"24px\"viewBox=\"0 0 24 24\"\n",
              "     width=\"24px\">\n",
              "    <g>\n",
              "        <path d=\"M19 3H5c-1.1 0-2 .9-2 2v14c0 1.1.9 2 2 2h14c1.1 0 2-.9 2-2V5c0-1.1-.9-2-2-2zM9 17H7v-7h2v7zm4 0h-2V7h2v10zm4 0h-2v-4h2v4z\"/>\n",
              "    </g>\n",
              "</svg>\n",
              "  </button>\n",
              "\n",
              "<style>\n",
              "  .colab-df-quickchart {\n",
              "    background-color: #E8F0FE;\n",
              "    border: none;\n",
              "    border-radius: 50%;\n",
              "    cursor: pointer;\n",
              "    display: none;\n",
              "    fill: #1967D2;\n",
              "    height: 32px;\n",
              "    padding: 0 0 0 0;\n",
              "    width: 32px;\n",
              "  }\n",
              "\n",
              "  .colab-df-quickchart:hover {\n",
              "    background-color: #E2EBFA;\n",
              "    box-shadow: 0px 1px 2px rgba(60, 64, 67, 0.3), 0px 1px 3px 1px rgba(60, 64, 67, 0.15);\n",
              "    fill: #174EA6;\n",
              "  }\n",
              "\n",
              "  [theme=dark] .colab-df-quickchart {\n",
              "    background-color: #3B4455;\n",
              "    fill: #D2E3FC;\n",
              "  }\n",
              "\n",
              "  [theme=dark] .colab-df-quickchart:hover {\n",
              "    background-color: #434B5C;\n",
              "    box-shadow: 0px 1px 3px 1px rgba(0, 0, 0, 0.15);\n",
              "    filter: drop-shadow(0px 1px 2px rgba(0, 0, 0, 0.3));\n",
              "    fill: #FFFFFF;\n",
              "  }\n",
              "</style>\n",
              "\n",
              "  <script>\n",
              "    async function quickchart(key) {\n",
              "      const charts = await google.colab.kernel.invokeFunction(\n",
              "          'suggestCharts', [key], {});\n",
              "    }\n",
              "    (() => {\n",
              "      let quickchartButtonEl =\n",
              "        document.querySelector('#df-19497856-c080-4ca5-a086-1733c1d6d005 button');\n",
              "      quickchartButtonEl.style.display =\n",
              "        google.colab.kernel.accessAllowed ? 'block' : 'none';\n",
              "    })();\n",
              "  </script>\n",
              "</div>\n",
              "    </div>\n",
              "  </div>\n"
            ]
          },
          "metadata": {},
          "execution_count": 15
        }
      ],
      "source": [
        "# Noise Removal\n",
        "def clean(text):\n",
        "  # Remove extra whitespace\n",
        "  text=re.sub('\\s+',' ',text)\n",
        "  # Remove numbers\n",
        "  text=re.sub('\\d+',' ',text)\n",
        "  return text\n",
        "dataset['abstract_article']=dataset['clean_article'].apply(lambda x: clean(x))\n",
        "dataset.head()"
      ]
    },
    {
      "cell_type": "code",
      "execution_count": null,
      "metadata": {
        "id": "tNSN2SLEc-Ri"
      },
      "outputs": [],
      "source": [
        "\n",
        "# Lemmatization/stemming (takes very long time)\n",
        "# !pip install farasapy"
      ]
    },
    {
      "cell_type": "code",
      "execution_count": null,
      "metadata": {
        "id": "Hdt1k4BkdjFx"
      },
      "outputs": [],
      "source": [
        "# from farasa.stemmer import FarasaStemmer\n",
        "# stemmer = FarasaStemmer()\n",
        "\n",
        "# dataset['stemmed_article']=dataset['abstract_article'].apply(lambda x: stemmer.stem(x))\n",
        "# dataset.head()"
      ]
    },
    {
      "cell_type": "markdown",
      "metadata": {
        "id": "0CHCCMDTTzu3"
      },
      "source": [
        "# Preparing the Dataset"
      ]
    },
    {
      "cell_type": "code",
      "execution_count": null,
      "metadata": {
        "colab": {
          "base_uri": "https://localhost:8080/"
        },
        "id": "-py2kBJjRD3v",
        "outputId": "8d02be54-79e2-46b3-e3a8-5331bfa1a53a"
      },
      "outputs": [
        {
          "output_type": "execute_result",
          "data": {
            "text/plain": [
              "((31850,), (13650,))"
            ]
          },
          "metadata": {},
          "execution_count": 16
        }
      ],
      "source": [
        "from pandas.core.common import random_state\n",
        "from sklearn.model_selection import train_test_split\n",
        "from sklearn.utils import shuffle\n",
        "\n",
        "dataset=shuffle(dataset)\n",
        "x=dataset['abstract_article']\n",
        "y=dataset['class']\n",
        "x_train,x_test,y_train,y_test= train_test_split(x,y,test_size=0.3,random_state=42)\n",
        "x_train.shape,x_test.shape"
      ]
    },
    {
      "cell_type": "markdown",
      "metadata": {
        "id": "7eyO8bpI1mPm"
      },
      "source": [
        "# Random Forest Classifier\n",
        "\n"
      ]
    },
    {
      "cell_type": "code",
      "execution_count": null,
      "metadata": {
        "id": "WDzYbeND1unC"
      },
      "outputs": [],
      "source": [
        "#TFIDF Vectorization\n",
        "from sklearn.feature_extraction.text import TfidfVectorizer\n",
        "tfidf_vectorizer=TfidfVectorizer()\n",
        "\n",
        "# just send in all your docs here\n",
        "X=tfidf_vectorizer.fit_transform(dataset.abstract_article)\n",
        "\n",
        "#Splitting vectorized data\n",
        "\n",
        "clfx_train, clfx_test, clfy_train,clfy_test = train_test_split(X,dataset['class'], test_size=0.3,random_state=42)"
      ]
    },
    {
      "cell_type": "code",
      "execution_count": null,
      "metadata": {
        "id": "3Uimi9eX4xr0"
      },
      "outputs": [],
      "source": [
        "#Grid search cross validation to find the most optimal parameters\n",
        "from sklearn.model_selection import GridSearchCV\n",
        "from sklearn.feature_extraction.text import TfidfVectorizer\n",
        "from sklearn.pipeline import make_pipeline\n",
        "from sklearn.linear_model import LogisticRegression\n",
        "from sklearn.metrics import confusion_matrix,accuracy_score, classification_report\n",
        "from sklearn.ensemble import RandomForestClassifier\n",
        "\n",
        "# Fitting the RandomforestClassifier to the training set\n",
        "classifier = RandomForestClassifier()\n",
        "\n",
        "parameters = {\n",
        "    \"n_estimators\":[5,10,50,100,250],\n",
        "    \"max_depth\":[2,4,8,16,32,None]\n",
        "\n",
        "}\n"
      ]
    },
    {
      "cell_type": "code",
      "execution_count": null,
      "metadata": {
        "id": "-ONflaZv5BF4",
        "colab": {
          "base_uri": "https://localhost:8080/",
          "height": 210
        },
        "outputId": "603a9f51-cb63-4b5e-a30d-e5a82ec8708c"
      },
      "outputs": [
        {
          "output_type": "error",
          "ename": "NameError",
          "evalue": "ignored",
          "traceback": [
            "\u001b[0;31m---------------------------------------------------------------------------\u001b[0m",
            "\u001b[0;31mNameError\u001b[0m                                 Traceback (most recent call last)",
            "\u001b[0;32m<ipython-input-1-60903e51fde3>\u001b[0m in \u001b[0;36m<cell line: 2>\u001b[0;34m()\u001b[0m\n\u001b[1;32m      1\u001b[0m \u001b[0;32mfrom\u001b[0m \u001b[0msklearn\u001b[0m\u001b[0;34m.\u001b[0m\u001b[0mmodel_selection\u001b[0m \u001b[0;32mimport\u001b[0m \u001b[0mGridSearchCV\u001b[0m\u001b[0;34m\u001b[0m\u001b[0;34m\u001b[0m\u001b[0m\n\u001b[0;32m----> 2\u001b[0;31m \u001b[0mcv\u001b[0m \u001b[0;34m=\u001b[0m \u001b[0mGridSearchCV\u001b[0m\u001b[0;34m(\u001b[0m\u001b[0mclassifier\u001b[0m\u001b[0;34m,\u001b[0m\u001b[0mparameters\u001b[0m\u001b[0;34m,\u001b[0m\u001b[0mcv\u001b[0m\u001b[0;34m=\u001b[0m\u001b[0;36m5\u001b[0m\u001b[0;34m)\u001b[0m\u001b[0;34m\u001b[0m\u001b[0;34m\u001b[0m\u001b[0m\n\u001b[0m\u001b[1;32m      3\u001b[0m \u001b[0mcv\u001b[0m\u001b[0;34m.\u001b[0m\u001b[0mfit\u001b[0m\u001b[0;34m(\u001b[0m\u001b[0mclfx_train\u001b[0m\u001b[0;34m,\u001b[0m\u001b[0mclfy_train\u001b[0m\u001b[0;34m.\u001b[0m\u001b[0mvalues\u001b[0m\u001b[0;34m.\u001b[0m\u001b[0mravel\u001b[0m\u001b[0;34m(\u001b[0m\u001b[0;34m)\u001b[0m\u001b[0;34m)\u001b[0m\u001b[0;34m\u001b[0m\u001b[0;34m\u001b[0m\u001b[0m\n",
            "\u001b[0;31mNameError\u001b[0m: name 'classifier' is not defined"
          ]
        }
      ],
      "source": [
        "from sklearn.model_selection import GridSearchCV\n",
        "cv = GridSearchCV(classifier,parameters,cv=5)\n",
        "cv.fit(clfx_train,clfy_train.values.ravel())"
      ]
    },
    {
      "cell_type": "code",
      "execution_count": null,
      "metadata": {
        "colab": {
          "base_uri": "https://localhost:8080/"
        },
        "id": "EuagVlcS8YhF",
        "outputId": "c278f387-0379-4556-cc51-5cbf87d260d4"
      },
      "outputs": [
        {
          "name": "stdout",
          "output_type": "stream",
          "text": [
            "Best parameters are: {'max_depth': None, 'n_estimators': 100}\n",
            "\n",
            "\n",
            "0.284 + or -0.021 for the {'max_depth': 2, 'n_estimators': 5}\n",
            "0.387 + or -0.025 for the {'max_depth': 2, 'n_estimators': 10}\n",
            "0.646 + or -0.019 for the {'max_depth': 2, 'n_estimators': 50}\n",
            "0.727 + or -0.015 for the {'max_depth': 2, 'n_estimators': 100}\n",
            "0.81 + or -0.012 for the {'max_depth': 2, 'n_estimators': 250}\n",
            "0.406 + or -0.02 for the {'max_depth': 4, 'n_estimators': 5}\n",
            "0.477 + or -0.028 for the {'max_depth': 4, 'n_estimators': 10}\n",
            "0.743 + or -0.023 for the {'max_depth': 4, 'n_estimators': 50}\n",
            "0.806 + or -0.015 for the {'max_depth': 4, 'n_estimators': 100}\n",
            "0.839 + or -0.005 for the {'max_depth': 4, 'n_estimators': 250}\n",
            "0.505 + or -0.027 for the {'max_depth': 8, 'n_estimators': 5}\n",
            "0.636 + or -0.016 for the {'max_depth': 8, 'n_estimators': 10}\n",
            "0.807 + or -0.008 for the {'max_depth': 8, 'n_estimators': 50}\n",
            "0.842 + or -0.008 for the {'max_depth': 8, 'n_estimators': 100}\n",
            "0.86 + or -0.008 for the {'max_depth': 8, 'n_estimators': 250}\n",
            "0.633 + or -0.028 for the {'max_depth': 16, 'n_estimators': 5}\n",
            "0.722 + or -0.014 for the {'max_depth': 16, 'n_estimators': 10}\n",
            "0.848 + or -0.011 for the {'max_depth': 16, 'n_estimators': 50}\n",
            "0.866 + or -0.003 for the {'max_depth': 16, 'n_estimators': 100}\n",
            "0.875 + or -0.007 for the {'max_depth': 16, 'n_estimators': 250}\n",
            "0.699 + or -0.011 for the {'max_depth': 32, 'n_estimators': 5}\n",
            "0.795 + or -0.01 for the {'max_depth': 32, 'n_estimators': 10}\n",
            "0.866 + or -0.007 for the {'max_depth': 32, 'n_estimators': 50}\n",
            "0.875 + or -0.006 for the {'max_depth': 32, 'n_estimators': 100}\n",
            "0.885 + or -0.006 for the {'max_depth': 32, 'n_estimators': 250}\n",
            "0.744 + or -0.007 for the {'max_depth': None, 'n_estimators': 5}\n",
            "0.816 + or -0.005 for the {'max_depth': None, 'n_estimators': 10}\n",
            "0.879 + or -0.008 for the {'max_depth': None, 'n_estimators': 50}\n",
            "0.89 + or -0.005 for the {'max_depth': None, 'n_estimators': 100}\n",
            "0.887 + or -0.008 for the {'max_depth': None, 'n_estimators': 250}\n"
          ]
        }
      ],
      "source": [
        "def display(results):\n",
        "    print(f'Best parameters are: {results.best_params_}')\n",
        "    print(\"\\n\")\n",
        "    mean_score = results.cv_results_['mean_test_score']\n",
        "    std_score = results.cv_results_['std_test_score']\n",
        "    params = results.cv_results_['params']\n",
        "    for mean,std,params in zip(mean_score,std_score,params):\n",
        "        print(f'{round(mean,3)} + or -{round(std,3)} for the {params}')\n",
        "display(cv)"
      ]
    },
    {
      "cell_type": "code",
      "execution_count": null,
      "metadata": {
        "colab": {
          "base_uri": "https://localhost:8080/"
        },
        "id": "-r0ew-og8quJ",
        "outputId": "ff7d7c5f-bd52-4378-fd13-b604c32c3ad1"
      },
      "outputs": [
        {
          "data": {
            "text/plain": [
              "RandomForestClassifier()"
            ]
          },
          "execution_count": 65,
          "metadata": {},
          "output_type": "execute_result"
        }
      ],
      "source": [
        "clf = RandomForestClassifier(n_estimators=100)\n",
        "clf.fit(clfx_train,clfy_train)"
      ]
    },
    {
      "cell_type": "code",
      "execution_count": null,
      "metadata": {
        "colab": {
          "base_uri": "https://localhost:8080/"
        },
        "id": "2-cje9aQ84in",
        "outputId": "b3842666-fa6d-4238-a5ca-02362c5b6c8d"
      },
      "outputs": [
        {
          "name": "stdout",
          "output_type": "stream",
          "text": [
            "0.8947619047619048\n"
          ]
        }
      ],
      "source": [
        "print(clf.score(clfx_test,clfy_test))"
      ]
    },
    {
      "cell_type": "markdown",
      "metadata": {
        "id": "6Hqh9YFoT75f"
      },
      "source": [
        "# Applying Logistic Regression"
      ]
    },
    {
      "cell_type": "markdown",
      "metadata": {
        "id": "G9bemq62E6yS"
      },
      "source": [
        "***Pipeline module in scikit-learn:*** is a tool that simplifies preprocessing by grouping operations in a pipe.\\\n",
        "***Pipeline Class:*** is to sequentially apply a list of transforms and a final estimator. Intermediate steps of pipeline must implement fit and tranform, and the final estimator only needst to implement fit.\\\n",
        "***Countvectorizer:*** is a method to convert text to numerical data so that the machine can deal with it. It converts the text to a sparse matrix of unique words counted using word-level tokenization.\\\n",
        "***TF:*** term frequency\\\n",
        "***IDF:*** inverse document frequency\\\n",
        "***TfidfTransformer:*** converts a collection of raw documents to a matrix of TF-IDF features. In order to start using TfidfTransformer you will first have to create a CountVectorizer to count the number of words (term frequency).\n"
      ]
    },
    {
      "cell_type": "code",
      "execution_count": null,
      "metadata": {
        "colab": {
          "base_uri": "https://localhost:8080/"
        },
        "id": "sLx6TI-4TITF",
        "outputId": "af867388-0b2b-4ca4-a34c-fb401b571dbe"
      },
      "outputs": [
        {
          "name": "stdout",
          "output_type": "stream",
          "text": [
            "Accuracy: 0.9373361925184656\n"
          ]
        }
      ],
      "source": [
        "from sklearn.linear_model import LogisticRegression\n",
        "from sklearn.pipeline import Pipeline\n",
        "from sklearn.feature_extraction.text import TfidfTransformer\n",
        "from sklearn.feature_extraction.text import CountVectorizer\n",
        "from sklearn.metrics import accuracy_score\n",
        "\n",
        "logR=Pipeline([('vect',CountVectorizer()),\n",
        "             ('tfidf',TfidfTransformer()),\n",
        "             ('clf',LogisticRegression())\n",
        "             ])\n",
        "\n",
        "# logR=Pipeline([('vect',CountVectorizer(binary=True)),\n",
        "#              ('tfidf',TfidfTransformer()),\n",
        "#              ('clf',LogisticRegression())\n",
        "#              ])\n",
        "\n",
        "logR.fit(x_train,y_train) # takes 31s to run\n",
        "y_pred_logR=logR.predict(x_test)\n",
        "\n",
        "print(f'Accuracy: {accuracy_score(y_pred_logR,y_test)}')"
      ]
    },
    {
      "cell_type": "markdown",
      "metadata": {
        "id": "p1WhvyQOvokr"
      },
      "source": [
        "# More Logistic Regression"
      ]
    },
    {
      "cell_type": "code",
      "execution_count": null,
      "metadata": {
        "colab": {
          "base_uri": "https://localhost:8080/"
        },
        "id": "1tYodTzZn-Ci",
        "outputId": "2ab1f4ae-96b9-4138-f6a1-1bba6e7e3cef"
      },
      "outputs": [
        {
          "data": {
            "text/plain": [
              "3333     0\n",
              "11812    4\n",
              "7697     6\n",
              "9077     5\n",
              "12208    3\n",
              "        ..\n",
              "2801     0\n",
              "12661    3\n",
              "6874     6\n",
              "3770     0\n",
              "9422     5\n",
              "Name: numeric_class, Length: 13988, dtype: int64"
            ]
          },
          "execution_count": 36,
          "metadata": {},
          "output_type": "execute_result"
        }
      ],
      "source": [
        "# Convert labels from categorical to numeric\n",
        "label_map={'Finance':0,'Culture':1, 'Medical':2, 'Tech':3, 'Sports': 4, 'Religion':5, 'Politics':6}\n",
        "dataset['numeric_class']=dataset['class'].apply(lambda x: label_map[x])\n",
        "dataset.numeric_class"
      ]
    },
    {
      "cell_type": "code",
      "execution_count": null,
      "metadata": {
        "id": "dDj0FwiZpPlm"
      },
      "outputs": [],
      "source": [
        "x=dataset['abstract_article']\n",
        "y=dataset['numeric_class']\n",
        "feature_train,feature_test,target_train,target_test= train_test_split(x,y,test_size=0.2,random_state=42)"
      ]
    },
    {
      "cell_type": "markdown",
      "metadata": {
        "id": "oZROB6vEMlD5"
      },
      "source": [
        "***TfidfVectorizer:*** with Tfidfvectorizer you compute the word counts, idf and tf-idf values all at once.\\\n",
        "***GridSearchCV:*** is the process of performing hyperparameter tuning in order to determine the optimal values for a given model. It’s essentially a cross-validation technique."
      ]
    },
    {
      "cell_type": "code",
      "execution_count": null,
      "metadata": {
        "id": "2EhicA12eZxB"
      },
      "outputs": [],
      "source": [
        "from sklearn.model_selection import GridSearchCV\n",
        "from sklearn.feature_extraction.text import TfidfVectorizer\n",
        "from sklearn.pipeline import make_pipeline\n",
        "# from sklearn.metrics import confusion_matrix, classification_report\n",
        "\n",
        "pipe=make_pipeline(TfidfVectorizer(), LogisticRegression())\n",
        "\n",
        "# Similar to fine-tuning parameters (test these values and returns the best for the classifier)\n",
        "param_grid= {'logisticregression__C': [0.01, 0.1, 1, 10, 100]}\n",
        "model= GridSearchCV(pipe, param_grid, cv=5) # takes 10min to run\n",
        "\n",
        "model.fit(feature_train,target_train)"
      ]
    },
    {
      "cell_type": "code",
      "execution_count": null,
      "metadata": {
        "colab": {
          "base_uri": "https://localhost:8080/"
        },
        "id": "KCn4toz8vZtO",
        "outputId": "3c97343c-9e9a-4dfd-fad4-68bff2397da2"
      },
      "outputs": [
        {
          "name": "stdout",
          "output_type": "stream",
          "text": [
            "Accuracy: 0.94\n"
          ]
        }
      ],
      "source": [
        "# Performance Evaluation\n",
        "y_pred_logR2=model.predict(feature_test)\n",
        "print(f'Accuracy: {accuracy_score(y_pred_logR2,target_test):.2f}')\n",
        "# print(classification_report(y_pred_logR2, target_test))"
      ]
    },
    {
      "cell_type": "markdown",
      "metadata": {
        "id": "N99xVtNsL_6x"
      },
      "source": [
        "# Applying Naive Bayes"
      ]
    },
    {
      "cell_type": "markdown",
      "metadata": {
        "id": "kdjjNfmhb6ZS"
      },
      "source": [
        "***Multinomial Naive Bayes algorithm:*** is a probabilistic learning method based on the Bayes theorem and predicts the tag of a text. It calculates the probability of each tag for a given sample and then gives the tag with the highest probability as output."
      ]
    },
    {
      "cell_type": "code",
      "execution_count": null,
      "metadata": {
        "colab": {
          "base_uri": "https://localhost:8080/"
        },
        "id": "znZp8QkSMDtc",
        "outputId": "fa40b9f5-69d1-4b2f-a2fd-b8485fbfb3ab"
      },
      "outputs": [
        {
          "name": "stdout",
          "output_type": "stream",
          "text": [
            "accuracy: 0.9239933285680247\n"
          ]
        }
      ],
      "source": [
        "from sklearn.naive_bayes import MultinomialNB\n",
        "\n",
        "naiveB=Pipeline([('vect',CountVectorizer()),\n",
        "                 ('tfidf',TfidfTransformer()),\n",
        "                 ('clf',MultinomialNB())\n",
        "                ])\n",
        "\n",
        "naiveB.fit(x_train,y_train)\n",
        "y_pred_naiveB=naiveB.predict(x_test)\n",
        "print(f'accuracy: {accuracy_score(y_pred_naiveB,y_test)}')"
      ]
    },
    {
      "cell_type": "markdown",
      "metadata": {
        "id": "Twh9zK3OP_vt"
      },
      "source": [
        "# Applying Neural Network"
      ]
    },
    {
      "cell_type": "code",
      "execution_count": null,
      "metadata": {
        "colab": {
          "base_uri": "https://localhost:8080/"
        },
        "id": "xTh67IXS3RHr",
        "outputId": "c1ce847f-5370-4535-d1ae-d572e1488cae"
      },
      "outputs": [
        {
          "data": {
            "text/plain": [
              "((4000,), (1000,))"
            ]
          },
          "execution_count": 42,
          "metadata": {},
          "output_type": "execute_result"
        }
      ],
      "source": [
        "# Using less data\n",
        "x=dataset['abstract_article'][:5000]\n",
        "y=dataset['class'][:5000]\n",
        "x_train,x_test,y_train,y_test= train_test_split(x,y,test_size=0.2,random_state=42)\n",
        "x_train.shape,x_test.shape"
      ]
    },
    {
      "cell_type": "code",
      "execution_count": null,
      "metadata": {
        "id": "9fj-krZlzUFY"
      },
      "outputs": [],
      "source": [
        "# Tokenizing and converting text to matrix\n",
        "from keras.preprocessing.text import Tokenizer\n",
        "\n",
        "tokenizer=Tokenizer(num_words=None,lower=False)\n",
        "tokenizer.fit_on_texts(x)\n",
        "\n",
        "x_train_tok=tokenizer.texts_to_matrix(x_train,mode='tfidf')\n",
        "x_test_tok=tokenizer.texts_to_matrix(x_test,mode='tfidf')"
      ]
    },
    {
      "cell_type": "code",
      "execution_count": null,
      "metadata": {
        "id": "J90EjeYl9Yv5"
      },
      "outputs": [],
      "source": [
        "# One-Hot Encoding of Classes\n",
        "from sklearn.preprocessing import LabelEncoder\n",
        "import keras.preprocessing.text\n",
        "\n",
        "label_encoder = LabelEncoder()\n",
        "label_encoder.fit(y)\n",
        "y_encoded = label_encoder.fit_transform(y)\n",
        "\n",
        "num_labels = len(set(y_encoded))\n",
        "y_train_encoded = label_encoder.fit_transform(y_train)\n",
        "y_test_encoded = label_encoder.fit_transform(y_test)\n",
        "# One-Hot Encoding\n",
        "y_train_encoded_ = keras.utils.to_categorical(y_train_encoded,num_labels)\n",
        "y_test_encoded_ = keras.utils.to_categorical(y_test_encoded,num_labels)"
      ]
    },
    {
      "cell_type": "code",
      "execution_count": null,
      "metadata": {
        "id": "PAkO4q8a-zCJ"
      },
      "outputs": [],
      "source": [
        "# Building Neural Network Model\n",
        "from keras.models import Sequential\n",
        "from keras.layers import Dense, Activation, Dropout\n",
        "\n",
        "max_words = len(tokenizer.word_index) + 1\n",
        "\n",
        "model=Sequential()\n",
        "model.add(Dense(1024,input_shape=(max_words,)))\n",
        "model.add(Activation('relu'))\n",
        "model.add(Dropout(0.5))\n",
        "model.add(Dense(num_labels))\n",
        "model.add(Activation('sigmoid'))"
      ]
    },
    {
      "cell_type": "markdown",
      "metadata": {
        "id": "-lXq6fF0YH4n"
      },
      "source": [
        "***categorical_crossentropy:*** Used as a loss function for multi-class classification model where there are two or more output labels. The output label is assigned one-hot category encoding value in form of 0s and 1. The output label, if present in integer form, is converted into categorical encoding using keras.utils to_categorical method."
      ]
    },
    {
      "cell_type": "code",
      "execution_count": null,
      "metadata": {
        "colab": {
          "base_uri": "https://localhost:8080/"
        },
        "id": "r4XOqCEEJ0n5",
        "outputId": "242dd528-56b1-4a73-d986-69d3da999242"
      },
      "outputs": [
        {
          "name": "stdout",
          "output_type": "stream",
          "text": [
            "Epoch 1/5\n",
            "36/36 [==============================] - 6s 80ms/step - loss: 0.5359 - categorical_accuracy: 0.8592 - val_loss: 0.2820 - val_categorical_accuracy: 0.9325\n",
            "Epoch 2/5\n",
            "36/36 [==============================] - 2s 61ms/step - loss: 0.0112 - categorical_accuracy: 0.9972 - val_loss: 0.2673 - val_categorical_accuracy: 0.9325\n",
            "Epoch 3/5\n",
            "36/36 [==============================] - 2s 61ms/step - loss: 5.4564e-04 - categorical_accuracy: 1.0000 - val_loss: 0.2967 - val_categorical_accuracy: 0.9225\n",
            "Epoch 4/5\n",
            "36/36 [==============================] - 2s 61ms/step - loss: 8.0951e-05 - categorical_accuracy: 1.0000 - val_loss: 0.2944 - val_categorical_accuracy: 0.9275\n",
            "Epoch 5/5\n",
            "36/36 [==============================] - 2s 59ms/step - loss: 3.6653e-05 - categorical_accuracy: 1.0000 - val_loss: 0.2862 - val_categorical_accuracy: 0.9275\n"
          ]
        },
        {
          "data": {
            "text/plain": [
              "<keras.callbacks.History at 0x7fa383ce5b50>"
            ]
          },
          "execution_count": 47,
          "metadata": {},
          "output_type": "execute_result"
        }
      ],
      "source": [
        "# Train\n",
        "model.compile(loss='categorical_crossentropy', optimizer='adam', metrics=['categorical_accuracy'])\n",
        "model.fit(x_train_tok, y_train_encoded_, batch_size=100, epochs=5, verbose=1, validation_split=0.1)"
      ]
    },
    {
      "cell_type": "code",
      "execution_count": null,
      "metadata": {
        "colab": {
          "base_uri": "https://localhost:8080/"
        },
        "id": "Ji-JmU5-LxfB",
        "outputId": "a2d60704-fcf2-44ce-dbf5-5dd0404f058f"
      },
      "outputs": [
        {
          "name": "stdout",
          "output_type": "stream",
          "text": [
            "Loss\t\t categorical_accuracy\t\n",
            "[0.4528392553329468, 0.9269999861717224]\n"
          ]
        }
      ],
      "source": [
        "# Test\n",
        "eval_val = model.evaluate(x_test_tok, y_test_encoded_, verbose=0)\n",
        "print(\"Loss\\t\\t\" , 'categorical_accuracy\\t')\n",
        "print(eval_val)"
      ]
    },
    {
      "cell_type": "markdown",
      "metadata": {
        "id": "04-h4LTSAa6A"
      },
      "source": [
        "# Resources\n",
        "https://www.askpython.com/python-modules/nltk-punkt \\\n",
        "https://www.datacourses.com/what-is-a-sklearn-pipeline-3992/ \\\n",
        "https://towardsdatascience.com/basics-of-countvectorizer-e26677900f9c \\\n",
        "https://kavita-ganesan.com/tfidftransformer-tfidfvectorizer-usage-differences/#.Y7rqxf5By00 \\\n",
        "https://www.mygreatlearning.com/blog/gridsearchcv/ \\\n",
        "https://vitalflux.com/keras-categorical-cross-entropy-loss-function/ \\\n",
        "https://www.upgrad.com/blog/multinomial-naive-bayes-explained/\n"
      ]
    },
    {
      "cell_type": "code",
      "execution_count": null,
      "metadata": {
        "id": "DC0qgj_OAw6V"
      },
      "outputs": [],
      "source": []
    }
  ],
  "metadata": {
    "colab": {
      "provenance": []
    },
    "kernelspec": {
      "display_name": "Python 3",
      "name": "python3"
    },
    "language_info": {
      "name": "python"
    }
  },
  "nbformat": 4,
  "nbformat_minor": 0
}