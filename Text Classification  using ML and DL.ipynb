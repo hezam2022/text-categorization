{
  "cells": [
    {
      "cell_type": "code",
      "execution_count": null,
      "metadata": {
        "execution": {
          "iopub.execute_input": "2022-07-16T23:50:30.831236Z",
          "iopub.status.busy": "2022-07-16T23:50:30.830801Z",
          "iopub.status.idle": "2022-07-16T23:50:53.485162Z",
          "shell.execute_reply": "2022-07-16T23:50:53.484012Z",
          "shell.execute_reply.started": "2022-07-16T23:50:30.831204Z"
        },
        "trusted": true,
        "id": "jO-M3jH5M7f4"
      },
      "outputs": [],
      "source": [
        "!pip install Arabic-Stopwords\n",
        "!pip install openpyxl\n",
        "!pip install ktrain"
      ]
    },
    {
      "cell_type": "code",
      "execution_count": null,
      "metadata": {
        "execution": {
          "iopub.execute_input": "2022-07-16T23:50:53.489314Z",
          "iopub.status.busy": "2022-07-16T23:50:53.489005Z",
          "iopub.status.idle": "2022-07-16T23:50:54.135977Z",
          "shell.execute_reply": "2022-07-16T23:50:54.135035Z",
          "shell.execute_reply.started": "2022-07-16T23:50:53.489287Z"
        },
        "trusted": true,
        "id": "KIXwBeuGM7gC"
      },
      "outputs": [],
      "source": [
        "# Essentials\n",
        "import numpy as np\n",
        "import pandas as pd\n",
        "import matplotlib.pyplot as plt\n",
        "%matplotlib inline\n",
        "import os\n",
        "\n",
        "# Import functions for data preprocessing & data preparation\n",
        "from sklearn.preprocessing import LabelEncoder\n",
        "from sklearn.utils import resample\n",
        "from sklearn.feature_extraction.text import CountVectorizer\n",
        "\n",
        "import arabicstopwords.arabicstopwords as stp\n",
        "from nltk.tokenize import word_tokenize\n",
        "from nltk.stem import WordNetLemmatizer\n",
        "from nltk.stem import PorterStemmer, LancasterStemmer\n",
        "from nltk.stem.snowball import SnowballStemmer\n",
        "from nltk.corpus import stopwords\n",
        "from nltk.corpus import wordnet\n",
        "import string\n",
        "from string import punctuation\n",
        "import nltk\n",
        "import re\n",
        "\n",
        "import os\n"
      ]
    },
    {
      "cell_type": "code",
      "execution_count": null,
      "metadata": {
        "execution": {
          "iopub.execute_input": "2022-07-16T23:50:54.137688Z",
          "iopub.status.busy": "2022-07-16T23:50:54.137321Z",
          "iopub.status.idle": "2022-07-16T23:50:54.885191Z",
          "shell.execute_reply": "2022-07-16T23:50:54.884224Z",
          "shell.execute_reply.started": "2022-07-16T23:50:54.137652Z"
        },
        "trusted": true,
        "id": "zUAu4P6PM7gF",
        "colab": {
          "base_uri": "https://localhost:8080/"
        },
        "outputId": "83b5b024-2710-49ef-c332-ef234233d572"
      },
      "outputs": [
        {
          "output_type": "stream",
          "name": "stderr",
          "text": [
            "[nltk_data] Downloading package punkt to /root/nltk_data...\n",
            "[nltk_data]   Unzipping tokenizers/punkt.zip.\n",
            "[nltk_data] Downloading package stopwords to /root/nltk_data...\n",
            "[nltk_data]   Unzipping corpora/stopwords.zip.\n"
          ]
        },
        {
          "output_type": "execute_result",
          "data": {
            "text/plain": [
              "True"
            ]
          },
          "metadata": {},
          "execution_count": 22
        }
      ],
      "source": [
        "nltk.download('punkt')\n",
        "nltk.download('stopwords')"
      ]
    },
    {
      "cell_type": "code",
      "source": [
        "from google.colab import drive\n",
        "drive.mount('/content/drive')"
      ],
      "metadata": {
        "id": "EIgu0wryNGgO",
        "colab": {
          "base_uri": "https://localhost:8080/"
        },
        "outputId": "af33a0fe-33aa-4b16-e611-1f0f7beae34a"
      },
      "execution_count": null,
      "outputs": [
        {
          "output_type": "stream",
          "name": "stdout",
          "text": [
            "Mounted at /content/drive\n"
          ]
        }
      ]
    },
    {
      "cell_type": "code",
      "source": [
        "'''\n",
        "import os\n",
        "import codecs\n",
        "import pandas as pd\n",
        "topics = os.listdir('/content/drive/MyDrive/Akhbarona')\n",
        "dataset,y=[],[]\n",
        "for topic in topics:\n",
        "  articles = [article for article in os.listdir(f'/content/drive/MyDrive/Akhbarona/{topic}')]\n",
        "  for article in articles:\n",
        "    str1= \"\"\n",
        "    f=codecs.open(f'/content/drive/MyDrive/Akhbarona/{topic}/{article}', 'r',encoding='utf-8')\n",
        "    dataset.append(str1.join(f.readlines()))\n",
        "    y.append(topic)\n",
        "df = pd.DataFrame(list(zip(dataset,y)),columns=['text','class'])\n",
        "df.to_csv('/content/drive/MyDrive/Akhbarona.csv',encoding='utf-8')\n",
        "df['text'][2]\n",
        "'''"
      ],
      "metadata": {
        "colab": {
          "base_uri": "https://localhost:8080/",
          "height": 53
        },
        "id": "6cQnbRJFQUGK",
        "outputId": "c82a5f0d-821c-4a7f-9f4f-318ad7dc9809"
      },
      "execution_count": null,
      "outputs": [
        {
          "output_type": "execute_result",
          "data": {
            "text/plain": [
              "'أحرز المنتخب الروسي لكرة القدم الشاطئية لقب كأس العالم في اللعبية بعد أن أطاح بنظيره البرازيلي 12-8 في البطولة التي جرت منافساتها في مدينة رافينا الإيطالية .وخفقت بريق نجوم السامبا الذين اعتادو حصد اللقب العالمي أمام المهارات الفنية للدب الروسي . وحجزت البرتغال المركز الثالث على حساب السلفادور بنتيجة 3-2 .'"
            ],
            "application/vnd.google.colaboratory.intrinsic+json": {
              "type": "string"
            }
          },
          "metadata": {},
          "execution_count": 16
        }
      ]
    },
    {
      "cell_type": "code",
      "source": [
        "data= pd.DataFrame(columns=['News','Type'])\n",
        "df=pd.read_csv('/content/drive/MyDrive/Akhbarona.csv')\n",
        "data['News']=df['text']\n",
        "data['Type']=df['class']\n",
        "data"
      ],
      "metadata": {
        "colab": {
          "base_uri": "https://localhost:8080/",
          "height": 423
        },
        "id": "zUFvMognSZ-7",
        "outputId": "540ab693-51ad-4a06-8b29-142b2fb8497e"
      },
      "execution_count": null,
      "outputs": [
        {
          "output_type": "execute_result",
          "data": {
            "text/plain": [
              "                                                   News    Type\n",
              "0     حقق فريق مانشستر سيتي حامل اللقب فوزه السادس ع...  Sports\n",
              "1     يواجه هرتا برلين اختباراً صعباً عندما يحل غدا ...  Sports\n",
              "2     أحرز المنتخب الروسي لكرة القدم الشاطئية لقب كأ...  Sports\n",
              "3     أحرز الثنائي الإسباني فيرناندو إشافاري وأنتون ...  Sports\n",
              "4     ألهب النجم الفرنسي السابق زين الدين زيدان حماس...  Sports\n",
              "...                                                 ...     ...\n",
              "3495  كشفت شركة سيمانتيك أمس عن نتائج تقريرها حالة م...    Tech\n",
              "3496  أعلنت مايكروسوفت أمس أنها ستكشف النقاب بالتعاو...    Tech\n",
              "3497  أعلنت شركة بيفورت PAYFORT بوابة المدفوعات الإل...    Tech\n",
              "3498  دبي - \"الخليج\":أعلنت \"بروسيرا نتوركس\"، الشركة ...    Tech\n",
              "3499  أعلنت أمس أيوميغا الشركة التابعة لإي إم سي الم...    Tech\n",
              "\n",
              "[3500 rows x 2 columns]"
            ],
            "text/html": [
              "\n",
              "  <div id=\"df-83402362-864a-4aa8-b87b-f3dec28a9337\" class=\"colab-df-container\">\n",
              "    <div>\n",
              "<style scoped>\n",
              "    .dataframe tbody tr th:only-of-type {\n",
              "        vertical-align: middle;\n",
              "    }\n",
              "\n",
              "    .dataframe tbody tr th {\n",
              "        vertical-align: top;\n",
              "    }\n",
              "\n",
              "    .dataframe thead th {\n",
              "        text-align: right;\n",
              "    }\n",
              "</style>\n",
              "<table border=\"1\" class=\"dataframe\">\n",
              "  <thead>\n",
              "    <tr style=\"text-align: right;\">\n",
              "      <th></th>\n",
              "      <th>News</th>\n",
              "      <th>Type</th>\n",
              "    </tr>\n",
              "  </thead>\n",
              "  <tbody>\n",
              "    <tr>\n",
              "      <th>0</th>\n",
              "      <td>حقق فريق مانشستر سيتي حامل اللقب فوزه السادس ع...</td>\n",
              "      <td>Sports</td>\n",
              "    </tr>\n",
              "    <tr>\n",
              "      <th>1</th>\n",
              "      <td>يواجه هرتا برلين اختباراً صعباً عندما يحل غدا ...</td>\n",
              "      <td>Sports</td>\n",
              "    </tr>\n",
              "    <tr>\n",
              "      <th>2</th>\n",
              "      <td>أحرز المنتخب الروسي لكرة القدم الشاطئية لقب كأ...</td>\n",
              "      <td>Sports</td>\n",
              "    </tr>\n",
              "    <tr>\n",
              "      <th>3</th>\n",
              "      <td>أحرز الثنائي الإسباني فيرناندو إشافاري وأنتون ...</td>\n",
              "      <td>Sports</td>\n",
              "    </tr>\n",
              "    <tr>\n",
              "      <th>4</th>\n",
              "      <td>ألهب النجم الفرنسي السابق زين الدين زيدان حماس...</td>\n",
              "      <td>Sports</td>\n",
              "    </tr>\n",
              "    <tr>\n",
              "      <th>...</th>\n",
              "      <td>...</td>\n",
              "      <td>...</td>\n",
              "    </tr>\n",
              "    <tr>\n",
              "      <th>3495</th>\n",
              "      <td>كشفت شركة سيمانتيك أمس عن نتائج تقريرها حالة م...</td>\n",
              "      <td>Tech</td>\n",
              "    </tr>\n",
              "    <tr>\n",
              "      <th>3496</th>\n",
              "      <td>أعلنت مايكروسوفت أمس أنها ستكشف النقاب بالتعاو...</td>\n",
              "      <td>Tech</td>\n",
              "    </tr>\n",
              "    <tr>\n",
              "      <th>3497</th>\n",
              "      <td>أعلنت شركة بيفورت PAYFORT بوابة المدفوعات الإل...</td>\n",
              "      <td>Tech</td>\n",
              "    </tr>\n",
              "    <tr>\n",
              "      <th>3498</th>\n",
              "      <td>دبي - \"الخليج\":أعلنت \"بروسيرا نتوركس\"، الشركة ...</td>\n",
              "      <td>Tech</td>\n",
              "    </tr>\n",
              "    <tr>\n",
              "      <th>3499</th>\n",
              "      <td>أعلنت أمس أيوميغا الشركة التابعة لإي إم سي الم...</td>\n",
              "      <td>Tech</td>\n",
              "    </tr>\n",
              "  </tbody>\n",
              "</table>\n",
              "<p>3500 rows × 2 columns</p>\n",
              "</div>\n",
              "    <div class=\"colab-df-buttons\">\n",
              "\n",
              "  <div class=\"colab-df-container\">\n",
              "    <button class=\"colab-df-convert\" onclick=\"convertToInteractive('df-83402362-864a-4aa8-b87b-f3dec28a9337')\"\n",
              "            title=\"Convert this dataframe to an interactive table.\"\n",
              "            style=\"display:none;\">\n",
              "\n",
              "  <svg xmlns=\"http://www.w3.org/2000/svg\" height=\"24px\" viewBox=\"0 -960 960 960\">\n",
              "    <path d=\"M120-120v-720h720v720H120Zm60-500h600v-160H180v160Zm220 220h160v-160H400v160Zm0 220h160v-160H400v160ZM180-400h160v-160H180v160Zm440 0h160v-160H620v160ZM180-180h160v-160H180v160Zm440 0h160v-160H620v160Z\"/>\n",
              "  </svg>\n",
              "    </button>\n",
              "\n",
              "  <style>\n",
              "    .colab-df-container {\n",
              "      display:flex;\n",
              "      gap: 12px;\n",
              "    }\n",
              "\n",
              "    .colab-df-convert {\n",
              "      background-color: #E8F0FE;\n",
              "      border: none;\n",
              "      border-radius: 50%;\n",
              "      cursor: pointer;\n",
              "      display: none;\n",
              "      fill: #1967D2;\n",
              "      height: 32px;\n",
              "      padding: 0 0 0 0;\n",
              "      width: 32px;\n",
              "    }\n",
              "\n",
              "    .colab-df-convert:hover {\n",
              "      background-color: #E2EBFA;\n",
              "      box-shadow: 0px 1px 2px rgba(60, 64, 67, 0.3), 0px 1px 3px 1px rgba(60, 64, 67, 0.15);\n",
              "      fill: #174EA6;\n",
              "    }\n",
              "\n",
              "    .colab-df-buttons div {\n",
              "      margin-bottom: 4px;\n",
              "    }\n",
              "\n",
              "    [theme=dark] .colab-df-convert {\n",
              "      background-color: #3B4455;\n",
              "      fill: #D2E3FC;\n",
              "    }\n",
              "\n",
              "    [theme=dark] .colab-df-convert:hover {\n",
              "      background-color: #434B5C;\n",
              "      box-shadow: 0px 1px 3px 1px rgba(0, 0, 0, 0.15);\n",
              "      filter: drop-shadow(0px 1px 2px rgba(0, 0, 0, 0.3));\n",
              "      fill: #FFFFFF;\n",
              "    }\n",
              "  </style>\n",
              "\n",
              "    <script>\n",
              "      const buttonEl =\n",
              "        document.querySelector('#df-83402362-864a-4aa8-b87b-f3dec28a9337 button.colab-df-convert');\n",
              "      buttonEl.style.display =\n",
              "        google.colab.kernel.accessAllowed ? 'block' : 'none';\n",
              "\n",
              "      async function convertToInteractive(key) {\n",
              "        const element = document.querySelector('#df-83402362-864a-4aa8-b87b-f3dec28a9337');\n",
              "        const dataTable =\n",
              "          await google.colab.kernel.invokeFunction('convertToInteractive',\n",
              "                                                    [key], {});\n",
              "        if (!dataTable) return;\n",
              "\n",
              "        const docLinkHtml = 'Like what you see? Visit the ' +\n",
              "          '<a target=\"_blank\" href=https://colab.research.google.com/notebooks/data_table.ipynb>data table notebook</a>'\n",
              "          + ' to learn more about interactive tables.';\n",
              "        element.innerHTML = '';\n",
              "        dataTable['output_type'] = 'display_data';\n",
              "        await google.colab.output.renderOutput(dataTable, element);\n",
              "        const docLink = document.createElement('div');\n",
              "        docLink.innerHTML = docLinkHtml;\n",
              "        element.appendChild(docLink);\n",
              "      }\n",
              "    </script>\n",
              "  </div>\n",
              "\n",
              "\n",
              "<div id=\"df-87c49594-f9e7-4866-b784-cb68d24f5c45\">\n",
              "  <button class=\"colab-df-quickchart\" onclick=\"quickchart('df-87c49594-f9e7-4866-b784-cb68d24f5c45')\"\n",
              "            title=\"Suggest charts.\"\n",
              "            style=\"display:none;\">\n",
              "\n",
              "<svg xmlns=\"http://www.w3.org/2000/svg\" height=\"24px\"viewBox=\"0 0 24 24\"\n",
              "     width=\"24px\">\n",
              "    <g>\n",
              "        <path d=\"M19 3H5c-1.1 0-2 .9-2 2v14c0 1.1.9 2 2 2h14c1.1 0 2-.9 2-2V5c0-1.1-.9-2-2-2zM9 17H7v-7h2v7zm4 0h-2V7h2v10zm4 0h-2v-4h2v4z\"/>\n",
              "    </g>\n",
              "</svg>\n",
              "  </button>\n",
              "\n",
              "<style>\n",
              "  .colab-df-quickchart {\n",
              "    background-color: #E8F0FE;\n",
              "    border: none;\n",
              "    border-radius: 50%;\n",
              "    cursor: pointer;\n",
              "    display: none;\n",
              "    fill: #1967D2;\n",
              "    height: 32px;\n",
              "    padding: 0 0 0 0;\n",
              "    width: 32px;\n",
              "  }\n",
              "\n",
              "  .colab-df-quickchart:hover {\n",
              "    background-color: #E2EBFA;\n",
              "    box-shadow: 0px 1px 2px rgba(60, 64, 67, 0.3), 0px 1px 3px 1px rgba(60, 64, 67, 0.15);\n",
              "    fill: #174EA6;\n",
              "  }\n",
              "\n",
              "  [theme=dark] .colab-df-quickchart {\n",
              "    background-color: #3B4455;\n",
              "    fill: #D2E3FC;\n",
              "  }\n",
              "\n",
              "  [theme=dark] .colab-df-quickchart:hover {\n",
              "    background-color: #434B5C;\n",
              "    box-shadow: 0px 1px 3px 1px rgba(0, 0, 0, 0.15);\n",
              "    filter: drop-shadow(0px 1px 2px rgba(0, 0, 0, 0.3));\n",
              "    fill: #FFFFFF;\n",
              "  }\n",
              "</style>\n",
              "\n",
              "  <script>\n",
              "    async function quickchart(key) {\n",
              "      const charts = await google.colab.kernel.invokeFunction(\n",
              "          'suggestCharts', [key], {});\n",
              "    }\n",
              "    (() => {\n",
              "      let quickchartButtonEl =\n",
              "        document.querySelector('#df-87c49594-f9e7-4866-b784-cb68d24f5c45 button');\n",
              "      quickchartButtonEl.style.display =\n",
              "        google.colab.kernel.accessAllowed ? 'block' : 'none';\n",
              "    })();\n",
              "  </script>\n",
              "</div>\n",
              "    </div>\n",
              "  </div>\n"
            ]
          },
          "metadata": {},
          "execution_count": 18
        }
      ]
    },
    {
      "cell_type": "code",
      "execution_count": null,
      "metadata": {
        "execution": {
          "iopub.execute_input": "2022-07-16T23:51:06.170166Z",
          "iopub.status.busy": "2022-07-16T23:51:06.169828Z",
          "iopub.status.idle": "2022-07-16T23:51:06.400257Z",
          "shell.execute_reply": "2022-07-16T23:51:06.399285Z",
          "shell.execute_reply.started": "2022-07-16T23:51:06.170131Z"
        },
        "trusted": true,
        "id": "fA178A3KM7gJ",
        "colab": {
          "base_uri": "https://localhost:8080/",
          "height": 563
        },
        "outputId": "38f5e9da-393d-4a87-b780-fa735e460b23"
      },
      "outputs": [
        {
          "output_type": "display_data",
          "data": {
            "text/plain": [
              "<Figure size 1000x600 with 1 Axes>"
            ],
            "image/png": "[encoded data removed]"
          },
          "metadata": {}
        }
      ],
      "source": [
        "data['Type'].value_counts().plot(kind='bar',figsize=(10,6),grid='-')\n",
        "plt.show()"
      ]
    },
    {
      "cell_type": "code",
      "execution_count": null,
      "metadata": {
        "execution": {
          "iopub.execute_input": "2022-07-16T23:51:06.401903Z",
          "iopub.status.busy": "2022-07-16T23:51:06.401565Z",
          "iopub.status.idle": "2022-07-16T23:51:06.410747Z",
          "shell.execute_reply": "2022-07-16T23:51:06.409732Z",
          "shell.execute_reply.started": "2022-07-16T23:51:06.401851Z"
        },
        "trusted": true,
        "id": "jFIv7nPFM7gL"
      },
      "outputs": [],
      "source": [
        "stop_words = stopwords.words('arabic')"
      ]
    },
    {
      "cell_type": "code",
      "execution_count": null,
      "metadata": {
        "execution": {
          "iopub.execute_input": "2022-07-16T23:51:06.414597Z",
          "iopub.status.busy": "2022-07-16T23:51:06.414102Z",
          "iopub.status.idle": "2022-07-16T23:51:06.422951Z",
          "shell.execute_reply": "2022-07-16T23:51:06.422063Z",
          "shell.execute_reply.started": "2022-07-16T23:51:06.414531Z"
        },
        "trusted": true,
        "id": "ywNo_6xDM7gN"
      },
      "outputs": [],
      "source": [
        "def text_processing(text):\n",
        "    # convert text into lowercase\n",
        "    text = text.lower()\n",
        "\n",
        "    # remove new line characters in text\n",
        "    text = re.sub(r'\\n',' ', text)\n",
        "\n",
        "    # remove punctuations from text\n",
        "    text = re.sub('[%s]' % re.escape(punctuation), \"\", text)\n",
        "\n",
        "    # remove references and hashtags from text\n",
        "    text = re.sub(\"^a-zA-Z0-9$,.\", \"\", text)\n",
        "\n",
        "    # remove multiple spaces from text\n",
        "    text = re.sub(r'\\s+', ' ', text, flags=re.I)\n",
        "\n",
        "    # remove special characters from text\n",
        "    text = re.sub(r'\\W', ' ', text)\n",
        "\n",
        "    # tokenize the words using nltk word tokenizer and remove the stop words using nltk package's english stop words\n",
        "    text = ' '.join([word for word in word_tokenize(text) if word not in stp.stopwords_list()])\n",
        "\n",
        "    # stemming using porter stemmer from nltk package - msh a7sn 7aga - momken: lancaster, snowball\n",
        "    # text=' '.join([porter_stemmer.stem(word) for word in word_tokenize(text)])\n",
        "    # text=' '.join([lancaster_stemmer.stem(word) for word in word_tokenize(text)])\n",
        "    # text=' '.join([snowball_stemer.stem(word) for word in word_tokenize(text)])\n",
        "\n",
        "    # lemmatizer using WordNetLemmatizer from nltk package\n",
        "    # text=' '.join([snowball_stemer.stem(word) for word in word_tokenize(text)])\n",
        "\n",
        "    return text"
      ]
    },
    {
      "cell_type": "code",
      "execution_count": null,
      "metadata": {
        "execution": {
          "iopub.execute_input": "2022-07-16T23:51:06.425456Z",
          "iopub.status.busy": "2022-07-16T23:51:06.424071Z",
          "iopub.status.idle": "2022-07-16T23:53:04.039674Z",
          "shell.execute_reply": "2022-07-16T23:53:04.038703Z",
          "shell.execute_reply.started": "2022-07-16T23:51:06.425430Z"
        },
        "trusted": true,
        "id": "rnfoKac8M7gQ"
      },
      "outputs": [],
      "source": [
        "final_data = data.copy()\n",
        "final_data.News = final_data.News.apply(lambda text: text_processing(str(text)))"
      ]
    },
    {
      "cell_type": "code",
      "execution_count": null,
      "metadata": {
        "execution": {
          "iopub.execute_input": "2022-07-16T23:53:04.041493Z",
          "iopub.status.busy": "2022-07-16T23:53:04.041046Z",
          "iopub.status.idle": "2022-07-16T23:53:04.060115Z",
          "shell.execute_reply": "2022-07-16T23:53:04.059212Z",
          "shell.execute_reply.started": "2022-07-16T23:53:04.041457Z"
        },
        "trusted": true,
        "id": "P7NO0PzQM7gR"
      },
      "outputs": [],
      "source": [
        "le = LabelEncoder()\n",
        "final_data['Type'] = le.fit_transform(final_data['Type'])"
      ]
    },
    {
      "cell_type": "code",
      "execution_count": null,
      "metadata": {
        "execution": {
          "iopub.execute_input": "2022-07-16T23:53:04.063827Z",
          "iopub.status.busy": "2022-07-16T23:53:04.063576Z",
          "iopub.status.idle": "2022-07-16T23:53:04.076016Z",
          "shell.execute_reply": "2022-07-16T23:53:04.075020Z",
          "shell.execute_reply.started": "2022-07-16T23:53:04.063804Z"
        },
        "trusted": true,
        "id": "_lYPuWQVM7gT",
        "colab": {
          "base_uri": "https://localhost:8080/",
          "height": 206
        },
        "outputId": "3fddc13f-0d9b-4544-8094-9ccc2a033e0e"
      },
      "outputs": [
        {
          "output_type": "execute_result",
          "data": {
            "text/plain": [
              "                                                News  Type\n",
              "0  حقق فريق مانشستر سيتي حامل اللقب فوزه السادس ا...     5\n",
              "1  يواجه هرتا برلين اختبارا صعبا يحل السبت ضيفا ش...     5\n",
              "2  أحرز المنتخب الروسي لكرة القدم الشاطئية لقب كأ...     5\n",
              "3  أحرز الثنائي الإسباني فيرناندو إشافاري وأنتون ...     5\n",
              "4  ألهب النجم الفرنسي السابق زين الدين زيدان حماس...     5"
            ],
            "text/html": [
              "\n",
              "  <div id=\"df-e3cb4998-9a9f-430b-943b-f371c1a79517\" class=\"colab-df-container\">\n",
              "    <div>\n",
              "<style scoped>\n",
              "    .dataframe tbody tr th:only-of-type {\n",
              "        vertical-align: middle;\n",
              "    }\n",
              "\n",
              "    .dataframe tbody tr th {\n",
              "        vertical-align: top;\n",
              "    }\n",
              "\n",
              "    .dataframe thead th {\n",
              "        text-align: right;\n",
              "    }\n",
              "</style>\n",
              "<table border=\"1\" class=\"dataframe\">\n",
              "  <thead>\n",
              "    <tr style=\"text-align: right;\">\n",
              "      <th></th>\n",
              "      <th>News</th>\n",
              "      <th>Type</th>\n",
              "    </tr>\n",
              "  </thead>\n",
              "  <tbody>\n",
              "    <tr>\n",
              "      <th>0</th>\n",
              "      <td>حقق فريق مانشستر سيتي حامل اللقب فوزه السادس ا...</td>\n",
              "      <td>5</td>\n",
              "    </tr>\n",
              "    <tr>\n",
              "      <th>1</th>\n",
              "      <td>يواجه هرتا برلين اختبارا صعبا يحل السبت ضيفا ش...</td>\n",
              "      <td>5</td>\n",
              "    </tr>\n",
              "    <tr>\n",
              "      <th>2</th>\n",
              "      <td>أحرز المنتخب الروسي لكرة القدم الشاطئية لقب كأ...</td>\n",
              "      <td>5</td>\n",
              "    </tr>\n",
              "    <tr>\n",
              "      <th>3</th>\n",
              "      <td>أحرز الثنائي الإسباني فيرناندو إشافاري وأنتون ...</td>\n",
              "      <td>5</td>\n",
              "    </tr>\n",
              "    <tr>\n",
              "      <th>4</th>\n",
              "      <td>ألهب النجم الفرنسي السابق زين الدين زيدان حماس...</td>\n",
              "      <td>5</td>\n",
              "    </tr>\n",
              "  </tbody>\n",
              "</table>\n",
              "</div>\n",
              "    <div class=\"colab-df-buttons\">\n",
              "\n",
              "  <div class=\"colab-df-container\">\n",
              "    <button class=\"colab-df-convert\" onclick=\"convertToInteractive('df-e3cb4998-9a9f-430b-943b-f371c1a79517')\"\n",
              "            title=\"Convert this dataframe to an interactive table.\"\n",
              "            style=\"display:none;\">\n",
              "\n",
              "  <svg xmlns=\"http://www.w3.org/2000/svg\" height=\"24px\" viewBox=\"0 -960 960 960\">\n",
              "    <path d=\"M120-120v-720h720v720H120Zm60-500h600v-160H180v160Zm220 220h160v-160H400v160Zm0 220h160v-160H400v160ZM180-400h160v-160H180v160Zm440 0h160v-160H620v160ZM180-180h160v-160H180v160Zm440 0h160v-160H620v160Z\"/>\n",
              "  </svg>\n",
              "    </button>\n",
              "\n",
              "  <style>\n",
              "    .colab-df-container {\n",
              "      display:flex;\n",
              "      gap: 12px;\n",
              "    }\n",
              "\n",
              "    .colab-df-convert {\n",
              "      background-color: #E8F0FE;\n",
              "      border: none;\n",
              "      border-radius: 50%;\n",
              "      cursor: pointer;\n",
              "      display: none;\n",
              "      fill: #1967D2;\n",
              "      height: 32px;\n",
              "      padding: 0 0 0 0;\n",
              "      width: 32px;\n",
              "    }\n",
              "\n",
              "    .colab-df-convert:hover {\n",
              "      background-color: #E2EBFA;\n",
              "      box-shadow: 0px 1px 2px rgba(60, 64, 67, 0.3), 0px 1px 3px 1px rgba(60, 64, 67, 0.15);\n",
              "      fill: #174EA6;\n",
              "    }\n",
              "\n",
              "    .colab-df-buttons div {\n",
              "      margin-bottom: 4px;\n",
              "    }\n",
              "\n",
              "    [theme=dark] .colab-df-convert {\n",
              "      background-color: #3B4455;\n",
              "      fill: #D2E3FC;\n",
              "    }\n",
              "\n",
              "    [theme=dark] .colab-df-convert:hover {\n",
              "      background-color: #434B5C;\n",
              "      box-shadow: 0px 1px 3px 1px rgba(0, 0, 0, 0.15);\n",
              "      filter: drop-shadow(0px 1px 2px rgba(0, 0, 0, 0.3));\n",
              "      fill: #FFFFFF;\n",
              "    }\n",
              "  </style>\n",
              "\n",
              "    <script>\n",
              "      const buttonEl =\n",
              "        document.querySelector('#df-e3cb4998-9a9f-430b-943b-f371c1a79517 button.colab-df-convert');\n",
              "      buttonEl.style.display =\n",
              "        google.colab.kernel.accessAllowed ? 'block' : 'none';\n",
              "\n",
              "      async function convertToInteractive(key) {\n",
              "        const element = document.querySelector('#df-e3cb4998-9a9f-430b-943b-f371c1a79517');\n",
              "        const dataTable =\n",
              "          await google.colab.kernel.invokeFunction('convertToInteractive',\n",
              "                                                    [key], {});\n",
              "        if (!dataTable) return;\n",
              "\n",
              "        const docLinkHtml = 'Like what you see? Visit the ' +\n",
              "          '<a target=\"_blank\" href=https://colab.research.google.com/notebooks/data_table.ipynb>data table notebook</a>'\n",
              "          + ' to learn more about interactive tables.';\n",
              "        element.innerHTML = '';\n",
              "        dataTable['output_type'] = 'display_data';\n",
              "        await google.colab.output.renderOutput(dataTable, element);\n",
              "        const docLink = document.createElement('div');\n",
              "        docLink.innerHTML = docLinkHtml;\n",
              "        element.appendChild(docLink);\n",
              "      }\n",
              "    </script>\n",
              "  </div>\n",
              "\n",
              "\n",
              "<div id=\"df-b028bb0e-5e67-483c-8346-f5b83a7667f3\">\n",
              "  <button class=\"colab-df-quickchart\" onclick=\"quickchart('df-b028bb0e-5e67-483c-8346-f5b83a7667f3')\"\n",
              "            title=\"Suggest charts.\"\n",
              "            style=\"display:none;\">\n",
              "\n",
              "<svg xmlns=\"http://www.w3.org/2000/svg\" height=\"24px\"viewBox=\"0 0 24 24\"\n",
              "     width=\"24px\">\n",
              "    <g>\n",
              "        <path d=\"M19 3H5c-1.1 0-2 .9-2 2v14c0 1.1.9 2 2 2h14c1.1 0 2-.9 2-2V5c0-1.1-.9-2-2-2zM9 17H7v-7h2v7zm4 0h-2V7h2v10zm4 0h-2v-4h2v4z\"/>\n",
              "    </g>\n",
              "</svg>\n",
              "  </button>\n",
              "\n",
              "<style>\n",
              "  .colab-df-quickchart {\n",
              "    background-color: #E8F0FE;\n",
              "    border: none;\n",
              "    border-radius: 50%;\n",
              "    cursor: pointer;\n",
              "    display: none;\n",
              "    fill: #1967D2;\n",
              "    height: 32px;\n",
              "    padding: 0 0 0 0;\n",
              "    width: 32px;\n",
              "  }\n",
              "\n",
              "  .colab-df-quickchart:hover {\n",
              "    background-color: #E2EBFA;\n",
              "    box-shadow: 0px 1px 2px rgba(60, 64, 67, 0.3), 0px 1px 3px 1px rgba(60, 64, 67, 0.15);\n",
              "    fill: #174EA6;\n",
              "  }\n",
              "\n",
              "  [theme=dark] .colab-df-quickchart {\n",
              "    background-color: #3B4455;\n",
              "    fill: #D2E3FC;\n",
              "  }\n",
              "\n",
              "  [theme=dark] .colab-df-quickchart:hover {\n",
              "    background-color: #434B5C;\n",
              "    box-shadow: 0px 1px 3px 1px rgba(0, 0, 0, 0.15);\n",
              "    filter: drop-shadow(0px 1px 2px rgba(0, 0, 0, 0.3));\n",
              "    fill: #FFFFFF;\n",
              "  }\n",
              "</style>\n",
              "\n",
              "  <script>\n",
              "    async function quickchart(key) {\n",
              "      const charts = await google.colab.kernel.invokeFunction(\n",
              "          'suggestCharts', [key], {});\n",
              "    }\n",
              "    (() => {\n",
              "      let quickchartButtonEl =\n",
              "        document.querySelector('#df-b028bb0e-5e67-483c-8346-f5b83a7667f3 button');\n",
              "      quickchartButtonEl.style.display =\n",
              "        google.colab.kernel.accessAllowed ? 'block' : 'none';\n",
              "    })();\n",
              "  </script>\n",
              "</div>\n",
              "    </div>\n",
              "  </div>\n"
            ]
          },
          "metadata": {},
          "execution_count": 28
        }
      ],
      "source": [
        "final_data.head()"
      ]
    },
    {
      "cell_type": "markdown",
      "metadata": {
        "id": "IOs2bbABM7gU"
      },
      "source": [
        "### Classification with Classifier Model (Naive Bayes)"
      ]
    },
    {
      "cell_type": "code",
      "execution_count": null,
      "metadata": {
        "execution": {
          "iopub.execute_input": "2022-07-16T23:53:04.077916Z",
          "iopub.status.busy": "2022-07-16T23:53:04.077550Z",
          "iopub.status.idle": "2022-07-16T23:53:04.087700Z",
          "shell.execute_reply": "2022-07-16T23:53:04.086832Z",
          "shell.execute_reply.started": "2022-07-16T23:53:04.077880Z"
        },
        "trusted": true,
        "id": "4qo2YyqTM7gY"
      },
      "outputs": [],
      "source": [
        "from sklearn.feature_extraction.text import CountVectorizer\n",
        "from sklearn.model_selection import train_test_split\n",
        "from sklearn.naive_bayes import GaussianNB\n",
        "from sklearn.metrics import confusion_matrix, accuracy_score"
      ]
    },
    {
      "cell_type": "code",
      "execution_count": null,
      "metadata": {
        "execution": {
          "iopub.execute_input": "2022-07-16T17:29:22.908766Z",
          "iopub.status.busy": "2022-07-16T17:29:22.907379Z",
          "iopub.status.idle": "2022-07-16T17:29:22.937499Z",
          "shell.execute_reply": "2022-07-16T17:29:22.936099Z",
          "shell.execute_reply.started": "2022-07-16T17:29:22.908735Z"
        },
        "trusted": true,
        "id": "OggIUU-zM7gZ",
        "colab": {
          "base_uri": "https://localhost:8080/"
        },
        "outputId": "7c932cf4-d648-402a-e9e0-1082134a155b"
      },
      "outputs": [
        {
          "output_type": "execute_result",
          "data": {
            "text/plain": [
              "['حقق فريق مانشستر سيتي حامل اللقب فوزه السادس التوالي الدوري الإنجليزي الممتاز لكرة القدم بتغلبه ضيفه كريستال بالاس بثلاثة أهداف نظيفة المرحلة السابعة عشرة المسابقة وبخلاف تحقيق الفوز السادس التوالي والثاني عشر الموسم الحالي سيتي حقق فوزه رقم 23 ملعبه 27 مباراة بقية المباريات تعادل مانشستر يونايتد مضيفه استون فيلا 11 وفاز ساوثمبتون ضيفه إيفرتون 3 صفر ووست هام يونايتد ضيفه ليستر سيتي 2 صفر وكوينز بارك رينجرز ضيفه وست بروميتش البيون 32 وتوتنهام ضيفه بيرنلي 21 وخسر هال سيتي يد ضيفه سوانزي سيتي صفر1 وتقاسم سيتي غريمه تشيلسي صدارة المسابقة برصيد 39 نقطة تفوق تشيلسي بفارق الأهداف البلوز بوسعه ينفرد مجددا بالصدارة فاز ملعب ستوك سيتي الاثنين الجانب الآخر تجمد رصيد كريستال بالاس 16 نقطة المركز الخامس عشر ويدين سيتي بالفضل الفوز لجناحه الإسباني ديفيد سيلفا سجل الهدفين الأول والثاني الدقيقتين 49 و61 تكفل النجم الإيفواري يايا توريه بتسجيل الهدف الثالث الدقيقة 81 وقدم كريستال بالاس أداء جيدا الشوط الأول وسيطر مجريات اللعب 25 دقيقة بخلاف كانت السيطرة مطلقة لسيتي الفريق يسجل هدف عبر محاولات سيلفا والفرنسي سمير نصري والإيفواري يايا توريه والأرجنتيني بابلو زاباليتا وضاعت أخطر فرصة الشوط الأول دقيقتين نهايته طريق زاباليتا تلقى تمريرة سحرية يايا توريه سدد بجوار القائم ثلاث ياردات المرمى ومرر الكسندر كولاروف كرة متقنة ارتقى جيمس ميلنر برأسه المرة مرت بجوار القائم مرور أربع دقائق بداية الشوط الثاني نجح مانشستر سيتي افتتاح التسجيل طريق سيلفا تلقى تمريرة رائعة زاباليتا ليسدد الكرة باتجاه المرمى ان تصطدم الكرة بقدم سكوت دان وتسكن شباك فريقه وأحرز سيلفا الهدف الثاني ولفريقه الدقيقة 61 تلقى تمريرة زاحفة كولاروف ليسدد الكرة بشكل مباشر الشباك ليرفع رصيده الأهداف الموسم الحالي الرقم 4 وألغى الحكم هدف التعادل لكريستال بالاس طريق رأسية بولاسي تلقى تمريرة رائعة البديل الإيفواري ويلفريد زاها متسللا تسلمه الكرة وأحدث نزول فرانك لامبارد بدلا سيلفا نشاطا ملحوظا خط وسط سيتي وواصل ميلنر تمريراته الرائعة وصنع الهدف الثالث ليايا توريه مرر بشكل ذكي داخل منطقة الجزاء ليسدد الفيل الإيفواري قذيفة صاروخية بقدمه اليسرى حفت الكرة بالقائم الأيمن وسكنت الشباك مارتن ديميكيليس يسجل هدفا عكسيا شباك فريقه مانشستر سيتي الحظ وقف بجانبه ومرت الكرة بمحاذاة المرمى تماما يحدث جديد الدقائق الأخيرة الشوط الثاني ليخرج مانشستر سيتي فائزا بثلاثة أهداف نظيفة ووضع استون فيلا حدا لمسيرة الانتصارات الستة المتتالية لمانشستر يونايتد ليحرمه التقدم خطوة جديدة الصراع تشيلسي ومانشستر سيتي الصدارة ورفع مانشستر يونايتد رصيده 32 نقطة المركز الثالث مقابل 20 نقطة لاستون فيلا المركز الثاني عشر وحاول مانشستر يونايتد مرارا الدقائق الأو تسجيل هدف مبكر مرمى أصحاب الأرض وتنوعت الهجمات طريق روبن فان بيرسي وراداميل فالكاو ولويس انطونيو فالينسيا جدوى فالينسيا يسجل هدف السبق لمانشستر الدقيقة 14 يحسن استغلال تمريرة واين روني عكس سير اللعب تقدم استون فيلا بهدف الدقيقة 18 طريق المهاجم البلجيكي الدولي كريستيان بنتيكي تلقى تمريرة داخل منطقة الجزاء عبر ضربة حرة مباشرة نفذها فابيان ديلف ليستحوذ الكرة بشكل رائع ويراوغ مدافع مانشستر يسدد كرة صاروخية عرفت طريقها لأقصى الزاوية اليمنى لمرمى الحارس الإسباني ديفيد دي خيا وأسفرت هجمات مانشستر تسجيل هدف التعادل الدقيقة 53 عبر رأسية فالكاو مستغلا تمريرة رائعة اشلي يونغ ولعب استون فيلا بعشرة لاعبين الدقيقة 65 طرد غابريل اغبونلاهور لتدخل بخشونة شديدة اشلي يونغ وحقق ساوثمبتون فوزه الأول وفاز ضيفه إيفرتون بهدفين نظيفين حملا توقيع البلجيكي روميلو لوكاكو مهاجم إيفرتون بطريق الخطأ مرمى فريقه والإيطالي الدولي جراتسيانو بيلي يفز ساوثمبتون تغلبه ليستر سيتي بهدفين نظيفين 8 نوفمبر تشرين الثاني الماضي الحين تعادل استون فيلا وخسر مانشستر سيتي وأرسنال ومانشستر يونايتد وبيرنلي ورفع ساوثمبتون رصيده 29 نقطة المركز الخامس وتجمد رصيد إيفرتون 21 نقطة المركز العاشر وحقق توتنهام فوزه الثاني التوالي وفاز بيرنلي بثلاثة أهداف مقابل هدف ليرفع رصيده 27 نقطة المركز السادس تجمد رصيد بيرنلي 15 نقطة المركز الثامن عشر مورينيو يعاني تصدر سيتي أكد البرتغالي خوزيه مورينيو مدرب تشيلسي الإنجليزي عدم شعوره بالقلق مشاركة منافسه مانشستر سيتي صدارة الترتيب مؤقتا مواجهته ستوك سيتي اليوم وقال بدأنا الموسم بنقاط متساوية تشاركنا الصدارة مشكلة 3 نقاط مهمة فريق زال المشوار طويلا نصل منتصف الموسم فريق فارق 10 نقاط المتصدر فرصة المنافسة اللقب مباراة اليوم الثأرية لمورينيو ستوك سيتي فاز 32 العام الماضي ملعب بريتانيا قال أحيانا تلعب بشكل جيد وتخسر وأحيانا تلعب وتفوز لعبنا جيد ا ستوك العام الماضي ارتكبنا خطأين كلفانا المباراة اللاعبين يكونوا أتم الاستعداد يعرفون سيلعبون بيتر كراوتش وسيواجهون مدافعي ستوك فريق جيد وصعب وأشاد مورينيو بنجمه البلجيكي ايدين هازار وقال سيوقع العقد قريب ا أشك واحدة تجديده التقيت والده سعيد الفريق كثيرا هازار مستقبل كبير وسيكون أساطير تشيلسي يحتاجه الألقاب فالألقاب تصنع تاريخ اللاعب جهة أخرى كشفت إحصائية كون مانشستر سيتي الفريق الأكبر عمرا الأندية الإنجليزية فمعدل أعمار لاعبيه 8 28 سنة يليه كريستال بالاس 4 28 عام ستوك سيتي 1 28 عام وويست بروميتش وكوينز وايفرتون وليستر وهال سيتي المركز الثامن وتربع نادي توربيدو زودينو البيلاروسي عرش أكبر الأندية الأوروبية عمرا بمعدل 4 29 عام يليه فنربغشة التركي 3 29 عام وسولتسك البيلاروسي 2 29 عام وأتلانتا الإيطالي 1 29 عام ناحية معدل أعمار الفرق فتربعت إيطاليا بأكبر أعمار للاعبيها السيري وتلتها روسيا قبرص وحلت إنجلترا رابعة وتركيا خامسة وهيمن اللاعبون الفرنسيون الدوري الممتاز ب48 لاعبا الأرجنتينيون والإسبان ب23 لاعبا البلدين و19 لاعبا إيرلندا و17 لاعبا بلجيكا تربعت الأرجنتين عرش اللاعبين الأجانب بطولتي إيطاليا وإسبانيا البرازيل أكبر مصدر للاعبين الأجانب أوروبا عموما ب106 لاعبين',\n",
              " 'يواجه هرتا برلين اختبارا صعبا يحل السبت ضيفا شتوتغارت سيكون بانتظار ملاحقه بايرن ميونيخ حامل اللقب مهمة سهلة امام ضيفه كارلسروه متذيل الترتيب المرحلة الخامسة والعشرين الدوري الالماني لكرة القدم تفتتح اليوم الجمعة بلقاء بوروسيا مونشنغلادباخ المتجدد الاونة الاخيرة وضيفه بوخومفي المباراة الاولى يحل هرتا برلين ضيفا شتوتغارت السادس مباراة صعبة خصوصا ان الاخير يسعى الى استعادة شيء هيبته الخسارة المذلة تلقاها المرحلة السابقة يد فيردر بريمن برباعية نظيفةوفرض هرتا برلين بقيادة مدربه السويسري لوسيان فافر وهدافه الاوكراني اندري فورونين الحصان الاسود للبطولة الموسم الى جانب هوفنهايم الا ان الاخير تراجع مستواه الاونة الاخيرة خلافا لفريق العاصمة يبحث فوزه الرابع التوالي والحادي عشر اخر 14 مباراةيدين هرتا برلين يسعى الى لقبه الثالث عامي 1930 و1931 او اقله احدى البطاقات الثلاث المؤهلة الى مسابقة دوري ابطال اوروبا الموسم المقبل بتألقه الموسم الى فورونين بشكل خاص لان المهاجم الاوكراني فرض أحد افضل لاعبي البوندسليجا اكد الامر المرحلة السابقة سجل مرمى باير ليفركوزن 1صفر هدفه الحادي عشر الدوري والثامن اخر ست مبارياتومن المرجح الا يواجه بايرن ميونيخ صعوبة تذكر حسم مباراته وضيفه كارلسروه يقبع المركز الثامن عشر الاخير برصيد 17 نقطة خصوصا ان الفريق البافاري استعاد بريقه الاونة الاخيرة سحقه سبورتينغ لشبونة البرتغالي 71 اياب ثمن نهائي مسابقة دوري ابطال اوروبا الفوز ذهابا ايضا 5صفر مسجلا رقما قياسيا للمسابقة عدد مجمل الاهداف المباراتين فوزه بوخوم بثلاثية نظيفة المرحلة السابقة رغم افتقاده لنجميه الفرنسي فرانك ريبيري والايطالي لوكا طوني يكون الضغط سيمارس هرتا برلين محصورا ببايرن ميونيخ او فريق العاصمة لان الفريق البافاري ايضا يواجه ضغطا الثنائي فولفسبورغ وهامبورغ هوفنهايم ابتعد الصدارة بفارق 6 نقاط واصل تعثره وفشل تحقيق الفوز للمباراة السادسة التوالي 5 تعادلات وهزيمة بتعادله مضيفه اينتراخت فرانكفورت 11 المرحلة السابقةويأمل هوفنهايم ان يستعيد نغمة الفوز يستقبل هانوفر اليوم يلعب فولفسبورغ مضيفه ارمينيا بيليفيلد وهامبورغ ضيفه شالكه مباراة قوية غد الاحدوفي المباريات الاخرى يلعب باير ليفركوزن اينتراخت فرانكفورت وبوروسيا دورتموند فيردر بريمن واينرجي كوتبوس كولن']"
            ]
          },
          "metadata": {},
          "execution_count": 30
        }
      ],
      "source": [
        "corpus = []\n",
        "for sentence in final_data['News']:\n",
        "    corpus.append(sentence)\n",
        "corpus[0:2]"
      ]
    },
    {
      "cell_type": "code",
      "execution_count": null,
      "metadata": {
        "execution": {
          "iopub.execute_input": "2022-07-16T17:29:22.940682Z",
          "iopub.status.busy": "2022-07-16T17:29:22.939175Z",
          "iopub.status.idle": "2022-07-16T17:29:22.949860Z",
          "shell.execute_reply": "2022-07-16T17:29:22.948587Z",
          "shell.execute_reply.started": "2022-07-16T17:29:22.940636Z"
        },
        "trusted": true,
        "id": "fXdOFASCM7ga"
      },
      "outputs": [],
      "source": [
        "cv = CountVectorizer(max_features=1500)"
      ]
    },
    {
      "cell_type": "code",
      "execution_count": null,
      "metadata": {
        "execution": {
          "iopub.execute_input": "2022-07-16T17:29:22.954733Z",
          "iopub.status.busy": "2022-07-16T17:29:22.953400Z",
          "iopub.status.idle": "2022-07-16T17:29:39.126053Z",
          "shell.execute_reply": "2022-07-16T17:29:39.124601Z",
          "shell.execute_reply.started": "2022-07-16T17:29:22.954700Z"
        },
        "trusted": true,
        "id": "eFVCudjCM7ga"
      },
      "outputs": [],
      "source": [
        "X = cv.fit_transform(corpus).toarray()\n",
        "y = final_data.iloc[:, -1].values"
      ]
    },
    {
      "cell_type": "code",
      "execution_count": null,
      "metadata": {
        "execution": {
          "iopub.execute_input": "2022-07-16T17:29:39.128752Z",
          "iopub.status.busy": "2022-07-16T17:29:39.128261Z",
          "iopub.status.idle": "2022-07-16T17:29:39.361817Z",
          "shell.execute_reply": "2022-07-16T17:29:39.360470Z",
          "shell.execute_reply.started": "2022-07-16T17:29:39.128703Z"
        },
        "trusted": true,
        "id": "ZHECNVihM7gb"
      },
      "outputs": [],
      "source": [
        "X_train, X_test, y_train, y_test = train_test_split(X, y, test_size=0.1, random_state=42)\n",
        "print(X_train.shape,y_train.shape)\n",
        "print(X_test.shape,y_test.shape)"
      ]
    },
    {
      "cell_type": "code",
      "execution_count": null,
      "metadata": {
        "execution": {
          "iopub.execute_input": "2022-07-16T17:29:39.364370Z",
          "iopub.status.busy": "2022-07-16T17:29:39.363877Z",
          "iopub.status.idle": "2022-07-16T17:29:40.236179Z",
          "shell.execute_reply": "2022-07-16T17:29:40.234727Z",
          "shell.execute_reply.started": "2022-07-16T17:29:39.364323Z"
        },
        "trusted": true,
        "id": "aZZp3ZxNM7gc"
      },
      "outputs": [],
      "source": [
        "classifier = GaussianNB()\n",
        "classifier.fit(X_train, y_train)"
      ]
    },
    {
      "cell_type": "code",
      "execution_count": null,
      "metadata": {
        "execution": {
          "iopub.execute_input": "2022-07-16T17:29:40.239522Z",
          "iopub.status.busy": "2022-07-16T17:29:40.238757Z",
          "iopub.status.idle": "2022-07-16T17:29:41.812710Z",
          "shell.execute_reply": "2022-07-16T17:29:41.811433Z",
          "shell.execute_reply.started": "2022-07-16T17:29:40.239473Z"
        },
        "trusted": true,
        "id": "0LQMtmgsM7gc"
      },
      "outputs": [],
      "source": [
        "y_pred = classifier.predict(X_test)"
      ]
    },
    {
      "cell_type": "code",
      "execution_count": null,
      "metadata": {
        "execution": {
          "iopub.execute_input": "2022-07-16T17:29:41.815206Z",
          "iopub.status.busy": "2022-07-16T17:29:41.814693Z",
          "iopub.status.idle": "2022-07-16T17:29:41.827646Z",
          "shell.execute_reply": "2022-07-16T17:29:41.826282Z",
          "shell.execute_reply.started": "2022-07-16T17:29:41.815162Z"
        },
        "trusted": true,
        "id": "8RSi2NAiM7gd"
      },
      "outputs": [],
      "source": [
        "nb_score = accuracy_score(y_test, y_pred)\n",
        "nb_score"
      ]
    },
    {
      "cell_type": "markdown",
      "metadata": {
        "id": "1EAD9GmqM7ge"
      },
      "source": [
        "## RNN, LSTM, GRU"
      ]
    },
    {
      "cell_type": "markdown",
      "metadata": {
        "id": "LyC65CVDM7ge"
      },
      "source": [
        "#### Data Preparation"
      ]
    },
    {
      "cell_type": "code",
      "execution_count": null,
      "metadata": {
        "execution": {
          "iopub.execute_input": "2022-07-16T17:31:41.955522Z",
          "iopub.status.busy": "2022-07-16T17:31:41.955087Z",
          "iopub.status.idle": "2022-07-16T17:31:48.561445Z",
          "shell.execute_reply": "2022-07-16T17:31:48.560033Z",
          "shell.execute_reply.started": "2022-07-16T17:31:41.955490Z"
        },
        "trusted": true,
        "id": "Pds48GrMM7gf"
      },
      "outputs": [],
      "source": [
        "from tensorflow.keras.layers import Embedding\n",
        "from tensorflow.keras.preprocessing.sequence import pad_sequences\n",
        "from tensorflow.keras.models import Sequential\n",
        "from tensorflow.keras.preprocessing.text import one_hot\n",
        "from tensorflow.keras.layers import LSTM, SimpleRNN, GRU\n",
        "from tensorflow.keras.layers import Dense\n",
        "from tensorflow.keras.layers import Bidirectional\n",
        "from tensorflow.keras.layers import Dropout, SpatialDropout1D\n",
        "from tensorflow.keras.preprocessing.text import Tokenizer"
      ]
    },
    {
      "cell_type": "code",
      "execution_count": null,
      "metadata": {
        "execution": {
          "iopub.execute_input": "2022-07-16T17:32:00.397207Z",
          "iopub.status.busy": "2022-07-16T17:32:00.396445Z",
          "iopub.status.idle": "2022-07-16T17:32:00.404026Z",
          "shell.execute_reply": "2022-07-16T17:32:00.402330Z",
          "shell.execute_reply.started": "2022-07-16T17:32:00.397174Z"
        },
        "trusted": true,
        "id": "_I8LQbVMM7gg"
      },
      "outputs": [],
      "source": [
        "# The maximum number of words to be used. (most frequent)\n",
        "MAX_NB_WORDS = 13000\n",
        "# Max number of words in each complaint.\n",
        "MAX_SEQUENCE_LENGTH = 250\n",
        "EMBEDDING_DIM = 100"
      ]
    },
    {
      "cell_type": "code",
      "execution_count": null,
      "metadata": {
        "execution": {
          "iopub.execute_input": "2022-07-16T17:32:06.540399Z",
          "iopub.status.busy": "2022-07-16T17:32:06.539918Z",
          "iopub.status.idle": "2022-07-16T17:32:06.569995Z",
          "shell.execute_reply": "2022-07-16T17:32:06.568716Z",
          "shell.execute_reply.started": "2022-07-16T17:32:06.540365Z"
        },
        "trusted": true,
        "id": "cXLg4IgtM7gh"
      },
      "outputs": [],
      "source": [
        "fd = final_data['News'].apply(lambda text: str(text))"
      ]
    },
    {
      "cell_type": "code",
      "execution_count": null,
      "metadata": {
        "execution": {
          "iopub.execute_input": "2022-07-16T17:32:11.430165Z",
          "iopub.status.busy": "2022-07-16T17:32:11.429707Z",
          "iopub.status.idle": "2022-07-16T17:32:29.609932Z",
          "shell.execute_reply": "2022-07-16T17:32:29.607865Z",
          "shell.execute_reply.started": "2022-07-16T17:32:11.430133Z"
        },
        "trusted": true,
        "id": "HQtf1u3eM7gi",
        "colab": {
          "base_uri": "https://localhost:8080/"
        },
        "outputId": "df4ec20d-8e35-491d-d4c0-dc233e84d0ee"
      },
      "outputs": [
        {
          "output_type": "stream",
          "name": "stdout",
          "text": [
            "Found 126058 unique tokens.\n"
          ]
        }
      ],
      "source": [
        "tokenizer = Tokenizer(num_words=MAX_NB_WORDS, filters='!\"#$%&()*+,-./:;<=>?@[\\]^_`{|}~', lower=True)\n",
        "tokenizer.fit_on_texts(fd.values)\n",
        "word_index = tokenizer.word_index\n",
        "print('Found %s unique tokens.' % len(word_index))"
      ]
    },
    {
      "cell_type": "code",
      "execution_count": null,
      "metadata": {
        "execution": {
          "iopub.execute_input": "2022-07-16T17:32:29.613754Z",
          "iopub.status.busy": "2022-07-16T17:32:29.612839Z",
          "iopub.status.idle": "2022-07-16T17:32:44.083372Z",
          "shell.execute_reply": "2022-07-16T17:32:44.081796Z",
          "shell.execute_reply.started": "2022-07-16T17:32:29.613707Z"
        },
        "trusted": true,
        "id": "mij5a6zGM7gj",
        "colab": {
          "base_uri": "https://localhost:8080/"
        },
        "outputId": "3e5900d2-3de8-448d-ee8c-7be0906d45f8"
      },
      "outputs": [
        {
          "output_type": "stream",
          "name": "stdout",
          "text": [
            "Shape of data tensor: (3500, 250)\n"
          ]
        }
      ],
      "source": [
        "X_final = tokenizer.texts_to_sequences(fd.values)\n",
        "X_final = pad_sequences(X_final, maxlen=MAX_SEQUENCE_LENGTH)\n",
        "print('Shape of data tensor:', X_final.shape)"
      ]
    },
    {
      "cell_type": "code",
      "execution_count": null,
      "metadata": {
        "execution": {
          "iopub.execute_input": "2022-07-16T17:32:44.087068Z",
          "iopub.status.busy": "2022-07-16T17:32:44.085977Z",
          "iopub.status.idle": "2022-07-16T17:32:44.102787Z",
          "shell.execute_reply": "2022-07-16T17:32:44.101298Z",
          "shell.execute_reply.started": "2022-07-16T17:32:44.087019Z"
        },
        "trusted": true,
        "id": "4WufVxqPM7gk",
        "colab": {
          "base_uri": "https://localhost:8080/"
        },
        "outputId": "19671e9e-7bae-4994-d6ac-bbcfd47b80e3"
      },
      "outputs": [
        {
          "output_type": "stream",
          "name": "stdout",
          "text": [
            "Shape of label tensor: (3500, 7)\n"
          ]
        }
      ],
      "source": [
        "Y_final = pd.get_dummies(final_data['Type']).values\n",
        "print('Shape of label tensor:', Y_final.shape)"
      ]
    },
    {
      "cell_type": "code",
      "execution_count": null,
      "metadata": {
        "execution": {
          "iopub.execute_input": "2022-07-16T17:33:02.519578Z",
          "iopub.status.busy": "2022-07-16T17:33:02.519080Z",
          "iopub.status.idle": "2022-07-16T17:33:02.557500Z",
          "shell.execute_reply": "2022-07-16T17:33:02.555928Z",
          "shell.execute_reply.started": "2022-07-16T17:33:02.519545Z"
        },
        "trusted": true,
        "id": "zRZdiagcM7gl",
        "colab": {
          "base_uri": "https://localhost:8080/"
        },
        "outputId": "beed7992-6267-45ea-987a-c4ce506c9ddf"
      },
      "outputs": [
        {
          "output_type": "stream",
          "name": "stdout",
          "text": [
            "(2345, 250) (2345, 7)\n",
            "(1155, 250) (1155, 7)\n"
          ]
        }
      ],
      "source": [
        "X_train, X_test, y_train, y_test = train_test_split(X_final, Y_final, test_size=0.33, random_state=42)\n",
        "print(X_train.shape,y_train.shape)\n",
        "print(X_test.shape,y_test.shape)"
      ]
    },
    {
      "cell_type": "markdown",
      "metadata": {
        "id": "C1MCKt2oM7gm"
      },
      "source": [
        "### RNN"
      ]
    },
    {
      "cell_type": "code",
      "source": [
        "rnn_model = Sequential()\n",
        "rnn_model.add(Embedding(MAX_NB_WORDS, EMBEDDING_DIM, input_length=X_final.shape[1]))\n",
        "rnn_model.add(SpatialDropout1D(0.2))\n",
        "rnn_model.add(SimpleRNN(128, dropout=0.2, recurrent_dropout=0.2))\n",
        "rnn_model.add(Dense(7, activation='softmax'))\n",
        "rnn_model.compile(loss='categorical_crossentropy', optimizer='adam', metrics=['accuracy'])\n",
        "\n",
        "epochs = 5\n",
        "batch_size = 64\n",
        "rnn_history = rnn_model.fit(X_train, y_train, epochs=epochs, batch_size=batch_size,validation_split=0.2)\n"
      ],
      "metadata": {
        "id": "39NijBaF0dZN"
      },
      "execution_count": null,
      "outputs": []
    },
    {
      "cell_type": "code",
      "execution_count": null,
      "metadata": {
        "execution": {
          "iopub.execute_input": "2022-07-16T17:54:09.722656Z",
          "iopub.status.busy": "2022-07-16T17:54:09.722280Z",
          "iopub.status.idle": "2022-07-16T17:54:24.973781Z",
          "shell.execute_reply": "2022-07-16T17:54:24.972499Z",
          "shell.execute_reply.started": "2022-07-16T17:54:09.722626Z"
        },
        "trusted": true,
        "id": "ELLNH5DgM7go"
      },
      "outputs": [],
      "source": [
        "rnn_accuracy = rnn_model.evaluate(X_test,y_test)\n",
        "print('RNN Model Evaluation\\n Loss: {:0.3f}\\n Accuracy: {:0.3f}'.format(rnn_accuracy[0],rnn_accuracy[1]))"
      ]
    },
    {
      "cell_type": "markdown",
      "metadata": {
        "id": "OSLub83QM7go"
      },
      "source": [
        "### LSTM"
      ]
    },
    {
      "cell_type": "code",
      "execution_count": null,
      "metadata": {
        "execution": {
          "iopub.execute_input": "2022-07-16T17:54:24.976374Z",
          "iopub.status.busy": "2022-07-16T17:54:24.975869Z",
          "iopub.status.idle": "2022-07-16T18:50:49.980722Z",
          "shell.execute_reply": "2022-07-16T18:50:49.979367Z",
          "shell.execute_reply.started": "2022-07-16T17:54:24.976328Z"
        },
        "trusted": true,
        "id": "IdIy6Ob8M7gp"
      },
      "outputs": [],
      "source": [
        "lstm_model = Sequential()\n",
        "lstm_model.add(Embedding(MAX_NB_WORDS, EMBEDDING_DIM, input_length=X_final.shape[1]))\n",
        "lstm_model.add(SpatialDropout1D(0.2))\n",
        "lstm_model.add(LSTM(128, dropout=0.2, recurrent_dropout=0.2))\n",
        "lstm_model.add(Dense(7, activation='softmax'))\n",
        "lstm_model.compile(loss='categorical_crossentropy', optimizer='adam', metrics=['accuracy'])\n",
        "\n",
        "epochs = 5\n",
        "batch_size = 64\n",
        "\n",
        "lstm_history = lstm_model.fit(X_train, y_train, epochs=epochs, batch_size=batch_size,validation_split=0.2)"
      ]
    },
    {
      "cell_type": "code",
      "execution_count": null,
      "metadata": {
        "execution": {
          "iopub.execute_input": "2022-07-16T18:50:49.985658Z",
          "iopub.status.busy": "2022-07-16T18:50:49.985133Z",
          "iopub.status.idle": "2022-07-16T18:51:36.769773Z",
          "shell.execute_reply": "2022-07-16T18:51:36.768187Z",
          "shell.execute_reply.started": "2022-07-16T18:50:49.985608Z"
        },
        "trusted": true,
        "id": "PAnM3IvzM7gp"
      },
      "outputs": [],
      "source": [
        "lstm_accuracy = lstm_model.evaluate(X_test,y_test)\n",
        "print('LSTM Model Evaluation\\n Loss: {:0.3f}\\n Accuracy: {:0.3f}'.format(lstm_accuracy[0],lstm_accuracy[1]))"
      ]
    },
    {
      "cell_type": "markdown",
      "metadata": {
        "id": "9eRRW2M-M7gq"
      },
      "source": [
        "### GRU"
      ]
    },
    {
      "cell_type": "code",
      "execution_count": null,
      "metadata": {
        "execution": {
          "iopub.execute_input": "2022-07-16T18:51:36.772089Z",
          "iopub.status.busy": "2022-07-16T18:51:36.771437Z",
          "iopub.status.idle": "2022-07-16T19:42:01.987760Z",
          "shell.execute_reply": "2022-07-16T19:42:01.986302Z",
          "shell.execute_reply.started": "2022-07-16T18:51:36.772056Z"
        },
        "trusted": true,
        "id": "bRpy8gNjM7gr",
        "colab": {
          "base_uri": "https://localhost:8080/"
        },
        "outputId": "89457ab8-9049-4a29-acd9-4f30c4140031"
      },
      "outputs": [
        {
          "output_type": "stream",
          "name": "stdout",
          "text": [
            "Epoch 1/5\n",
            "382/382 [==============================] - 241s 625ms/step - loss: 0.8177 - accuracy: 0.7033 - val_loss: 0.2785 - val_accuracy: 0.9175\n",
            "Epoch 2/5\n",
            "162/382 [===========>..................] - ETA: 2:08 - loss: 0.2405 - accuracy: 0.9268"
          ]
        }
      ],
      "source": [
        "gru_model = Sequential()\n",
        "gru_model.add(Embedding(MAX_NB_WORDS, EMBEDDING_DIM, input_length=X_final.shape[1]))\n",
        "gru_model.add(SpatialDropout1D(0.2))\n",
        "gru_model.add(GRU(128, dropout=0.2, recurrent_dropout=0.2))\n",
        "gru_model.add(Dense(7, activation='softmax'))\n",
        "gru_model.compile(loss='categorical_crossentropy', optimizer='adam', metrics=['accuracy'])\n",
        "\n",
        "epochs = 5\n",
        "batch_size = 64\n",
        "\n",
        "gru_history = gru_model.fit(X_train, y_train, epochs=epochs, batch_size=batch_size,validation_split=0.2)"
      ]
    },
    {
      "cell_type": "code",
      "execution_count": null,
      "metadata": {
        "execution": {
          "iopub.execute_input": "2022-07-16T19:42:01.989565Z",
          "iopub.status.busy": "2022-07-16T19:42:01.989226Z",
          "iopub.status.idle": "2022-07-16T19:42:45.474330Z",
          "shell.execute_reply": "2022-07-16T19:42:45.472905Z",
          "shell.execute_reply.started": "2022-07-16T19:42:01.989528Z"
        },
        "trusted": true,
        "id": "4OQwoWE7M7gr"
      },
      "outputs": [],
      "source": [
        "gru_accuracy = gru_model.evaluate(X_test, y_test)\n",
        "print('GRU Model Evaluation\\n Loss: {:0.3f}\\n Accuracy: {:0.3f}'.format(gru_accuracy[0],gru_accuracy[1]))"
      ]
    },
    {
      "cell_type": "markdown",
      "metadata": {
        "id": "6VaHFi2DM7gs"
      },
      "source": [
        "## Transformers"
      ]
    },
    {
      "cell_type": "markdown",
      "metadata": {
        "id": "3JTXr1SQM7gt"
      },
      "source": [
        "### BERT"
      ]
    },
    {
      "cell_type": "code",
      "execution_count": null,
      "metadata": {
        "execution": {
          "iopub.execute_input": "2022-07-16T21:05:38.464087Z",
          "iopub.status.busy": "2022-07-16T21:05:38.463229Z",
          "iopub.status.idle": "2022-07-16T21:05:38.473270Z",
          "shell.execute_reply": "2022-07-16T21:05:38.472006Z",
          "shell.execute_reply.started": "2022-07-16T21:05:38.464038Z"
        },
        "trusted": true,
        "id": "TnYLcy1VM7g_"
      },
      "outputs": [],
      "source": [
        "import tensorflow as tf\n",
        "from transformers import BertTokenizer\n",
        "from tqdm.auto import tqdm\n",
        "from transformers import TFBertModel"
      ]
    },
    {
      "cell_type": "code",
      "execution_count": null,
      "metadata": {
        "execution": {
          "iopub.execute_input": "2022-07-16T21:05:38.476191Z",
          "iopub.status.busy": "2022-07-16T21:05:38.475387Z",
          "iopub.status.idle": "2022-07-16T21:05:40.746608Z",
          "shell.execute_reply": "2022-07-16T21:05:40.745196Z",
          "shell.execute_reply.started": "2022-07-16T21:05:38.476143Z"
        },
        "trusted": true,
        "id": "K1DgTVt1M7g_",
        "colab": {
          "base_uri": "https://localhost:8080/",
          "height": 113,
          "referenced_widgets": [
            "b016a771a9724be99112dbf33b0466b7",
            "27cb08a480d04da4967386a3dae3946f",
            "1cd440b4d0af40b79b84777d59f9bd61",
            "d1e251d5484549cc856bc5608775e9ae",
            "ded2497d423a4380ba914c7377b73fcd",
            "2d3502c89b0b499385332fd164220d15",
            "d5e475a539884b0497112971e7cf8b20",
            "03687b2429884e2cad8ce460a1d7da41",
            "9442bbdc7d3947768e59557e4877c3f8",
            "e3b65d564677454e92bdd37f0b5a6151",
            "c6001bf7f40a494c96abcf3f835c62ab",
            "99ceb8c5a3d7473fb97c82671f8d3209",
            "19e97d1a23f34b4c895a925f25d0ceb4",
            "b3a58eb6133749b29d5b662084a811b2",
            "2546ace89d3d40bb843dccd901e69b0e",
            "6fe7d840b2a2442084687bf5cd2319ca",
            "003a35d0e41843a6bfb5f1fb4389b06b",
            "0e6272a82dc94541b4e621794c66a34e",
            "cb42aae3cdfe47858f2072d72742e215",
            "6f274f2c8eb24b3e8663b2fe9fdf8355",
            "1f104281b82f48cf89b0758abb36c491",
            "dbccc9ffd447410d92f1df44cd517c26",
            "27a6841bd0ef43399b1dd162a79ce7e5",
            "369895a4fca94740a09c24c4ec025414",
            "41a3382c5a9440dfb7df35dea9c71e4d",
            "e42792c854764b2f8ea076489d9c3191",
            "287987a9eb7d4af991f2843b3cd40ec5",
            "ce9138f7d56343a987a3aecf439423c5",
            "2f5dd8390f1148d29dd188d979479816",
            "136821227aa34be3b73e8767444b0373",
            "28c4b590fb20444185dd63498e7d0d0e",
            "778388b884834233a1e9fa03b6cb3da2",
            "4da12502e4a046abb177c9c36957732d"
          ]
        },
        "outputId": "6abf4e96-d3bd-40fd-ec7a-2ed34d6dde01"
      },
      "outputs": [
        {
          "output_type": "display_data",
          "data": {
            "text/plain": [
              "Downloading (…)solve/main/vocab.txt:   0%|          | 0.00/213k [00:00<?, ?B/s]"
            ],
            "application/vnd.jupyter.widget-view+json": {
              "version_major": 2,
              "version_minor": 0,
              "model_id": "b016a771a9724be99112dbf33b0466b7"
            }
          },
          "metadata": {}
        },
        {
          "output_type": "display_data",
          "data": {
            "text/plain": [
              "Downloading (…)okenizer_config.json:   0%|          | 0.00/29.0 [00:00<?, ?B/s]"
            ],
            "application/vnd.jupyter.widget-view+json": {
              "version_major": 2,
              "version_minor": 0,
              "model_id": "99ceb8c5a3d7473fb97c82671f8d3209"
            }
          },
          "metadata": {}
        },
        {
          "output_type": "display_data",
          "data": {
            "text/plain": [
              "Downloading (…)lve/main/config.json:   0%|          | 0.00/570 [00:00<?, ?B/s]"
            ],
            "application/vnd.jupyter.widget-view+json": {
              "version_major": 2,
              "version_minor": 0,
              "model_id": "27a6841bd0ef43399b1dd162a79ce7e5"
            }
          },
          "metadata": {}
        }
      ],
      "source": [
        "tokenizer = BertTokenizer.from_pretrained('bert-base-cased')"
      ]
    },
    {
      "cell_type": "markdown",
      "metadata": {
        "id": "Icec_ITkM7hA"
      },
      "source": [
        "#### Data Preparation"
      ]
    },
    {
      "cell_type": "code",
      "execution_count": null,
      "metadata": {
        "execution": {
          "iopub.execute_input": "2022-07-16T21:05:40.751249Z",
          "iopub.status.busy": "2022-07-16T21:05:40.750393Z",
          "iopub.status.idle": "2022-07-16T21:05:40.802918Z",
          "shell.execute_reply": "2022-07-16T21:05:40.801652Z",
          "shell.execute_reply.started": "2022-07-16T21:05:40.751200Z"
        },
        "trusted": true,
        "id": "_iitUgDtM7hB"
      },
      "outputs": [],
      "source": [
        "X_train, X_test, y_train, y_test = train_test_split(final_data['News'], final_data['Type'], test_size=0.25, random_state=42)"
      ]
    },
    {
      "cell_type": "code",
      "execution_count": null,
      "metadata": {
        "execution": {
          "iopub.execute_input": "2022-07-16T21:05:40.805615Z",
          "iopub.status.busy": "2022-07-16T21:05:40.805121Z",
          "iopub.status.idle": "2022-07-16T21:05:40.824660Z",
          "shell.execute_reply": "2022-07-16T21:05:40.823439Z",
          "shell.execute_reply.started": "2022-07-16T21:05:40.805567Z"
        },
        "trusted": true,
        "id": "qTLoM9zHM7hB"
      },
      "outputs": [],
      "source": [
        "token = tokenizer.encode_plus(\n",
        "    X_train.iloc[0],\n",
        "    max_length=256,\n",
        "    truncation=True,\n",
        "    padding='max_length',\n",
        "    add_special_tokens=True,\n",
        "    return_tensors='tf'\n",
        ")"
      ]
    },
    {
      "cell_type": "code",
      "execution_count": null,
      "metadata": {
        "execution": {
          "iopub.execute_input": "2022-07-16T21:05:40.828994Z",
          "iopub.status.busy": "2022-07-16T21:05:40.827975Z",
          "iopub.status.idle": "2022-07-16T21:05:40.846731Z",
          "shell.execute_reply": "2022-07-16T21:05:40.845260Z",
          "shell.execute_reply.started": "2022-07-16T21:05:40.828915Z"
        },
        "trusted": true,
        "id": "yFR6avb8M7hC"
      },
      "outputs": [],
      "source": [
        "X_input_ids = np.zeros((len(X_train), 256))\n",
        "X_attn_masks = np.zeros((len(X_train), 256))"
      ]
    },
    {
      "cell_type": "code",
      "execution_count": null,
      "metadata": {
        "execution": {
          "iopub.execute_input": "2022-07-16T21:05:40.851057Z",
          "iopub.status.busy": "2022-07-16T21:05:40.850213Z",
          "iopub.status.idle": "2022-07-16T21:05:40.859433Z",
          "shell.execute_reply": "2022-07-16T21:05:40.858144Z",
          "shell.execute_reply.started": "2022-07-16T21:05:40.851008Z"
        },
        "trusted": true,
        "id": "Jlt6_s_mM7hD"
      },
      "outputs": [],
      "source": [
        "def generate_training_data(df, ids, masks, tokenizer):\n",
        "    for i, text in tqdm(enumerate(df)):\n",
        "        tokenized_text = tokenizer.encode_plus(\n",
        "            text,\n",
        "            max_length=256,\n",
        "            truncation=True,\n",
        "            padding='max_length',\n",
        "            add_special_tokens=True,\n",
        "            return_tensors='tf'\n",
        "        )\n",
        "        ids[i, :] = tokenized_text.input_ids\n",
        "        masks[i, :] = tokenized_text.attention_mask\n",
        "    return ids, masks"
      ]
    },
    {
      "cell_type": "code",
      "execution_count": null,
      "metadata": {
        "execution": {
          "iopub.execute_input": "2022-07-16T21:05:40.862682Z",
          "iopub.status.busy": "2022-07-16T21:05:40.861172Z",
          "iopub.status.idle": "2022-07-16T21:12:31.582569Z",
          "shell.execute_reply": "2022-07-16T21:12:31.581016Z",
          "shell.execute_reply.started": "2022-07-16T21:05:40.862601Z"
        },
        "trusted": true,
        "id": "l0IcAPvVM7hE",
        "colab": {
          "base_uri": "https://localhost:8080/",
          "height": 49,
          "referenced_widgets": [
            "006f4508dd4743c1b8449a3d27571c12",
            "7e52eb9887b048d999f40f6acfd6066c",
            "e115563320e04bf7973b429d670621e8",
            "c90d75f6729744d0b4d10bdf62b86be7",
            "1be8ca66b46e4b6c9c3465bbde972225",
            "050274001003423390a03feaac3d8752",
            "b0f2a8f8f9754bd880b81889015e9dd7",
            "e0086837321a44a88327b3d01dedc374",
            "c6c5aa0698944138ada25523ff702c46",
            "7bb8e340211c4f76a02922f8714a328e",
            "c9392a8927c84650b5d49d761972884a"
          ]
        },
        "outputId": "28692fc6-4531-499b-cae3-cd6a7a952ce8"
      },
      "outputs": [
        {
          "output_type": "display_data",
          "data": {
            "text/plain": [
              "0it [00:00, ?it/s]"
            ],
            "application/vnd.jupyter.widget-view+json": {
              "version_major": 2,
              "version_minor": 0,
              "model_id": "006f4508dd4743c1b8449a3d27571c12"
            }
          },
          "metadata": {}
        }
      ],
      "source": [
        "X_input_ids, X_attn_masks = generate_training_data(X_train, X_input_ids, X_attn_masks, tokenizer)"
      ]
    },
    {
      "cell_type": "code",
      "execution_count": null,
      "metadata": {
        "execution": {
          "iopub.execute_input": "2022-07-16T21:12:31.586058Z",
          "iopub.status.busy": "2022-07-16T21:12:31.584830Z",
          "iopub.status.idle": "2022-07-16T21:12:31.595572Z",
          "shell.execute_reply": "2022-07-16T21:12:31.594166Z",
          "shell.execute_reply.started": "2022-07-16T21:12:31.585997Z"
        },
        "trusted": true,
        "id": "5E0LBBLUM7hE"
      },
      "outputs": [],
      "source": [
        "train_labels = np.zeros((len(y_train), 7))\n",
        "train_labels[np.arange(len(y_train)), y_train.values] = 1 # one-hot encoded target tensor"
      ]
    },
    {
      "cell_type": "code",
      "execution_count": null,
      "metadata": {
        "execution": {
          "iopub.execute_input": "2022-07-16T21:12:31.598498Z",
          "iopub.status.busy": "2022-07-16T21:12:31.597583Z",
          "iopub.status.idle": "2022-07-16T21:12:31.608010Z",
          "shell.execute_reply": "2022-07-16T21:12:31.606397Z",
          "shell.execute_reply.started": "2022-07-16T21:12:31.598450Z"
        },
        "trusted": true,
        "id": "V3R97OLKM7hF"
      },
      "outputs": [],
      "source": [
        "def SentimentDatasetMapFunction(input_ids, attn_masks, labels):\n",
        "    return {\n",
        "        'input_ids': input_ids,\n",
        "        'attention_mask': attn_masks\n",
        "    }, labels"
      ]
    },
    {
      "cell_type": "code",
      "execution_count": null,
      "metadata": {
        "execution": {
          "iopub.execute_input": "2022-07-16T21:12:31.613407Z",
          "iopub.status.busy": "2022-07-16T21:12:31.609540Z",
          "iopub.status.idle": "2022-07-16T21:12:31.887229Z",
          "shell.execute_reply": "2022-07-16T21:12:31.885958Z",
          "shell.execute_reply.started": "2022-07-16T21:12:31.613345Z"
        },
        "trusted": true,
        "id": "RrFJof-MM7hG"
      },
      "outputs": [],
      "source": [
        "# creating a data pipeline using tensorflow dataset utility, creates batches of data for easy loading...\n",
        "dataset = tf.data.Dataset.from_tensor_slices((X_input_ids, X_attn_masks, train_labels))\n",
        "dataset = dataset.map(SentimentDatasetMapFunction) # converting to required format for tensorflow dataset\n",
        "dataset = dataset.shuffle(35180).batch(16, drop_remainder=True) # batch size, drop any left out tensor"
      ]
    },
    {
      "cell_type": "code",
      "execution_count": null,
      "metadata": {
        "execution": {
          "iopub.execute_input": "2022-07-16T21:12:31.889268Z",
          "iopub.status.busy": "2022-07-16T21:12:31.888807Z",
          "iopub.status.idle": "2022-07-16T21:12:31.900083Z",
          "shell.execute_reply": "2022-07-16T21:12:31.898639Z",
          "shell.execute_reply.started": "2022-07-16T21:12:31.889211Z"
        },
        "trusted": true,
        "id": "9qQto5e0M7hH",
        "colab": {
          "base_uri": "https://localhost:8080/"
        },
        "outputId": "c14e5b03-c6cf-44b8-a300-e8708525149b"
      },
      "outputs": [
        {
          "output_type": "execute_result",
          "data": {
            "text/plain": [
              "2100"
            ]
          },
          "metadata": {},
          "execution_count": 63
        }
      ],
      "source": [
        "p = 0.8\n",
        "train_size = int((len(X_train))*p)\n",
        "train_size"
      ]
    },
    {
      "cell_type": "code",
      "execution_count": null,
      "metadata": {
        "execution": {
          "iopub.execute_input": "2022-07-16T21:12:31.903518Z",
          "iopub.status.busy": "2022-07-16T21:12:31.902538Z",
          "iopub.status.idle": "2022-07-16T21:12:31.922572Z",
          "shell.execute_reply": "2022-07-16T21:12:31.921228Z",
          "shell.execute_reply.started": "2022-07-16T21:12:31.903470Z"
        },
        "trusted": true,
        "id": "xWuD50tfM7hH"
      },
      "outputs": [],
      "source": [
        "train_dataset = dataset.take(train_size)\n",
        "val_dataset = dataset.skip(train_size)"
      ]
    },
    {
      "cell_type": "markdown",
      "metadata": {
        "id": "uPM1h9PMM7hI"
      },
      "source": [
        "#### Build BERT Model"
      ]
    },
    {
      "cell_type": "code",
      "execution_count": null,
      "metadata": {
        "execution": {
          "iopub.execute_input": "2022-07-16T21:12:31.925271Z",
          "iopub.status.busy": "2022-07-16T21:12:31.924680Z",
          "iopub.status.idle": "2022-07-16T21:12:34.276629Z",
          "shell.execute_reply": "2022-07-16T21:12:34.275266Z",
          "shell.execute_reply.started": "2022-07-16T21:12:31.925225Z"
        },
        "trusted": true,
        "id": "BMmIkwHeM7hJ",
        "colab": {
          "base_uri": "https://localhost:8080/",
          "height": 156,
          "referenced_widgets": [
            "af9489a495154207aeeeb4d375d1dc80",
            "fc9b710200514ca0a126672edfb64d88",
            "ddf2e5b9bab746fca81a070af249966e",
            "fcabdc463b6b4d9f84fcade312b44522",
            "ad38df8abd274b36ad433bdb02aa7318",
            "71b522a90b444426837187b5267671bb",
            "c62c310760dd4793ae3139720e885164",
            "244bfd688b9f40d8a53e58d902de3e44",
            "c76b6765a6f843f0a37c1f708b299a01",
            "59dfc36831334e8483ff2bf9d854f609",
            "5a80d1fca3cb43e1b7db6b3844488802"
          ]
        },
        "outputId": "55765e8c-a74d-4742-ac92-3bafffd5fa47"
      },
      "outputs": [
        {
          "output_type": "display_data",
          "data": {
            "text/plain": [
              "Downloading model.safetensors:   0%|          | 0.00/436M [00:00<?, ?B/s]"
            ],
            "application/vnd.jupyter.widget-view+json": {
              "version_major": 2,
              "version_minor": 0,
              "model_id": "af9489a495154207aeeeb4d375d1dc80"
            }
          },
          "metadata": {}
        },
        {
          "output_type": "stream",
          "name": "stderr",
          "text": [
            "Some weights of the PyTorch model were not used when initializing the TF 2.0 model TFBertModel: ['cls.predictions.transform.dense.weight', 'cls.predictions.transform.LayerNorm.weight', 'cls.predictions.transform.dense.bias', 'cls.seq_relationship.weight', 'cls.predictions.transform.LayerNorm.bias', 'cls.seq_relationship.bias', 'cls.predictions.bias']\n",
            "- This IS expected if you are initializing TFBertModel from a PyTorch model trained on another task or with another architecture (e.g. initializing a TFBertForSequenceClassification model from a BertForPreTraining model).\n",
            "- This IS NOT expected if you are initializing TFBertModel from a PyTorch model that you expect to be exactly identical (e.g. initializing a TFBertForSequenceClassification model from a BertForSequenceClassification model).\n",
            "All the weights of TFBertModel were initialized from the PyTorch model.\n",
            "If your task is similar to the task the model of the checkpoint was trained on, you can already use TFBertModel for predictions without further training.\n"
          ]
        }
      ],
      "source": [
        "bert_model = TFBertModel.from_pretrained('bert-base-cased') # bert base model with pretrained weights"
      ]
    },
    {
      "cell_type": "code",
      "execution_count": null,
      "metadata": {
        "execution": {
          "iopub.execute_input": "2022-07-16T21:12:34.285964Z",
          "iopub.status.busy": "2022-07-16T21:12:34.282618Z",
          "iopub.status.idle": "2022-07-16T21:12:36.429285Z",
          "shell.execute_reply": "2022-07-16T21:12:36.427631Z",
          "shell.execute_reply.started": "2022-07-16T21:12:34.285899Z"
        },
        "trusted": true,
        "id": "xZ6UjmFsM7hJ"
      },
      "outputs": [],
      "source": [
        "# defining 2 input layers for input_ids and attn_masks\n",
        "input_ids = tf.keras.layers.Input(shape=(256,), name='input_ids', dtype='int32')\n",
        "attn_masks = tf.keras.layers.Input(shape=(256,), name='attention_mask', dtype='int32')\n",
        "\n",
        "bert_embds = bert_model.bert(input_ids, attention_mask=attn_masks)[1] # 0 -> activation layer (3D), 1 -> pooled output layer (2D)\n",
        "intermediate_layer = tf.keras.layers.Dense(512, activation='relu', name='intermediate_layer')(bert_embds)\n",
        "output_layer = tf.keras.layers.Dense(7, activation='softmax', name='output_layer')(intermediate_layer) # softmax -> calcs probs of classes\n",
        "\n",
        "bert_classification_model = tf.keras.Model(inputs=[input_ids, attn_masks], outputs=output_layer)\n",
        "bert_classification_model.summary()"
      ]
    },
    {
      "cell_type": "code",
      "execution_count": null,
      "metadata": {
        "execution": {
          "iopub.execute_input": "2022-07-16T21:12:36.432456Z",
          "iopub.status.busy": "2022-07-16T21:12:36.431344Z",
          "iopub.status.idle": "2022-07-16T21:12:36.445384Z",
          "shell.execute_reply": "2022-07-16T21:12:36.443879Z",
          "shell.execute_reply.started": "2022-07-16T21:12:36.432408Z"
        },
        "trusted": true,
        "id": "Qkw_18MoM7hL"
      },
      "outputs": [],
      "source": [
        "optim = tf.keras.optimizers.Adam(learning_rate=1e-5)\n",
        "optim = tf.keras.optimizers.legacy.Adam(learning_rate=1e-5, decay=1e-6)\n",
        "loss_func = tf.keras.losses.CategoricalCrossentropy()\n",
        "acc = tf.keras.metrics.CategoricalAccuracy('accuracy')"
      ]
    },
    {
      "cell_type": "code",
      "execution_count": null,
      "metadata": {
        "execution": {
          "iopub.execute_input": "2022-07-16T21:12:36.449178Z",
          "iopub.status.busy": "2022-07-16T21:12:36.448303Z",
          "iopub.status.idle": "2022-07-16T21:12:36.471008Z",
          "shell.execute_reply": "2022-07-16T21:12:36.469409Z",
          "shell.execute_reply.started": "2022-07-16T21:12:36.449130Z"
        },
        "trusted": true,
        "id": "n_GrCfCZM7hM"
      },
      "outputs": [],
      "source": [
        "bert_classification_model.compile(optimizer=optim, loss=loss_func, metrics=[acc])"
      ]
    },
    {
      "cell_type": "code",
      "execution_count": null,
      "metadata": {
        "execution": {
          "iopub.execute_input": "2022-07-16T21:12:36.481570Z",
          "iopub.status.busy": "2022-07-16T21:12:36.480444Z",
          "iopub.status.idle": "2022-07-16T22:07:20.341975Z",
          "shell.execute_reply": "2022-07-16T22:07:20.340305Z",
          "shell.execute_reply.started": "2022-07-16T21:12:36.481521Z"
        },
        "trusted": true,
        "id": "xlO2yrqFM7hM",
        "colab": {
          "base_uri": "https://localhost:8080/"
        },
        "outputId": "500a4715-21ee-4545-8fe5-d0cfec2fad3d"
      },
      "outputs": [
        {
          "output_type": "stream",
          "name": "stdout",
          "text": [
            "Epoch 1/3\n",
            "137/164 [========================>.....] - ETA: 16:06 - loss: 1.7631 - accuracy: 0.2860"
          ]
        }
      ],
      "source": [
        "hist = bert_classification_model.fit(\n",
        "    train_dataset,\n",
        "    validation_data=val_dataset,\n",
        "    epochs=3\n",
        ")"
      ]
    },
    {
      "cell_type": "markdown",
      "metadata": {
        "id": "vV4KPqWdM7hN"
      },
      "source": [
        "#### Evaluate the Model"
      ]
    },
    {
      "cell_type": "code",
      "execution_count": null,
      "metadata": {
        "execution": {
          "iopub.execute_input": "2022-07-16T22:07:20.344999Z",
          "iopub.status.busy": "2022-07-16T22:07:20.344492Z",
          "iopub.status.idle": "2022-07-16T22:07:20.354863Z",
          "shell.execute_reply": "2022-07-16T22:07:20.353266Z",
          "shell.execute_reply.started": "2022-07-16T22:07:20.344932Z"
        },
        "trusted": true,
        "id": "oXHTzWwpM7hO"
      },
      "outputs": [],
      "source": [
        "def generate_test_data(df, ids, masks, tokenizer):\n",
        "    result = []\n",
        "    for i, text in tqdm(enumerate(df)):\n",
        "        tokenized_text = tokenizer.encode_plus(\n",
        "            text,\n",
        "            max_length=256,\n",
        "            truncation=True,\n",
        "            padding='max_length',\n",
        "            add_special_tokens=True,\n",
        "            return_tensors='tf'\n",
        "        )\n",
        "\n",
        "        processed_data = {\n",
        "        'input_ids': tf.cast(tokenized_text.input_ids, tf.float64),\n",
        "        'attention_mask': tf.cast(tokenized_text.attention_mask, tf.float64),\n",
        "        }\n",
        "        result.append(processed_data)\n",
        "    return result"
      ]
    },
    {
      "cell_type": "code",
      "execution_count": null,
      "metadata": {
        "execution": {
          "iopub.execute_input": "2022-07-16T22:07:20.358261Z",
          "iopub.status.busy": "2022-07-16T22:07:20.356758Z",
          "iopub.status.idle": "2022-07-16T22:07:20.379140Z",
          "shell.execute_reply": "2022-07-16T22:07:20.377882Z",
          "shell.execute_reply.started": "2022-07-16T22:07:20.358214Z"
        },
        "trusted": true,
        "id": "C1Ap9sDRM7hP"
      },
      "outputs": [],
      "source": [
        "test_token = tokenizer.encode_plus(\n",
        "    X_test.iloc[0], #\n",
        "    max_length=256,\n",
        "    truncation=True,\n",
        "    padding='max_length',\n",
        "    add_special_tokens=True,\n",
        "    return_tensors='tf'\n",
        ")"
      ]
    },
    {
      "cell_type": "code",
      "execution_count": null,
      "metadata": {
        "execution": {
          "iopub.execute_input": "2022-07-16T22:07:20.381791Z",
          "iopub.status.busy": "2022-07-16T22:07:20.380987Z",
          "iopub.status.idle": "2022-07-16T22:09:43.918554Z",
          "shell.execute_reply": "2022-07-16T22:09:43.917127Z",
          "shell.execute_reply.started": "2022-07-16T22:07:20.381741Z"
        },
        "trusted": true,
        "id": "QB58xUcLM7hP"
      },
      "outputs": [],
      "source": [
        "X_input_ids_test = np.zeros((len(X_test), 256))\n",
        "X_attn_masks_test = np.zeros((len(X_test), 256))\n",
        "processed_data = generate_test_data(X_test, X_input_ids_test, X_attn_masks_test, tokenizer)"
      ]
    },
    {
      "cell_type": "code",
      "execution_count": null,
      "metadata": {
        "execution": {
          "iopub.execute_input": "2022-07-16T22:09:43.921364Z",
          "iopub.status.busy": "2022-07-16T22:09:43.920793Z",
          "iopub.status.idle": "2022-07-16T22:09:43.932356Z",
          "shell.execute_reply": "2022-07-16T22:09:43.930645Z",
          "shell.execute_reply.started": "2022-07-16T22:09:43.921316Z"
        },
        "trusted": true,
        "id": "vDwClOO9M7hQ"
      },
      "outputs": [],
      "source": [
        "def get_predictions(bert_model, processed_data):\n",
        "    classes=['Culture', 'Finance', 'Medical', 'Politics', 'Religion', 'Sports', 'Tech']\n",
        "    probs = []\n",
        "    for data in processed_data:\n",
        "        prob = bert_model.predict(data)[0]\n",
        "        prob = classes[np.argmax(prob)]\n",
        "        probs.append(prob)\n",
        "\n",
        "    classes = []\n",
        "    for prob in probs:\n",
        "        if prob == 'Culture':\n",
        "            classes.append(0)\n",
        "        if prob == 'Finance':\n",
        "            classes.append(1)\n",
        "        if prob == 'Medical':\n",
        "            classes.append(2)\n",
        "        if prob == 'Politics':\n",
        "            classes.append(3)\n",
        "        if prob == 'Religion':\n",
        "            classes.append(4)\n",
        "        if prob == 'Sports':\n",
        "            classes.append(5)\n",
        "        if prob == 'Tech':\n",
        "            classes.append(6)\n",
        "    return classes"
      ]
    },
    {
      "cell_type": "code",
      "execution_count": null,
      "metadata": {
        "execution": {
          "iopub.execute_input": "2022-07-16T22:09:43.934938Z",
          "iopub.status.busy": "2022-07-16T22:09:43.934442Z",
          "iopub.status.idle": "2022-07-16T22:28:27.063687Z",
          "shell.execute_reply": "2022-07-16T22:28:27.062399Z",
          "shell.execute_reply.started": "2022-07-16T22:09:43.934893Z"
        },
        "trusted": true,
        "id": "ZDUX1a8hM7hR"
      },
      "outputs": [],
      "source": [
        "y_pred = get_predictions(bert_classification_model, processed_data)"
      ]
    },
    {
      "cell_type": "code",
      "execution_count": null,
      "metadata": {
        "execution": {
          "iopub.execute_input": "2022-07-16T22:28:27.067214Z",
          "iopub.status.busy": "2022-07-16T22:28:27.066349Z",
          "iopub.status.idle": "2022-07-16T22:28:27.082943Z",
          "shell.execute_reply": "2022-07-16T22:28:27.081437Z",
          "shell.execute_reply.started": "2022-07-16T22:28:27.067166Z"
        },
        "trusted": true,
        "id": "Rb9T4nKXM7hS"
      },
      "outputs": [],
      "source": [
        "bert_score = accuracy_score(y_pred, y_test)\n",
        "bert_score"
      ]
    },
    {
      "cell_type": "markdown",
      "metadata": {
        "id": "xRq0iK6FM7hS"
      },
      "source": [
        "#### Some test Cases"
      ]
    },
    {
      "cell_type": "code",
      "execution_count": null,
      "metadata": {
        "execution": {
          "iopub.execute_input": "2022-07-16T22:28:27.099205Z",
          "iopub.status.busy": "2022-07-16T22:28:27.098235Z",
          "iopub.status.idle": "2022-07-16T22:28:27.111429Z",
          "shell.execute_reply": "2022-07-16T22:28:27.110026Z",
          "shell.execute_reply.started": "2022-07-16T22:28:27.099158Z"
        },
        "trusted": true,
        "id": "xDOkqH95M7hT"
      },
      "outputs": [],
      "source": [
        "def prepare_data(input_text, tokenizer):\n",
        "    token = tokenizer.encode_plus(\n",
        "        input_text,\n",
        "        max_length=256,\n",
        "        truncation=True,\n",
        "        padding='max_length',\n",
        "        add_special_tokens=True,\n",
        "        return_tensors='tf'\n",
        "    )\n",
        "    return {\n",
        "        'input_ids': tf.cast(token.input_ids, tf.float64),\n",
        "        'attention_mask': tf.cast(token.attention_mask, tf.float64)\n",
        "    }\n",
        "\n",
        "def make_prediction(model, processed_data, classes=['Culture', 'Finance', 'Medical', 'Politics', 'Religion', 'Sports', 'Tech']):\n",
        "    probs = model.predict(processed_data)[0]\n",
        "    return classes[np.argmax(probs)]"
      ]
    },
    {
      "cell_type": "code",
      "execution_count": null,
      "metadata": {
        "execution": {
          "iopub.execute_input": "2022-07-16T22:28:27.114721Z",
          "iopub.status.busy": "2022-07-16T22:28:27.113919Z",
          "iopub.status.idle": "2022-07-16T22:28:27.240531Z",
          "shell.execute_reply": "2022-07-16T22:28:27.239025Z",
          "shell.execute_reply.started": "2022-07-16T22:28:27.114674Z"
        },
        "trusted": true,
        "id": "pr_z3KlHM7hU"
      },
      "outputs": [],
      "source": [
        "input_text = 'احرز محمد صلا هدفا رائعا فى شباك تشيلسى بعد انا قام بمراوغة عدة لاعبين ثم سدد تسديدة قوية سكنت مرمى الحارس مندى الذى لم يستطع الوصول الى الكرة وقام بمشاهدتها'\n",
        "processed_data_test_1 = prepare_data(input_text, tokenizer)\n",
        "result = make_prediction(bert_classification_model, processed_data=processed_data_test_1)\n",
        "print(f\"Predicted News: {result}\")"
      ]
    },
    {
      "cell_type": "code",
      "execution_count": null,
      "metadata": {
        "execution": {
          "iopub.execute_input": "2022-07-16T22:28:27.242686Z",
          "iopub.status.busy": "2022-07-16T22:28:27.242206Z",
          "iopub.status.idle": "2022-07-16T22:28:27.382040Z",
          "shell.execute_reply": "2022-07-16T22:28:27.379318Z",
          "shell.execute_reply.started": "2022-07-16T22:28:27.242635Z"
        },
        "trusted": true,
        "id": "bsuAz8voM7hW"
      },
      "outputs": [],
      "source": [
        "input_text = 'حذرت الرابطة الألمانية لأطباء الأطفال والمراهقين من أن السعال الشديد ينذر بإصابة الطفل بما يعرف بالخُناق، الذي يندرج ضمن أمراض المسالك التنفسية...'\n",
        "processed_data_test_2 = prepare_data(input_text, tokenizer)\n",
        "result = make_prediction(bert_classification_model, processed_data=processed_data_test_2)\n",
        "print(f\"Predicted News: {result}\")"
      ]
    },
    {
      "cell_type": "code",
      "execution_count": null,
      "metadata": {
        "id": "U2DgIDLfM7hX"
      },
      "outputs": [],
      "source": []
    },
    {
      "cell_type": "markdown",
      "metadata": {
        "id": "ahyGLHDSM7hY"
      },
      "source": [
        "### DistilBERT"
      ]
    },
    {
      "cell_type": "code",
      "execution_count": null,
      "metadata": {
        "execution": {
          "iopub.execute_input": "2022-07-16T23:54:57.265658Z",
          "iopub.status.busy": "2022-07-16T23:54:57.264707Z",
          "iopub.status.idle": "2022-07-16T23:54:57.270764Z",
          "shell.execute_reply": "2022-07-16T23:54:57.269745Z",
          "shell.execute_reply.started": "2022-07-16T23:54:57.265624Z"
        },
        "trusted": true,
        "id": "ypLbQudeM7hY"
      },
      "outputs": [],
      "source": [
        "# !pip install ktrain"
      ]
    },
    {
      "cell_type": "code",
      "execution_count": null,
      "metadata": {
        "execution": {
          "iopub.execute_input": "2022-07-16T23:54:40.396685Z",
          "iopub.status.busy": "2022-07-16T23:54:40.396268Z",
          "iopub.status.idle": "2022-07-16T23:54:48.564602Z",
          "shell.execute_reply": "2022-07-16T23:54:48.563255Z",
          "shell.execute_reply.started": "2022-07-16T23:54:40.396648Z"
        },
        "trusted": true,
        "id": "ff92VNkYM7hZ"
      },
      "outputs": [],
      "source": [
        "import ktrain\n",
        "from ktrain import text"
      ]
    },
    {
      "cell_type": "markdown",
      "metadata": {
        "id": "2DwtshRuM7ha"
      },
      "source": [
        "#### Data Preparation"
      ]
    },
    {
      "cell_type": "code",
      "execution_count": null,
      "metadata": {
        "execution": {
          "iopub.execute_input": "2022-07-16T23:58:09.523109Z",
          "iopub.status.busy": "2022-07-16T23:58:09.522512Z",
          "iopub.status.idle": "2022-07-16T23:58:09.571493Z",
          "shell.execute_reply": "2022-07-16T23:58:09.570611Z",
          "shell.execute_reply.started": "2022-07-16T23:58:09.523074Z"
        },
        "trusted": true,
        "id": "tYeQOxceM7ha"
      },
      "outputs": [],
      "source": [
        "X_train, X_test, y_train, y_test = train_test_split(final_data['News'], final_data['Type'], test_size=0.25, random_state=42)"
      ]
    },
    {
      "cell_type": "code",
      "execution_count": null,
      "metadata": {
        "execution": {
          "iopub.execute_input": "2022-07-16T23:57:01.171625Z",
          "iopub.status.busy": "2022-07-16T23:57:01.170632Z",
          "iopub.status.idle": "2022-07-16T23:57:01.176852Z",
          "shell.execute_reply": "2022-07-16T23:57:01.175900Z",
          "shell.execute_reply.started": "2022-07-16T23:57:01.171590Z"
        },
        "trusted": true,
        "id": "F3DfGvj9M7hb"
      },
      "outputs": [],
      "source": [
        "classes=['Culture', 'Finance', 'Medical', 'Politics', 'Religion', 'Sports', 'Tech']"
      ]
    },
    {
      "cell_type": "code",
      "execution_count": null,
      "metadata": {
        "execution": {
          "iopub.execute_input": "2022-07-16T23:57:03.674839Z",
          "iopub.status.busy": "2022-07-16T23:57:03.674175Z",
          "iopub.status.idle": "2022-07-16T23:57:04.396673Z",
          "shell.execute_reply": "2022-07-16T23:57:04.395725Z",
          "shell.execute_reply.started": "2022-07-16T23:57:03.674799Z"
        },
        "trusted": true,
        "id": "Cfv-h-BpM7hc"
      },
      "outputs": [],
      "source": [
        "trans = text.Transformer('distilbert-base-cased', maxlen=512, class_names = classes)"
      ]
    },
    {
      "cell_type": "code",
      "execution_count": null,
      "metadata": {
        "execution": {
          "iopub.execute_input": "2022-07-16T23:59:31.923164Z",
          "iopub.status.busy": "2022-07-16T23:59:31.922800Z",
          "iopub.status.idle": "2022-07-17T00:02:21.223516Z",
          "shell.execute_reply": "2022-07-17T00:02:21.222423Z",
          "shell.execute_reply.started": "2022-07-16T23:59:31.923133Z"
        },
        "trusted": true,
        "id": "G6Z_63qcM7hd"
      },
      "outputs": [],
      "source": [
        "train_data = trans.preprocess_train(X_train.values, y_train.values)\n",
        "test_data = trans.preprocess_test(X_test.values, y_test.values)"
      ]
    },
    {
      "cell_type": "markdown",
      "metadata": {
        "id": "3UZ2b1E-M7hf"
      },
      "source": [
        "#### Build Model"
      ]
    },
    {
      "cell_type": "code",
      "execution_count": null,
      "metadata": {
        "execution": {
          "iopub.execute_input": "2022-07-17T00:02:21.263473Z",
          "iopub.status.busy": "2022-07-17T00:02:21.263122Z",
          "iopub.status.idle": "2022-07-17T00:02:47.493915Z",
          "shell.execute_reply": "2022-07-17T00:02:47.492763Z",
          "shell.execute_reply.started": "2022-07-17T00:02:21.263438Z"
        },
        "trusted": true,
        "id": "rzP8hWMdM7hg"
      },
      "outputs": [],
      "source": [
        "distilBERT_model = trans.get_classifier()"
      ]
    },
    {
      "cell_type": "code",
      "execution_count": null,
      "metadata": {
        "execution": {
          "iopub.execute_input": "2022-07-17T00:05:01.897156Z",
          "iopub.status.busy": "2022-07-17T00:05:01.896791Z",
          "iopub.status.idle": "2022-07-17T00:05:02.435564Z",
          "shell.execute_reply": "2022-07-17T00:05:02.434579Z",
          "shell.execute_reply.started": "2022-07-17T00:05:01.897125Z"
        },
        "trusted": true,
        "id": "I3NB6o38M7hg"
      },
      "outputs": [],
      "source": [
        "learner = ktrain.get_learner(distilBERT_model, train_data=train_data, val_data=test_data, batch_size=16)"
      ]
    },
    {
      "cell_type": "code",
      "execution_count": null,
      "metadata": {
        "execution": {
          "iopub.execute_input": "2022-07-17T00:07:30.170948Z",
          "iopub.status.busy": "2022-07-17T00:07:30.170580Z",
          "iopub.status.idle": "2022-07-17T01:13:11.483272Z",
          "shell.execute_reply": "2022-07-17T01:13:11.482370Z",
          "shell.execute_reply.started": "2022-07-17T00:07:30.170917Z"
        },
        "trusted": true,
        "id": "ILa71aG1M7hh"
      },
      "outputs": [],
      "source": [
        "learner.fit_onecycle(1e-4, 3)"
      ]
    },
    {
      "cell_type": "markdown",
      "metadata": {
        "id": "IGI9Ms4KM7hi"
      },
      "source": [
        "#### Evaluate the Model"
      ]
    },
    {
      "cell_type": "code",
      "execution_count": null,
      "metadata": {
        "execution": {
          "iopub.execute_input": "2022-07-17T01:21:43.809135Z",
          "iopub.status.busy": "2022-07-17T01:21:43.808791Z",
          "iopub.status.idle": "2022-07-17T01:23:42.830046Z",
          "shell.execute_reply": "2022-07-17T01:23:42.829050Z",
          "shell.execute_reply.started": "2022-07-17T01:21:43.809108Z"
        },
        "trusted": true,
        "id": "hfqvXlMEM7hn"
      },
      "outputs": [],
      "source": [
        "distilBERT_acc = learner.validate()"
      ]
    },
    {
      "cell_type": "code",
      "execution_count": null,
      "metadata": {
        "execution": {
          "iopub.execute_input": "2022-07-17T01:23:42.832065Z",
          "iopub.status.busy": "2022-07-17T01:23:42.831800Z",
          "iopub.status.idle": "2022-07-17T01:23:42.842255Z",
          "shell.execute_reply": "2022-07-17T01:23:42.840192Z",
          "shell.execute_reply.started": "2022-07-17T01:23:42.832040Z"
        },
        "trusted": true,
        "id": "L6z_1skGM7ho"
      },
      "outputs": [],
      "source": [
        "distilBERT_acc"
      ]
    },
    {
      "cell_type": "code",
      "execution_count": null,
      "metadata": {
        "execution": {
          "iopub.execute_input": "2022-07-17T01:27:48.454093Z",
          "iopub.status.busy": "2022-07-17T01:27:48.453750Z",
          "iopub.status.idle": "2022-07-17T01:27:48.458981Z",
          "shell.execute_reply": "2022-07-17T01:27:48.458020Z",
          "shell.execute_reply.started": "2022-07-17T01:27:48.454064Z"
        },
        "trusted": true,
        "id": "nPNi25AEM7hp"
      },
      "outputs": [],
      "source": [
        "distilBERT_accuracy = (distilBERT_acc.diagonal()/distilBERT_acc.sum(axis=0)).sum() / 7"
      ]
    },
    {
      "cell_type": "markdown",
      "metadata": {
        "id": "XMjhyk6pM7hp"
      },
      "source": [
        "### RoBERTa"
      ]
    },
    {
      "cell_type": "markdown",
      "metadata": {
        "id": "rxof1OnWM7hq"
      },
      "source": [
        "#### Data Preparation"
      ]
    },
    {
      "cell_type": "code",
      "execution_count": null,
      "metadata": {
        "execution": {
          "iopub.execute_input": "2022-07-17T02:54:33.275983Z",
          "iopub.status.busy": "2022-07-17T02:54:33.275631Z",
          "iopub.status.idle": "2022-07-17T02:54:33.291007Z",
          "shell.execute_reply": "2022-07-17T02:54:33.289966Z",
          "shell.execute_reply.started": "2022-07-17T02:54:33.275954Z"
        },
        "trusted": true,
        "id": "t949_BYVM7hr"
      },
      "outputs": [],
      "source": [
        "X_train, X_test, y_train, y_test = train_test_split(final_data['News'], final_data['Type'], test_size=0.3, random_state=42)"
      ]
    },
    {
      "cell_type": "code",
      "execution_count": null,
      "metadata": {
        "execution": {
          "iopub.execute_input": "2022-07-17T02:54:34.025454Z",
          "iopub.status.busy": "2022-07-17T02:54:34.025095Z",
          "iopub.status.idle": "2022-07-17T02:54:34.385734Z",
          "shell.execute_reply": "2022-07-17T02:54:34.384793Z",
          "shell.execute_reply.started": "2022-07-17T02:54:34.025424Z"
        },
        "trusted": true,
        "id": "XCVEwfx4M7hr"
      },
      "outputs": [],
      "source": [
        "trans_roberta = text.Transformer('roberta-base', class_names = classes)"
      ]
    },
    {
      "cell_type": "code",
      "execution_count": null,
      "metadata": {
        "execution": {
          "iopub.execute_input": "2022-07-17T02:54:35.206770Z",
          "iopub.status.busy": "2022-07-17T02:54:35.206403Z",
          "iopub.status.idle": "2022-07-17T02:57:11.436229Z",
          "shell.execute_reply": "2022-07-17T02:57:11.435196Z",
          "shell.execute_reply.started": "2022-07-17T02:54:35.206737Z"
        },
        "trusted": true,
        "id": "Vn5Qf2MVM7hs"
      },
      "outputs": [],
      "source": [
        "train_data_roberta = trans_roberta.preprocess_train(X_train.values, y_train.values)\n",
        "test_data_roberta = trans_roberta.preprocess_test(X_test.values, y_test.values)"
      ]
    },
    {
      "cell_type": "markdown",
      "metadata": {
        "id": "QH10JMCwM7ht"
      },
      "source": [
        "#### Build the Model"
      ]
    },
    {
      "cell_type": "code",
      "execution_count": null,
      "metadata": {
        "execution": {
          "iopub.execute_input": "2022-07-17T02:57:11.440678Z",
          "iopub.status.busy": "2022-07-17T02:57:11.439101Z",
          "iopub.status.idle": "2022-07-17T02:57:12.808178Z",
          "shell.execute_reply": "2022-07-17T02:57:12.807192Z",
          "shell.execute_reply.started": "2022-07-17T02:57:11.440636Z"
        },
        "trusted": true,
        "id": "QWyqY6tRM7hu"
      },
      "outputs": [],
      "source": [
        "roberta_model = trans_roberta.get_classifier()"
      ]
    },
    {
      "cell_type": "code",
      "execution_count": null,
      "metadata": {
        "execution": {
          "iopub.execute_input": "2022-07-17T02:57:12.809878Z",
          "iopub.status.busy": "2022-07-17T02:57:12.809544Z",
          "iopub.status.idle": "2022-07-17T02:57:13.649156Z",
          "shell.execute_reply": "2022-07-17T02:57:13.648176Z",
          "shell.execute_reply.started": "2022-07-17T02:57:12.809845Z"
        },
        "trusted": true,
        "id": "DCr-RrLaM7hv"
      },
      "outputs": [],
      "source": [
        "roberta_learner = ktrain.get_learner(roberta_model, train_data=train_data_roberta, val_data=test_data_roberta, batch_size=16)"
      ]
    },
    {
      "cell_type": "code",
      "execution_count": null,
      "metadata": {
        "execution": {
          "iopub.execute_input": "2022-07-17T02:57:13.651971Z",
          "iopub.status.busy": "2022-07-17T02:57:13.651514Z",
          "iopub.status.idle": "2022-07-17T03:29:51.384397Z",
          "shell.execute_reply": "2022-07-17T03:29:51.383413Z",
          "shell.execute_reply.started": "2022-07-17T02:57:13.651932Z"
        },
        "trusted": true,
        "id": "xxVY9oTHM7hw"
      },
      "outputs": [],
      "source": [
        "roberta_learner.fit_onecycle(1e-4, 3)"
      ]
    },
    {
      "cell_type": "markdown",
      "metadata": {
        "id": "vzys8dWnM7hx"
      },
      "source": [
        "#### Evaluate the Model"
      ]
    },
    {
      "cell_type": "code",
      "execution_count": null,
      "metadata": {
        "execution": {
          "iopub.execute_input": "2022-07-17T03:29:51.386565Z",
          "iopub.status.busy": "2022-07-17T03:29:51.386177Z",
          "iopub.status.idle": "2022-07-17T03:31:08.356744Z",
          "shell.execute_reply": "2022-07-17T03:31:08.355693Z",
          "shell.execute_reply.started": "2022-07-17T03:29:51.386527Z"
        },
        "trusted": true,
        "id": "DIplymsCM7hy"
      },
      "outputs": [],
      "source": [
        "roberta_validation = roberta_learner.validate()"
      ]
    },
    {
      "cell_type": "code",
      "execution_count": null,
      "metadata": {
        "execution": {
          "iopub.execute_input": "2022-07-17T03:31:08.358601Z",
          "iopub.status.busy": "2022-07-17T03:31:08.358040Z",
          "iopub.status.idle": "2022-07-17T03:31:08.367019Z",
          "shell.execute_reply": "2022-07-17T03:31:08.365860Z",
          "shell.execute_reply.started": "2022-07-17T03:31:08.358562Z"
        },
        "trusted": true,
        "id": "xY24cKWQM7hz"
      },
      "outputs": [],
      "source": [
        "roberta_accuracy = (roberta_validation.diagonal()/roberta_validation.sum(axis=0)).sum() / 7\n",
        "roberta_accuracy"
      ]
    },
    {
      "cell_type": "markdown",
      "metadata": {
        "id": "L_YLjszSM7hz"
      },
      "source": [
        "### Conclusion"
      ]
    },
    {
      "cell_type": "code",
      "execution_count": null,
      "metadata": {
        "execution": {
          "iopub.execute_input": "2022-07-17T03:37:30.448118Z",
          "iopub.status.busy": "2022-07-17T03:37:30.447019Z",
          "iopub.status.idle": "2022-07-17T03:37:30.453075Z",
          "shell.execute_reply": "2022-07-17T03:37:30.452042Z",
          "shell.execute_reply.started": "2022-07-17T03:37:30.448073Z"
        },
        "trusted": true,
        "id": "Mm7gEtBQM7h0"
      },
      "outputs": [],
      "source": [
        "nb_acc = nb_score * 100\n",
        "rnn_acc = rnn_accuracy[1] * 100\n",
        "lstm_acc = lstm_accuracy[1] * 100\n",
        "gru_acc = gru_accuracy[1] * 100\n",
        "bert_score = bert_score * 100\n",
        "dist_score = distilBERT_accuracy * 100\n",
        "roberta_score = roberta_accuracy * 100"
      ]
    },
    {
      "cell_type": "code",
      "execution_count": null,
      "metadata": {
        "execution": {
          "iopub.execute_input": "2022-07-17T03:37:35.753234Z",
          "iopub.status.busy": "2022-07-17T03:37:35.752242Z",
          "iopub.status.idle": "2022-07-17T03:37:36.015576Z",
          "shell.execute_reply": "2022-07-17T03:37:36.014517Z",
          "shell.execute_reply.started": "2022-07-17T03:37:35.753198Z"
        },
        "trusted": true,
        "id": "Ydge4lKdM7h1"
      },
      "outputs": [],
      "source": [
        "import seaborn as sns\n",
        "methods = [\"Naive Bayes\",\"RNN\", \"LSTM\", \"GRU\", \"BERT\", \"DistilBERT\", \"RoBERTa\"]\n",
        "accuracy = [nb_acc, rnn_acc, lstm_acc, gru_acc, bert_score, dist_score, roberta_score]\n",
        "\n",
        "sns.set()\n",
        "plt.figure(figsize=(12,6))\n",
        "plt.title(\"Models Summary\")\n",
        "plt.ylabel(\"Testing Accuracy %\")\n",
        "plt.xlabel(\"Model\")\n",
        "sns.barplot(x=methods, y=accuracy, palette=\"deep\")\n",
        "\n",
        "for idx, method in enumerate(methods):\n",
        "    plt.text(idx -0.1, accuracy[idx]+0.02, \"{:.2f}%\".format(accuracy[idx]))\n",
        "\n",
        "plt.tight_layout()"
      ]
    }
  ],
  "metadata": {
    "kernelspec": {
      "display_name": "Python 3.8.8 ('base')",
      "language": "python",
      "name": "python3"
    },
    "language_info": {
      "codemirror_mode": {
        "name": "ipython",
        "version": 3
      },
      "file_extension": ".py",
      "mimetype": "text/x-python",
      "name": "python",
      "nbconvert_exporter": "python",
      "pygments_lexer": "ipython3",
      "version": "3.8.8"
    },
    "vscode": {
      "interpreter": {
        "hash": "dfe2e9041c24d5f91854bb9ffc35eacf9a6123f8e0fdaf39110ac9ad93cae24d"
      }
    },
    "colab": {
      "provenance": []
    },
    "widgets": {
      "application/vnd.jupyter.widget-state+json": {
        "b016a771a9724be99112dbf33b0466b7": {
          "model_module": "@jupyter-widgets/controls",
          "model_name": "HBoxModel",
          "model_module_version": "1.5.0",
          "state": {
            "_dom_classes": [],
            "_model_module": "@jupyter-widgets/controls",
            "_model_module_version": "1.5.0",
            "_model_name": "HBoxModel",
            "_view_count": null,
            "_view_module": "@jupyter-widgets/controls",
            "_view_module_version": "1.5.0",
            "_view_name": "HBoxView",
            "box_style": "",
            "children": [
              "IPY_MODEL_27cb08a480d04da4967386a3dae3946f",
              "IPY_MODEL_1cd440b4d0af40b79b84777d59f9bd61",
              "IPY_MODEL_d1e251d5484549cc856bc5608775e9ae"
            ],
            "layout": "IPY_MODEL_ded2497d423a4380ba914c7377b73fcd"
          }
        },
        "27cb08a480d04da4967386a3dae3946f": {
          "model_module": "@jupyter-widgets/controls",
          "model_name": "HTMLModel",
          "model_module_version": "1.5.0",
          "state": {
            "_dom_classes": [],
            "_model_module": "@jupyter-widgets/controls",
            "_model_module_version": "1.5.0",
            "_model_name": "HTMLModel",
            "_view_count": null,
            "_view_module": "@jupyter-widgets/controls",
            "_view_module_version": "1.5.0",
            "_view_name": "HTMLView",
            "description": "",
            "description_tooltip": null,
            "layout": "IPY_MODEL_2d3502c89b0b499385332fd164220d15",
            "placeholder": "​",
            "style": "IPY_MODEL_d5e475a539884b0497112971e7cf8b20",
            "value": "Downloading (…)solve/main/vocab.txt: 100%"
          }
        },
        "1cd440b4d0af40b79b84777d59f9bd61": {
          "model_module": "@jupyter-widgets/controls",
          "model_name": "FloatProgressModel",
          "model_module_version": "1.5.0",
          "state": {
            "_dom_classes": [],
            "_model_module": "@jupyter-widgets/controls",
            "_model_module_version": "1.5.0",
            "_model_name": "FloatProgressModel",
            "_view_count": null,
            "_view_module": "@jupyter-widgets/controls",
            "_view_module_version": "1.5.0",
            "_view_name": "ProgressView",
            "bar_style": "success",
            "description": "",
            "description_tooltip": null,
            "layout": "IPY_MODEL_03687b2429884e2cad8ce460a1d7da41",
            "max": 213450,
            "min": 0,
            "orientation": "horizontal",
            "style": "IPY_MODEL_9442bbdc7d3947768e59557e4877c3f8",
            "value": 213450
          }
        },
        "d1e251d5484549cc856bc5608775e9ae": {
          "model_module": "@jupyter-widgets/controls",
          "model_name": "HTMLModel",
          "model_module_version": "1.5.0",
          "state": {
            "_dom_classes": [],
            "_model_module": "@jupyter-widgets/controls",
            "_model_module_version": "1.5.0",
            "_model_name": "HTMLModel",
            "_view_count": null,
            "_view_module": "@jupyter-widgets/controls",
            "_view_module_version": "1.5.0",
            "_view_name": "HTMLView",
            "description": "",
            "description_tooltip": null,
            "layout": "IPY_MODEL_e3b65d564677454e92bdd37f0b5a6151",
            "placeholder": "​",
            "style": "IPY_MODEL_c6001bf7f40a494c96abcf3f835c62ab",
            "value": " 213k/213k [00:00&lt;00:00, 7.48MB/s]"
          }
        },
        "ded2497d423a4380ba914c7377b73fcd": {
          "model_module": "@jupyter-widgets/base",
          "model_name": "LayoutModel",
          "model_module_version": "1.2.0",
          "state": {
            "_model_module": "@jupyter-widgets/base",
            "_model_module_version": "1.2.0",
            "_model_name": "LayoutModel",
            "_view_count": null,
            "_view_module": "@jupyter-widgets/base",
            "_view_module_version": "1.2.0",
            "_view_name": "LayoutView",
            "align_content": null,
            "align_items": null,
            "align_self": null,
            "border": null,
            "bottom": null,
            "display": null,
            "flex": null,
            "flex_flow": null,
            "grid_area": null,
            "grid_auto_columns": null,
            "grid_auto_flow": null,
            "grid_auto_rows": null,
            "grid_column": null,
            "grid_gap": null,
            "grid_row": null,
            "grid_template_areas": null,
            "grid_template_columns": null,
            "grid_template_rows": null,
            "height": null,
            "justify_content": null,
            "justify_items": null,
            "left": null,
            "margin": null,
            "max_height": null,
            "max_width": null,
            "min_height": null,
            "min_width": null,
            "object_fit": null,
            "object_position": null,
            "order": null,
            "overflow": null,
            "overflow_x": null,
            "overflow_y": null,
            "padding": null,
            "right": null,
            "top": null,
            "visibility": null,
            "width": null
          }
        },
        "2d3502c89b0b499385332fd164220d15": {
          "model_module": "@jupyter-widgets/base",
          "model_name": "LayoutModel",
          "model_module_version": "1.2.0",
          "state": {
            "_model_module": "@jupyter-widgets/base",
            "_model_module_version": "1.2.0",
            "_model_name": "LayoutModel",
            "_view_count": null,
            "_view_module": "@jupyter-widgets/base",
            "_view_module_version": "1.2.0",
            "_view_name": "LayoutView",
            "align_content": null,
            "align_items": null,
            "align_self": null,
            "border": null,
            "bottom": null,
            "display": null,
            "flex": null,
            "flex_flow": null,
            "grid_area": null,
            "grid_auto_columns": null,
            "grid_auto_flow": null,
            "grid_auto_rows": null,
            "grid_column": null,
            "grid_gap": null,
            "grid_row": null,
            "grid_template_areas": null,
            "grid_template_columns": null,
            "grid_template_rows": null,
            "height": null,
            "justify_content": null,
            "justify_items": null,
            "left": null,
            "margin": null,
            "max_height": null,
            "max_width": null,
            "min_height": null,
            "min_width": null,
            "object_fit": null,
            "object_position": null,
            "order": null,
            "overflow": null,
            "overflow_x": null,
            "overflow_y": null,
            "padding": null,
            "right": null,
            "top": null,
            "visibility": null,
            "width": null
          }
        },
        "d5e475a539884b0497112971e7cf8b20": {
          "model_module": "@jupyter-widgets/controls",
          "model_name": "DescriptionStyleModel",
          "model_module_version": "1.5.0",
          "state": {
            "_model_module": "@jupyter-widgets/controls",
            "_model_module_version": "1.5.0",
            "_model_name": "DescriptionStyleModel",
            "_view_count": null,
            "_view_module": "@jupyter-widgets/base",
            "_view_module_version": "1.2.0",
            "_view_name": "StyleView",
            "description_width": ""
          }
        },
        "03687b2429884e2cad8ce460a1d7da41": {
          "model_module": "@jupyter-widgets/base",
          "model_name": "LayoutModel",
          "model_module_version": "1.2.0",
          "state": {
            "_model_module": "@jupyter-widgets/base",
            "_model_module_version": "1.2.0",
            "_model_name": "LayoutModel",
            "_view_count": null,
            "_view_module": "@jupyter-widgets/base",
            "_view_module_version": "1.2.0",
            "_view_name": "LayoutView",
            "align_content": null,
            "align_items": null,
            "align_self": null,
            "border": null,
            "bottom": null,
            "display": null,
            "flex": null,
            "flex_flow": null,
            "grid_area": null,
            "grid_auto_columns": null,
            "grid_auto_flow": null,
            "grid_auto_rows": null,
            "grid_column": null,
            "grid_gap": null,
            "grid_row": null,
            "grid_template_areas": null,
            "grid_template_columns": null,
            "grid_template_rows": null,
            "height": null,
            "justify_content": null,
            "justify_items": null,
            "left": null,
            "margin": null,
            "max_height": null,
            "max_width": null,
            "min_height": null,
            "min_width": null,
            "object_fit": null,
            "object_position": null,
            "order": null,
            "overflow": null,
            "overflow_x": null,
            "overflow_y": null,
            "padding": null,
            "right": null,
            "top": null,
            "visibility": null,
            "width": null
          }
        },
        "9442bbdc7d3947768e59557e4877c3f8": {
          "model_module": "@jupyter-widgets/controls",
          "model_name": "ProgressStyleModel",
          "model_module_version": "1.5.0",
          "state": {
            "_model_module": "@jupyter-widgets/controls",
            "_model_module_version": "1.5.0",
            "_model_name": "ProgressStyleModel",
            "_view_count": null,
            "_view_module": "@jupyter-widgets/base",
            "_view_module_version": "1.2.0",
            "_view_name": "StyleView",
            "bar_color": null,
            "description_width": ""
          }
        },
        "e3b65d564677454e92bdd37f0b5a6151": {
          "model_module": "@jupyter-widgets/base",
          "model_name": "LayoutModel",
          "model_module_version": "1.2.0",
          "state": {
            "_model_module": "@jupyter-widgets/base",
            "_model_module_version": "1.2.0",
            "_model_name": "LayoutModel",
            "_view_count": null,
            "_view_module": "@jupyter-widgets/base",
            "_view_module_version": "1.2.0",
            "_view_name": "LayoutView",
            "align_content": null,
            "align_items": null,
            "align_self": null,
            "border": null,
            "bottom": null,
            "display": null,
            "flex": null,
            "flex_flow": null,
            "grid_area": null,
            "grid_auto_columns": null,
            "grid_auto_flow": null,
            "grid_auto_rows": null,
            "grid_column": null,
            "grid_gap": null,
            "grid_row": null,
            "grid_template_areas": null,
            "grid_template_columns": null,
            "grid_template_rows": null,
            "height": null,
            "justify_content": null,
            "justify_items": null,
            "left": null,
            "margin": null,
            "max_height": null,
            "max_width": null,
            "min_height": null,
            "min_width": null,
            "object_fit": null,
            "object_position": null,
            "order": null,
            "overflow": null,
            "overflow_x": null,
            "overflow_y": null,
            "padding": null,
            "right": null,
            "top": null,
            "visibility": null,
            "width": null
          }
        },
        "c6001bf7f40a494c96abcf3f835c62ab": {
          "model_module": "@jupyter-widgets/controls",
          "model_name": "DescriptionStyleModel",
          "model_module_version": "1.5.0",
          "state": {
            "_model_module": "@jupyter-widgets/controls",
            "_model_module_version": "1.5.0",
            "_model_name": "DescriptionStyleModel",
            "_view_count": null,
            "_view_module": "@jupyter-widgets/base",
            "_view_module_version": "1.2.0",
            "_view_name": "StyleView",
            "description_width": ""
          }
        },
        "99ceb8c5a3d7473fb97c82671f8d3209": {
          "model_module": "@jupyter-widgets/controls",
          "model_name": "HBoxModel",
          "model_module_version": "1.5.0",
          "state": {
            "_dom_classes": [],
            "_model_module": "@jupyter-widgets/controls",
            "_model_module_version": "1.5.0",
            "_model_name": "HBoxModel",
            "_view_count": null,
            "_view_module": "@jupyter-widgets/controls",
            "_view_module_version": "1.5.0",
            "_view_name": "HBoxView",
            "box_style": "",
            "children": [
              "IPY_MODEL_19e97d1a23f34b4c895a925f25d0ceb4",
              "IPY_MODEL_b3a58eb6133749b29d5b662084a811b2",
              "IPY_MODEL_2546ace89d3d40bb843dccd901e69b0e"
            ],
            "layout": "IPY_MODEL_6fe7d840b2a2442084687bf5cd2319ca"
          }
        },
        "19e97d1a23f34b4c895a925f25d0ceb4": {
          "model_module": "@jupyter-widgets/controls",
          "model_name": "HTMLModel",
          "model_module_version": "1.5.0",
          "state": {
            "_dom_classes": [],
            "_model_module": "@jupyter-widgets/controls",
            "_model_module_version": "1.5.0",
            "_model_name": "HTMLModel",
            "_view_count": null,
            "_view_module": "@jupyter-widgets/controls",
            "_view_module_version": "1.5.0",
            "_view_name": "HTMLView",
            "description": "",
            "description_tooltip": null,
            "layout": "IPY_MODEL_003a35d0e41843a6bfb5f1fb4389b06b",
            "placeholder": "​",
            "style": "IPY_MODEL_0e6272a82dc94541b4e621794c66a34e",
            "value": "Downloading (…)okenizer_config.json: 100%"
          }
        },
        "b3a58eb6133749b29d5b662084a811b2": {
          "model_module": "@jupyter-widgets/controls",
          "model_name": "FloatProgressModel",
          "model_module_version": "1.5.0",
          "state": {
            "_dom_classes": [],
            "_model_module": "@jupyter-widgets/controls",
            "_model_module_version": "1.5.0",
            "_model_name": "FloatProgressModel",
            "_view_count": null,
            "_view_module": "@jupyter-widgets/controls",
            "_view_module_version": "1.5.0",
            "_view_name": "ProgressView",
            "bar_style": "success",
            "description": "",
            "description_tooltip": null,
            "layout": "IPY_MODEL_cb42aae3cdfe47858f2072d72742e215",
            "max": 29,
            "min": 0,
            "orientation": "horizontal",
            "style": "IPY_MODEL_6f274f2c8eb24b3e8663b2fe9fdf8355",
            "value": 29
          }
        },
        "2546ace89d3d40bb843dccd901e69b0e": {
          "model_module": "@jupyter-widgets/controls",
          "model_name": "HTMLModel",
          "model_module_version": "1.5.0",
          "state": {
            "_dom_classes": [],
            "_model_module": "@jupyter-widgets/controls",
            "_model_module_version": "1.5.0",
            "_model_name": "HTMLModel",
            "_view_count": null,
            "_view_module": "@jupyter-widgets/controls",
            "_view_module_version": "1.5.0",
            "_view_name": "HTMLView",
            "description": "",
            "description_tooltip": null,
            "layout": "IPY_MODEL_1f104281b82f48cf89b0758abb36c491",
            "placeholder": "​",
            "style": "IPY_MODEL_dbccc9ffd447410d92f1df44cd517c26",
            "value": " 29.0/29.0 [00:00&lt;00:00, 1.37kB/s]"
          }
        },
        "6fe7d840b2a2442084687bf5cd2319ca": {
          "model_module": "@jupyter-widgets/base",
          "model_name": "LayoutModel",
          "model_module_version": "1.2.0",
          "state": {
            "_model_module": "@jupyter-widgets/base",
            "_model_module_version": "1.2.0",
            "_model_name": "LayoutModel",
            "_view_count": null,
            "_view_module": "@jupyter-widgets/base",
            "_view_module_version": "1.2.0",
            "_view_name": "LayoutView",
            "align_content": null,
            "align_items": null,
            "align_self": null,
            "border": null,
            "bottom": null,
            "display": null,
            "flex": null,
            "flex_flow": null,
            "grid_area": null,
            "grid_auto_columns": null,
            "grid_auto_flow": null,
            "grid_auto_rows": null,
            "grid_column": null,
            "grid_gap": null,
            "grid_row": null,
            "grid_template_areas": null,
            "grid_template_columns": null,
            "grid_template_rows": null,
            "height": null,
            "justify_content": null,
            "justify_items": null,
            "left": null,
            "margin": null,
            "max_height": null,
            "max_width": null,
            "min_height": null,
            "min_width": null,
            "object_fit": null,
            "object_position": null,
            "order": null,
            "overflow": null,
            "overflow_x": null,
            "overflow_y": null,
            "padding": null,
            "right": null,
            "top": null,
            "visibility": null,
            "width": null
          }
        },
        "003a35d0e41843a6bfb5f1fb4389b06b": {
          "model_module": "@jupyter-widgets/base",
          "model_name": "LayoutModel",
          "model_module_version": "1.2.0",
          "state": {
            "_model_module": "@jupyter-widgets/base",
            "_model_module_version": "1.2.0",
            "_model_name": "LayoutModel",
            "_view_count": null,
            "_view_module": "@jupyter-widgets/base",
            "_view_module_version": "1.2.0",
            "_view_name": "LayoutView",
            "align_content": null,
            "align_items": null,
            "align_self": null,
            "border": null,
            "bottom": null,
            "display": null,
            "flex": null,
            "flex_flow": null,
            "grid_area": null,
            "grid_auto_columns": null,
            "grid_auto_flow": null,
            "grid_auto_rows": null,
            "grid_column": null,
            "grid_gap": null,
            "grid_row": null,
            "grid_template_areas": null,
            "grid_template_columns": null,
            "grid_template_rows": null,
            "height": null,
            "justify_content": null,
            "justify_items": null,
            "left": null,
            "margin": null,
            "max_height": null,
            "max_width": null,
            "min_height": null,
            "min_width": null,
            "object_fit": null,
            "object_position": null,
            "order": null,
            "overflow": null,
            "overflow_x": null,
            "overflow_y": null,
            "padding": null,
            "right": null,
            "top": null,
            "visibility": null,
            "width": null
          }
        },
        "0e6272a82dc94541b4e621794c66a34e": {
          "model_module": "@jupyter-widgets/controls",
          "model_name": "DescriptionStyleModel",
          "model_module_version": "1.5.0",
          "state": {
            "_model_module": "@jupyter-widgets/controls",
            "_model_module_version": "1.5.0",
            "_model_name": "DescriptionStyleModel",
            "_view_count": null,
            "_view_module": "@jupyter-widgets/base",
            "_view_module_version": "1.2.0",
            "_view_name": "StyleView",
            "description_width": ""
          }
        },
        "cb42aae3cdfe47858f2072d72742e215": {
          "model_module": "@jupyter-widgets/base",
          "model_name": "LayoutModel",
          "model_module_version": "1.2.0",
          "state": {
            "_model_module": "@jupyter-widgets/base",
            "_model_module_version": "1.2.0",
            "_model_name": "LayoutModel",
            "_view_count": null,
            "_view_module": "@jupyter-widgets/base",
            "_view_module_version": "1.2.0",
            "_view_name": "LayoutView",
            "align_content": null,
            "align_items": null,
            "align_self": null,
            "border": null,
            "bottom": null,
            "display": null,
            "flex": null,
            "flex_flow": null,
            "grid_area": null,
            "grid_auto_columns": null,
            "grid_auto_flow": null,
            "grid_auto_rows": null,
            "grid_column": null,
            "grid_gap": null,
            "grid_row": null,
            "grid_template_areas": null,
            "grid_template_columns": null,
            "grid_template_rows": null,
            "height": null,
            "justify_content": null,
            "justify_items": null,
            "left": null,
            "margin": null,
            "max_height": null,
            "max_width": null,
            "min_height": null,
            "min_width": null,
            "object_fit": null,
            "object_position": null,
            "order": null,
            "overflow": null,
            "overflow_x": null,
            "overflow_y": null,
            "padding": null,
            "right": null,
            "top": null,
            "visibility": null,
            "width": null
          }
        },
        "6f274f2c8eb24b3e8663b2fe9fdf8355": {
          "model_module": "@jupyter-widgets/controls",
          "model_name": "ProgressStyleModel",
          "model_module_version": "1.5.0",
          "state": {
            "_model_module": "@jupyter-widgets/controls",
            "_model_module_version": "1.5.0",
            "_model_name": "ProgressStyleModel",
            "_view_count": null,
            "_view_module": "@jupyter-widgets/base",
            "_view_module_version": "1.2.0",
            "_view_name": "StyleView",
            "bar_color": null,
            "description_width": ""
          }
        },
        "1f104281b82f48cf89b0758abb36c491": {
          "model_module": "@jupyter-widgets/base",
          "model_name": "LayoutModel",
          "model_module_version": "1.2.0",
          "state": {
            "_model_module": "@jupyter-widgets/base",
            "_model_module_version": "1.2.0",
            "_model_name": "LayoutModel",
            "_view_count": null,
            "_view_module": "@jupyter-widgets/base",
            "_view_module_version": "1.2.0",
            "_view_name": "LayoutView",
            "align_content": null,
            "align_items": null,
            "align_self": null,
            "border": null,
            "bottom": null,
            "display": null,
            "flex": null,
            "flex_flow": null,
            "grid_area": null,
            "grid_auto_columns": null,
            "grid_auto_flow": null,
            "grid_auto_rows": null,
            "grid_column": null,
            "grid_gap": null,
            "grid_row": null,
            "grid_template_areas": null,
            "grid_template_columns": null,
            "grid_template_rows": null,
            "height": null,
            "justify_content": null,
            "justify_items": null,
            "left": null,
            "margin": null,
            "max_height": null,
            "max_width": null,
            "min_height": null,
            "min_width": null,
            "object_fit": null,
            "object_position": null,
            "order": null,
            "overflow": null,
            "overflow_x": null,
            "overflow_y": null,
            "padding": null,
            "right": null,
            "top": null,
            "visibility": null,
            "width": null
          }
        },
        "dbccc9ffd447410d92f1df44cd517c26": {
          "model_module": "@jupyter-widgets/controls",
          "model_name": "DescriptionStyleModel",
          "model_module_version": "1.5.0",
          "state": {
            "_model_module": "@jupyter-widgets/controls",
            "_model_module_version": "1.5.0",
            "_model_name": "DescriptionStyleModel",
            "_view_count": null,
            "_view_module": "@jupyter-widgets/base",
            "_view_module_version": "1.2.0",
            "_view_name": "StyleView",
            "description_width": ""
          }
        },
        "27a6841bd0ef43399b1dd162a79ce7e5": {
          "model_module": "@jupyter-widgets/controls",
          "model_name": "HBoxModel",
          "model_module_version": "1.5.0",
          "state": {
            "_dom_classes": [],
            "_model_module": "@jupyter-widgets/controls",
            "_model_module_version": "1.5.0",
            "_model_name": "HBoxModel",
            "_view_count": null,
            "_view_module": "@jupyter-widgets/controls",
            "_view_module_version": "1.5.0",
            "_view_name": "HBoxView",
            "box_style": "",
            "children": [
              "IPY_MODEL_369895a4fca94740a09c24c4ec025414",
              "IPY_MODEL_41a3382c5a9440dfb7df35dea9c71e4d",
              "IPY_MODEL_e42792c854764b2f8ea076489d9c3191"
            ],
            "layout": "IPY_MODEL_287987a9eb7d4af991f2843b3cd40ec5"
          }
        },
        "369895a4fca94740a09c24c4ec025414": {
          "model_module": "@jupyter-widgets/controls",
          "model_name": "HTMLModel",
          "model_module_version": "1.5.0",
          "state": {
            "_dom_classes": [],
            "_model_module": "@jupyter-widgets/controls",
            "_model_module_version": "1.5.0",
            "_model_name": "HTMLModel",
            "_view_count": null,
            "_view_module": "@jupyter-widgets/controls",
            "_view_module_version": "1.5.0",
            "_view_name": "HTMLView",
            "description": "",
            "description_tooltip": null,
            "layout": "IPY_MODEL_ce9138f7d56343a987a3aecf439423c5",
            "placeholder": "​",
            "style": "IPY_MODEL_2f5dd8390f1148d29dd188d979479816",
            "value": "Downloading (…)lve/main/config.json: 100%"
          }
        },
        "41a3382c5a9440dfb7df35dea9c71e4d": {
          "model_module": "@jupyter-widgets/controls",
          "model_name": "FloatProgressModel",
          "model_module_version": "1.5.0",
          "state": {
            "_dom_classes": [],
            "_model_module": "@jupyter-widgets/controls",
            "_model_module_version": "1.5.0",
            "_model_name": "FloatProgressModel",
            "_view_count": null,
            "_view_module": "@jupyter-widgets/controls",
            "_view_module_version": "1.5.0",
            "_view_name": "ProgressView",
            "bar_style": "success",
            "description": "",
            "description_tooltip": null,
            "layout": "IPY_MODEL_136821227aa34be3b73e8767444b0373",
            "max": 570,
            "min": 0,
            "orientation": "horizontal",
            "style": "IPY_MODEL_28c4b590fb20444185dd63498e7d0d0e",
            "value": 570
          }
        },
        "e42792c854764b2f8ea076489d9c3191": {
          "model_module": "@jupyter-widgets/controls",
          "model_name": "HTMLModel",
          "model_module_version": "1.5.0",
          "state": {
            "_dom_classes": [],
            "_model_module": "@jupyter-widgets/controls",
            "_model_module_version": "1.5.0",
            "_model_name": "HTMLModel",
            "_view_count": null,
            "_view_module": "@jupyter-widgets/controls",
            "_view_module_version": "1.5.0",
            "_view_name": "HTMLView",
            "description": "",
            "description_tooltip": null,
            "layout": "IPY_MODEL_778388b884834233a1e9fa03b6cb3da2",
            "placeholder": "​",
            "style": "IPY_MODEL_4da12502e4a046abb177c9c36957732d",
            "value": " 570/570 [00:00&lt;00:00, 25.3kB/s]"
          }
        },
        "287987a9eb7d4af991f2843b3cd40ec5": {
          "model_module": "@jupyter-widgets/base",
          "model_name": "LayoutModel",
          "model_module_version": "1.2.0",
          "state": {
            "_model_module": "@jupyter-widgets/base",
            "_model_module_version": "1.2.0",
            "_model_name": "LayoutModel",
            "_view_count": null,
            "_view_module": "@jupyter-widgets/base",
            "_view_module_version": "1.2.0",
            "_view_name": "LayoutView",
            "align_content": null,
            "align_items": null,
            "align_self": null,
            "border": null,
            "bottom": null,
            "display": null,
            "flex": null,
            "flex_flow": null,
            "grid_area": null,
            "grid_auto_columns": null,
            "grid_auto_flow": null,
            "grid_auto_rows": null,
            "grid_column": null,
            "grid_gap": null,
            "grid_row": null,
            "grid_template_areas": null,
            "grid_template_columns": null,
            "grid_template_rows": null,
            "height": null,
            "justify_content": null,
            "justify_items": null,
            "left": null,
            "margin": null,
            "max_height": null,
            "max_width": null,
            "min_height": null,
            "min_width": null,
            "object_fit": null,
            "object_position": null,
            "order": null,
            "overflow": null,
            "overflow_x": null,
            "overflow_y": null,
            "padding": null,
            "right": null,
            "top": null,
            "visibility": null,
            "width": null
          }
        },
        "ce9138f7d56343a987a3aecf439423c5": {
          "model_module": "@jupyter-widgets/base",
          "model_name": "LayoutModel",
          "model_module_version": "1.2.0",
          "state": {
            "_model_module": "@jupyter-widgets/base",
            "_model_module_version": "1.2.0",
            "_model_name": "LayoutModel",
            "_view_count": null,
            "_view_module": "@jupyter-widgets/base",
            "_view_module_version": "1.2.0",
            "_view_name": "LayoutView",
            "align_content": null,
            "align_items": null,
            "align_self": null,
            "border": null,
            "bottom": null,
            "display": null,
            "flex": null,
            "flex_flow": null,
            "grid_area": null,
            "grid_auto_columns": null,
            "grid_auto_flow": null,
            "grid_auto_rows": null,
            "grid_column": null,
            "grid_gap": null,
            "grid_row": null,
            "grid_template_areas": null,
            "grid_template_columns": null,
            "grid_template_rows": null,
            "height": null,
            "justify_content": null,
            "justify_items": null,
            "left": null,
            "margin": null,
            "max_height": null,
            "max_width": null,
            "min_height": null,
            "min_width": null,
            "object_fit": null,
            "object_position": null,
            "order": null,
            "overflow": null,
            "overflow_x": null,
            "overflow_y": null,
            "padding": null,
            "right": null,
            "top": null,
            "visibility": null,
            "width": null
          }
        },
        "2f5dd8390f1148d29dd188d979479816": {
          "model_module": "@jupyter-widgets/controls",
          "model_name": "DescriptionStyleModel",
          "model_module_version": "1.5.0",
          "state": {
            "_model_module": "@jupyter-widgets/controls",
            "_model_module_version": "1.5.0",
            "_model_name": "DescriptionStyleModel",
            "_view_count": null,
            "_view_module": "@jupyter-widgets/base",
            "_view_module_version": "1.2.0",
            "_view_name": "StyleView",
            "description_width": ""
          }
        },
        "136821227aa34be3b73e8767444b0373": {
          "model_module": "@jupyter-widgets/base",
          "model_name": "LayoutModel",
          "model_module_version": "1.2.0",
          "state": {
            "_model_module": "@jupyter-widgets/base",
            "_model_module_version": "1.2.0",
            "_model_name": "LayoutModel",
            "_view_count": null,
            "_view_module": "@jupyter-widgets/base",
            "_view_module_version": "1.2.0",
            "_view_name": "LayoutView",
            "align_content": null,
            "align_items": null,
            "align_self": null,
            "border": null,
            "bottom": null,
            "display": null,
            "flex": null,
            "flex_flow": null,
            "grid_area": null,
            "grid_auto_columns": null,
            "grid_auto_flow": null,
            "grid_auto_rows": null,
            "grid_column": null,
            "grid_gap": null,
            "grid_row": null,
            "grid_template_areas": null,
            "grid_template_columns": null,
            "grid_template_rows": null,
            "height": null,
            "justify_content": null,
            "justify_items": null,
            "left": null,
            "margin": null,
            "max_height": null,
            "max_width": null,
            "min_height": null,
            "min_width": null,
            "object_fit": null,
            "object_position": null,
            "order": null,
            "overflow": null,
            "overflow_x": null,
            "overflow_y": null,
            "padding": null,
            "right": null,
            "top": null,
            "visibility": null,
            "width": null
          }
        },
        "28c4b590fb20444185dd63498e7d0d0e": {
          "model_module": "@jupyter-widgets/controls",
          "model_name": "ProgressStyleModel",
          "model_module_version": "1.5.0",
          "state": {
            "_model_module": "@jupyter-widgets/controls",
            "_model_module_version": "1.5.0",
            "_model_name": "ProgressStyleModel",
            "_view_count": null,
            "_view_module": "@jupyter-widgets/base",
            "_view_module_version": "1.2.0",
            "_view_name": "StyleView",
            "bar_color": null,
            "description_width": ""
          }
        },
        "778388b884834233a1e9fa03b6cb3da2": {
          "model_module": "@jupyter-widgets/base",
          "model_name": "LayoutModel",
          "model_module_version": "1.2.0",
          "state": {
            "_model_module": "@jupyter-widgets/base",
            "_model_module_version": "1.2.0",
            "_model_name": "LayoutModel",
            "_view_count": null,
            "_view_module": "@jupyter-widgets/base",
            "_view_module_version": "1.2.0",
            "_view_name": "LayoutView",
            "align_content": null,
            "align_items": null,
            "align_self": null,
            "border": null,
            "bottom": null,
            "display": null,
            "flex": null,
            "flex_flow": null,
            "grid_area": null,
            "grid_auto_columns": null,
            "grid_auto_flow": null,
            "grid_auto_rows": null,
            "grid_column": null,
            "grid_gap": null,
            "grid_row": null,
            "grid_template_areas": null,
            "grid_template_columns": null,
            "grid_template_rows": null,
            "height": null,
            "justify_content": null,
            "justify_items": null,
            "left": null,
            "margin": null,
            "max_height": null,
            "max_width": null,
            "min_height": null,
            "min_width": null,
            "object_fit": null,
            "object_position": null,
            "order": null,
            "overflow": null,
            "overflow_x": null,
            "overflow_y": null,
            "padding": null,
            "right": null,
            "top": null,
            "visibility": null,
            "width": null
          }
        },
        "4da12502e4a046abb177c9c36957732d": {
          "model_module": "@jupyter-widgets/controls",
          "model_name": "DescriptionStyleModel",
          "model_module_version": "1.5.0",
          "state": {
            "_model_module": "@jupyter-widgets/controls",
            "_model_module_version": "1.5.0",
            "_model_name": "DescriptionStyleModel",
            "_view_count": null,
            "_view_module": "@jupyter-widgets/base",
            "_view_module_version": "1.2.0",
            "_view_name": "StyleView",
            "description_width": ""
          }
        },
        "006f4508dd4743c1b8449a3d27571c12": {
          "model_module": "@jupyter-widgets/controls",
          "model_name": "HBoxModel",
          "model_module_version": "1.5.0",
          "state": {
            "_dom_classes": [],
            "_model_module": "@jupyter-widgets/controls",
            "_model_module_version": "1.5.0",
            "_model_name": "HBoxModel",
            "_view_count": null,
            "_view_module": "@jupyter-widgets/controls",
            "_view_module_version": "1.5.0",
            "_view_name": "HBoxView",
            "box_style": "",
            "children": [
              "IPY_MODEL_7e52eb9887b048d999f40f6acfd6066c",
              "IPY_MODEL_e115563320e04bf7973b429d670621e8",
              "IPY_MODEL_c90d75f6729744d0b4d10bdf62b86be7"
            ],
            "layout": "IPY_MODEL_1be8ca66b46e4b6c9c3465bbde972225"
          }
        },
        "7e52eb9887b048d999f40f6acfd6066c": {
          "model_module": "@jupyter-widgets/controls",
          "model_name": "HTMLModel",
          "model_module_version": "1.5.0",
          "state": {
            "_dom_classes": [],
            "_model_module": "@jupyter-widgets/controls",
            "_model_module_version": "1.5.0",
            "_model_name": "HTMLModel",
            "_view_count": null,
            "_view_module": "@jupyter-widgets/controls",
            "_view_module_version": "1.5.0",
            "_view_name": "HTMLView",
            "description": "",
            "description_tooltip": null,
            "layout": "IPY_MODEL_050274001003423390a03feaac3d8752",
            "placeholder": "​",
            "style": "IPY_MODEL_b0f2a8f8f9754bd880b81889015e9dd7",
            "value": ""
          }
        },
        "e115563320e04bf7973b429d670621e8": {
          "model_module": "@jupyter-widgets/controls",
          "model_name": "FloatProgressModel",
          "model_module_version": "1.5.0",
          "state": {
            "_dom_classes": [],
            "_model_module": "@jupyter-widgets/controls",
            "_model_module_version": "1.5.0",
            "_model_name": "FloatProgressModel",
            "_view_count": null,
            "_view_module": "@jupyter-widgets/controls",
            "_view_module_version": "1.5.0",
            "_view_name": "ProgressView",
            "bar_style": "success",
            "description": "",
            "description_tooltip": null,
            "layout": "IPY_MODEL_e0086837321a44a88327b3d01dedc374",
            "max": 1,
            "min": 0,
            "orientation": "horizontal",
            "style": "IPY_MODEL_c6c5aa0698944138ada25523ff702c46",
            "value": 1
          }
        },
        "c90d75f6729744d0b4d10bdf62b86be7": {
          "model_module": "@jupyter-widgets/controls",
          "model_name": "HTMLModel",
          "model_module_version": "1.5.0",
          "state": {
            "_dom_classes": [],
            "_model_module": "@jupyter-widgets/controls",
            "_model_module_version": "1.5.0",
            "_model_name": "HTMLModel",
            "_view_count": null,
            "_view_module": "@jupyter-widgets/controls",
            "_view_module_version": "1.5.0",
            "_view_name": "HTMLView",
            "description": "",
            "description_tooltip": null,
            "layout": "IPY_MODEL_7bb8e340211c4f76a02922f8714a328e",
            "placeholder": "​",
            "style": "IPY_MODEL_c9392a8927c84650b5d49d761972884a",
            "value": " 2625/? [00:20&lt;00:00, 150.31it/s]"
          }
        },
        "1be8ca66b46e4b6c9c3465bbde972225": {
          "model_module": "@jupyter-widgets/base",
          "model_name": "LayoutModel",
          "model_module_version": "1.2.0",
          "state": {
            "_model_module": "@jupyter-widgets/base",
            "_model_module_version": "1.2.0",
            "_model_name": "LayoutModel",
            "_view_count": null,
            "_view_module": "@jupyter-widgets/base",
            "_view_module_version": "1.2.0",
            "_view_name": "LayoutView",
            "align_content": null,
            "align_items": null,
            "align_self": null,
            "border": null,
            "bottom": null,
            "display": null,
            "flex": null,
            "flex_flow": null,
            "grid_area": null,
            "grid_auto_columns": null,
            "grid_auto_flow": null,
            "grid_auto_rows": null,
            "grid_column": null,
            "grid_gap": null,
            "grid_row": null,
            "grid_template_areas": null,
            "grid_template_columns": null,
            "grid_template_rows": null,
            "height": null,
            "justify_content": null,
            "justify_items": null,
            "left": null,
            "margin": null,
            "max_height": null,
            "max_width": null,
            "min_height": null,
            "min_width": null,
            "object_fit": null,
            "object_position": null,
            "order": null,
            "overflow": null,
            "overflow_x": null,
            "overflow_y": null,
            "padding": null,
            "right": null,
            "top": null,
            "visibility": null,
            "width": null
          }
        },
        "050274001003423390a03feaac3d8752": {
          "model_module": "@jupyter-widgets/base",
          "model_name": "LayoutModel",
          "model_module_version": "1.2.0",
          "state": {
            "_model_module": "@jupyter-widgets/base",
            "_model_module_version": "1.2.0",
            "_model_name": "LayoutModel",
            "_view_count": null,
            "_view_module": "@jupyter-widgets/base",
            "_view_module_version": "1.2.0",
            "_view_name": "LayoutView",
            "align_content": null,
            "align_items": null,
            "align_self": null,
            "border": null,
            "bottom": null,
            "display": null,
            "flex": null,
            "flex_flow": null,
            "grid_area": null,
            "grid_auto_columns": null,
            "grid_auto_flow": null,
            "grid_auto_rows": null,
            "grid_column": null,
            "grid_gap": null,
            "grid_row": null,
            "grid_template_areas": null,
            "grid_template_columns": null,
            "grid_template_rows": null,
            "height": null,
            "justify_content": null,
            "justify_items": null,
            "left": null,
            "margin": null,
            "max_height": null,
            "max_width": null,
            "min_height": null,
            "min_width": null,
            "object_fit": null,
            "object_position": null,
            "order": null,
            "overflow": null,
            "overflow_x": null,
            "overflow_y": null,
            "padding": null,
            "right": null,
            "top": null,
            "visibility": null,
            "width": null
          }
        },
        "b0f2a8f8f9754bd880b81889015e9dd7": {
          "model_module": "@jupyter-widgets/controls",
          "model_name": "DescriptionStyleModel",
          "model_module_version": "1.5.0",
          "state": {
            "_model_module": "@jupyter-widgets/controls",
            "_model_module_version": "1.5.0",
            "_model_name": "DescriptionStyleModel",
            "_view_count": null,
            "_view_module": "@jupyter-widgets/base",
            "_view_module_version": "1.2.0",
            "_view_name": "StyleView",
            "description_width": ""
          }
        },
        "e0086837321a44a88327b3d01dedc374": {
          "model_module": "@jupyter-widgets/base",
          "model_name": "LayoutModel",
          "model_module_version": "1.2.0",
          "state": {
            "_model_module": "@jupyter-widgets/base",
            "_model_module_version": "1.2.0",
            "_model_name": "LayoutModel",
            "_view_count": null,
            "_view_module": "@jupyter-widgets/base",
            "_view_module_version": "1.2.0",
            "_view_name": "LayoutView",
            "align_content": null,
            "align_items": null,
            "align_self": null,
            "border": null,
            "bottom": null,
            "display": null,
            "flex": null,
            "flex_flow": null,
            "grid_area": null,
            "grid_auto_columns": null,
            "grid_auto_flow": null,
            "grid_auto_rows": null,
            "grid_column": null,
            "grid_gap": null,
            "grid_row": null,
            "grid_template_areas": null,
            "grid_template_columns": null,
            "grid_template_rows": null,
            "height": null,
            "justify_content": null,
            "justify_items": null,
            "left": null,
            "margin": null,
            "max_height": null,
            "max_width": null,
            "min_height": null,
            "min_width": null,
            "object_fit": null,
            "object_position": null,
            "order": null,
            "overflow": null,
            "overflow_x": null,
            "overflow_y": null,
            "padding": null,
            "right": null,
            "top": null,
            "visibility": null,
            "width": "20px"
          }
        },
        "c6c5aa0698944138ada25523ff702c46": {
          "model_module": "@jupyter-widgets/controls",
          "model_name": "ProgressStyleModel",
          "model_module_version": "1.5.0",
          "state": {
            "_model_module": "@jupyter-widgets/controls",
            "_model_module_version": "1.5.0",
            "_model_name": "ProgressStyleModel",
            "_view_count": null,
            "_view_module": "@jupyter-widgets/base",
            "_view_module_version": "1.2.0",
            "_view_name": "StyleView",
            "bar_color": null,
            "description_width": ""
          }
        },
        "7bb8e340211c4f76a02922f8714a328e": {
          "model_module": "@jupyter-widgets/base",
          "model_name": "LayoutModel",
          "model_module_version": "1.2.0",
          "state": {
            "_model_module": "@jupyter-widgets/base",
            "_model_module_version": "1.2.0",
            "_model_name": "LayoutModel",
            "_view_count": null,
            "_view_module": "@jupyter-widgets/base",
            "_view_module_version": "1.2.0",
            "_view_name": "LayoutView",
            "align_content": null,
            "align_items": null,
            "align_self": null,
            "border": null,
            "bottom": null,
            "display": null,
            "flex": null,
            "flex_flow": null,
            "grid_area": null,
            "grid_auto_columns": null,
            "grid_auto_flow": null,
            "grid_auto_rows": null,
            "grid_column": null,
            "grid_gap": null,
            "grid_row": null,
            "grid_template_areas": null,
            "grid_template_columns": null,
            "grid_template_rows": null,
            "height": null,
            "justify_content": null,
            "justify_items": null,
            "left": null,
            "margin": null,
            "max_height": null,
            "max_width": null,
            "min_height": null,
            "min_width": null,
            "object_fit": null,
            "object_position": null,
            "order": null,
            "overflow": null,
            "overflow_x": null,
            "overflow_y": null,
            "padding": null,
            "right": null,
            "top": null,
            "visibility": null,
            "width": null
          }
        },
        "c9392a8927c84650b5d49d761972884a": {
          "model_module": "@jupyter-widgets/controls",
          "model_name": "DescriptionStyleModel",
          "model_module_version": "1.5.0",
          "state": {
            "_model_module": "@jupyter-widgets/controls",
            "_model_module_version": "1.5.0",
            "_model_name": "DescriptionStyleModel",
            "_view_count": null,
            "_view_module": "@jupyter-widgets/base",
            "_view_module_version": "1.2.0",
            "_view_name": "StyleView",
            "description_width": ""
          }
        },
        "af9489a495154207aeeeb4d375d1dc80": {
          "model_module": "@jupyter-widgets/controls",
          "model_name": "HBoxModel",
          "model_module_version": "1.5.0",
          "state": {
            "_dom_classes": [],
            "_model_module": "@jupyter-widgets/controls",
            "_model_module_version": "1.5.0",
            "_model_name": "HBoxModel",
            "_view_count": null,
            "_view_module": "@jupyter-widgets/controls",
            "_view_module_version": "1.5.0",
            "_view_name": "HBoxView",
            "box_style": "",
            "children": [
              "IPY_MODEL_fc9b710200514ca0a126672edfb64d88",
              "IPY_MODEL_ddf2e5b9bab746fca81a070af249966e",
              "IPY_MODEL_fcabdc463b6b4d9f84fcade312b44522"
            ],
            "layout": "IPY_MODEL_ad38df8abd274b36ad433bdb02aa7318"
          }
        },
        "fc9b710200514ca0a126672edfb64d88": {
          "model_module": "@jupyter-widgets/controls",
          "model_name": "HTMLModel",
          "model_module_version": "1.5.0",
          "state": {
            "_dom_classes": [],
            "_model_module": "@jupyter-widgets/controls",
            "_model_module_version": "1.5.0",
            "_model_name": "HTMLModel",
            "_view_count": null,
            "_view_module": "@jupyter-widgets/controls",
            "_view_module_version": "1.5.0",
            "_view_name": "HTMLView",
            "description": "",
            "description_tooltip": null,
            "layout": "IPY_MODEL_71b522a90b444426837187b5267671bb",
            "placeholder": "​",
            "style": "IPY_MODEL_c62c310760dd4793ae3139720e885164",
            "value": "Downloading model.safetensors: 100%"
          }
        },
        "ddf2e5b9bab746fca81a070af249966e": {
          "model_module": "@jupyter-widgets/controls",
          "model_name": "FloatProgressModel",
          "model_module_version": "1.5.0",
          "state": {
            "_dom_classes": [],
            "_model_module": "@jupyter-widgets/controls",
            "_model_module_version": "1.5.0",
            "_model_name": "FloatProgressModel",
            "_view_count": null,
            "_view_module": "@jupyter-widgets/controls",
            "_view_module_version": "1.5.0",
            "_view_name": "ProgressView",
            "bar_style": "success",
            "description": "",
            "description_tooltip": null,
            "layout": "IPY_MODEL_244bfd688b9f40d8a53e58d902de3e44",
            "max": 435755784,
            "min": 0,
            "orientation": "horizontal",
            "style": "IPY_MODEL_c76b6765a6f843f0a37c1f708b299a01",
            "value": 435755784
          }
        },
        "fcabdc463b6b4d9f84fcade312b44522": {
          "model_module": "@jupyter-widgets/controls",
          "model_name": "HTMLModel",
          "model_module_version": "1.5.0",
          "state": {
            "_dom_classes": [],
            "_model_module": "@jupyter-widgets/controls",
            "_model_module_version": "1.5.0",
            "_model_name": "HTMLModel",
            "_view_count": null,
            "_view_module": "@jupyter-widgets/controls",
            "_view_module_version": "1.5.0",
            "_view_name": "HTMLView",
            "description": "",
            "description_tooltip": null,
            "layout": "IPY_MODEL_59dfc36831334e8483ff2bf9d854f609",
            "placeholder": "​",
            "style": "IPY_MODEL_5a80d1fca3cb43e1b7db6b3844488802",
            "value": " 436M/436M [00:05&lt;00:00, 152MB/s]"
          }
        },
        "ad38df8abd274b36ad433bdb02aa7318": {
          "model_module": "@jupyter-widgets/base",
          "model_name": "LayoutModel",
          "model_module_version": "1.2.0",
          "state": {
            "_model_module": "@jupyter-widgets/base",
            "_model_module_version": "1.2.0",
            "_model_name": "LayoutModel",
            "_view_count": null,
            "_view_module": "@jupyter-widgets/base",
            "_view_module_version": "1.2.0",
            "_view_name": "LayoutView",
            "align_content": null,
            "align_items": null,
            "align_self": null,
            "border": null,
            "bottom": null,
            "display": null,
            "flex": null,
            "flex_flow": null,
            "grid_area": null,
            "grid_auto_columns": null,
            "grid_auto_flow": null,
            "grid_auto_rows": null,
            "grid_column": null,
            "grid_gap": null,
            "grid_row": null,
            "grid_template_areas": null,
            "grid_template_columns": null,
            "grid_template_rows": null,
            "height": null,
            "justify_content": null,
            "justify_items": null,
            "left": null,
            "margin": null,
            "max_height": null,
            "max_width": null,
            "min_height": null,
            "min_width": null,
            "object_fit": null,
            "object_position": null,
            "order": null,
            "overflow": null,
            "overflow_x": null,
            "overflow_y": null,
            "padding": null,
            "right": null,
            "top": null,
            "visibility": null,
            "width": null
          }
        },
        "71b522a90b444426837187b5267671bb": {
          "model_module": "@jupyter-widgets/base",
          "model_name": "LayoutModel",
          "model_module_version": "1.2.0",
          "state": {
            "_model_module": "@jupyter-widgets/base",
            "_model_module_version": "1.2.0",
            "_model_name": "LayoutModel",
            "_view_count": null,
            "_view_module": "@jupyter-widgets/base",
            "_view_module_version": "1.2.0",
            "_view_name": "LayoutView",
            "align_content": null,
            "align_items": null,
            "align_self": null,
            "border": null,
            "bottom": null,
            "display": null,
            "flex": null,
            "flex_flow": null,
            "grid_area": null,
            "grid_auto_columns": null,
            "grid_auto_flow": null,
            "grid_auto_rows": null,
            "grid_column": null,
            "grid_gap": null,
            "grid_row": null,
            "grid_template_areas": null,
            "grid_template_columns": null,
            "grid_template_rows": null,
            "height": null,
            "justify_content": null,
            "justify_items": null,
            "left": null,
            "margin": null,
            "max_height": null,
            "max_width": null,
            "min_height": null,
            "min_width": null,
            "object_fit": null,
            "object_position": null,
            "order": null,
            "overflow": null,
            "overflow_x": null,
            "overflow_y": null,
            "padding": null,
            "right": null,
            "top": null,
            "visibility": null,
            "width": null
          }
        },
        "c62c310760dd4793ae3139720e885164": {
          "model_module": "@jupyter-widgets/controls",
          "model_name": "DescriptionStyleModel",
          "model_module_version": "1.5.0",
          "state": {
            "_model_module": "@jupyter-widgets/controls",
            "_model_module_version": "1.5.0",
            "_model_name": "DescriptionStyleModel",
            "_view_count": null,
            "_view_module": "@jupyter-widgets/base",
            "_view_module_version": "1.2.0",
            "_view_name": "StyleView",
            "description_width": ""
          }
        },
        "244bfd688b9f40d8a53e58d902de3e44": {
          "model_module": "@jupyter-widgets/base",
          "model_name": "LayoutModel",
          "model_module_version": "1.2.0",
          "state": {
            "_model_module": "@jupyter-widgets/base",
            "_model_module_version": "1.2.0",
            "_model_name": "LayoutModel",
            "_view_count": null,
            "_view_module": "@jupyter-widgets/base",
            "_view_module_version": "1.2.0",
            "_view_name": "LayoutView",
            "align_content": null,
            "align_items": null,
            "align_self": null,
            "border": null,
            "bottom": null,
            "display": null,
            "flex": null,
            "flex_flow": null,
            "grid_area": null,
            "grid_auto_columns": null,
            "grid_auto_flow": null,
            "grid_auto_rows": null,
            "grid_column": null,
            "grid_gap": null,
            "grid_row": null,
            "grid_template_areas": null,
            "grid_template_columns": null,
            "grid_template_rows": null,
            "height": null,
            "justify_content": null,
            "justify_items": null,
            "left": null,
            "margin": null,
            "max_height": null,
            "max_width": null,
            "min_height": null,
            "min_width": null,
            "object_fit": null,
            "object_position": null,
            "order": null,
            "overflow": null,
            "overflow_x": null,
            "overflow_y": null,
            "padding": null,
            "right": null,
            "top": null,
            "visibility": null,
            "width": null
          }
        },
        "c76b6765a6f843f0a37c1f708b299a01": {
          "model_module": "@jupyter-widgets/controls",
          "model_name": "ProgressStyleModel",
          "model_module_version": "1.5.0",
          "state": {
            "_model_module": "@jupyter-widgets/controls",
            "_model_module_version": "1.5.0",
            "_model_name": "ProgressStyleModel",
            "_view_count": null,
            "_view_module": "@jupyter-widgets/base",
            "_view_module_version": "1.2.0",
            "_view_name": "StyleView",
            "bar_color": null,
            "description_width": ""
          }
        },
        "59dfc36831334e8483ff2bf9d854f609": {
          "model_module": "@jupyter-widgets/base",
          "model_name": "LayoutModel",
          "model_module_version": "1.2.0",
          "state": {
            "_model_module": "@jupyter-widgets/base",
            "_model_module_version": "1.2.0",
            "_model_name": "LayoutModel",
            "_view_count": null,
            "_view_module": "@jupyter-widgets/base",
            "_view_module_version": "1.2.0",
            "_view_name": "LayoutView",
            "align_content": null,
            "align_items": null,
            "align_self": null,
            "border": null,
            "bottom": null,
            "display": null,
            "flex": null,
            "flex_flow": null,
            "grid_area": null,
            "grid_auto_columns": null,
            "grid_auto_flow": null,
            "grid_auto_rows": null,
            "grid_column": null,
            "grid_gap": null,
            "grid_row": null,
            "grid_template_areas": null,
            "grid_template_columns": null,
            "grid_template_rows": null,
            "height": null,
            "justify_content": null,
            "justify_items": null,
            "left": null,
            "margin": null,
            "max_height": null,
            "max_width": null,
            "min_height": null,
            "min_width": null,
            "object_fit": null,
            "object_position": null,
            "order": null,
            "overflow": null,
            "overflow_x": null,
            "overflow_y": null,
            "padding": null,
            "right": null,
            "top": null,
            "visibility": null,
            "width": null
          }
        },
        "5a80d1fca3cb43e1b7db6b3844488802": {
          "model_module": "@jupyter-widgets/controls",
          "model_name": "DescriptionStyleModel",
          "model_module_version": "1.5.0",
          "state": {
            "_model_module": "@jupyter-widgets/controls",
            "_model_module_version": "1.5.0",
            "_model_name": "DescriptionStyleModel",
            "_view_count": null,
            "_view_module": "@jupyter-widgets/base",
            "_view_module_version": "1.2.0",
            "_view_name": "StyleView",
            "description_width": ""
          }
        }
      }
    }
  },
  "nbformat": 4,
  "nbformat_minor": 0
}